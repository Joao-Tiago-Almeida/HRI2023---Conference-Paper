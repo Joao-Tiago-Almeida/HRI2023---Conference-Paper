{
 "cells": [
  {
   "cell_type": "code",
   "execution_count": 1,
   "metadata": {},
   "outputs": [],
   "source": [
    "import pandas as pd\n",
    "import seaborn as sns\n",
    "import matplotlib.pyplot as plt\n",
    "\n",
    "# Set the general theme for the figures\n",
    "sns.set(font_scale = 1.2)\n",
    "sns.set_style(\"whitegrid\")\n",
    "sns.set_palette(palette = \"hls\", desat = 1)# n_colors = 3,"
   ]
  },
  {
   "cell_type": "markdown",
   "metadata": {},
   "source": [
    "# Statistical Functions"
   ]
  },
  {
   "cell_type": "code",
   "execution_count": 2,
   "metadata": {},
   "outputs": [],
   "source": [
    "from scipy.stats import f_oneway\n",
    "from statsmodels.stats.multicomp import pairwise_tukeyhsd\n",
    "from scipy.stats import ttest_ind\n",
    "from scipy.stats import chi2_contingency"
   ]
  },
  {
   "cell_type": "code",
   "execution_count": 82,
   "metadata": {},
   "outputs": [],
   "source": [
    "def tukey(df, metric, fillna = 0):\n",
    "    print(\"~~~~~~~~~~~~~~~one way ANOVA~~~~~~~~~~~~~~~\")\n",
    "    \n",
    "    if fillna==False and type(fillna)==bool: df = df.dropna(subset = [metric])\n",
    "\n",
    "    #perform one-way ANOVA\n",
    "    anova = f_oneway(\n",
    "        list(df[df[\"Condition\"]==\"OC\"][metric].fillna(fillna)),\n",
    "        list(df[df[\"Condition\"]==\"RC\"][metric].fillna(fillna)),\n",
    "        list(df[df[\"Condition\"]==\"HC\"][metric].fillna(fillna))\n",
    "    )\n",
    "\n",
    "    print(anova)\n",
    "\n",
    "    # perform Tukey's test\n",
    "    tukey = pairwise_tukeyhsd(endog=df[metric].fillna(fillna),\n",
    "                            groups=df['Condition'],\n",
    "                            alpha=0.05)\n",
    "\n",
    "    print(\"~~~~~~~~~~~~~~~~Tukey test~~~~~~~~~~~~~~~~~\")\n",
    "\n",
    "    # display results\n",
    "    print(tukey)\n",
    "   \n",
    "    # compute the starts\n",
    "    stars_boundaries = [5e-2, 1e-2, 1e-3, 1e-4]\n",
    "    stars = ['*'*list(pair<=stars_boundaries).count(True) + \" \"*list(pair<=stars_boundaries).count(False) for pair in tukey.pvalues]\n",
    "    \n",
    "    print(tukey.pvalues)\n",
    "    print(stars)\n",
    "    print(\"~~~~~~~~~~~~~~~~~~~~~~~~~~~~~~~~~~~~~~~~~~~\")\n"
   ]
  },
  {
   "cell_type": "code",
   "execution_count": 4,
   "metadata": {},
   "outputs": [],
   "source": [
    "def ttest(df, metric, equal_var=True ,fillna = 0):\n",
    "    print(\"~~~~~~~~~~~~~~~one way ANOVA~~~~~~~~~~~~~~~\")\n",
    "    \n",
    "    if fillna==False and type(fillna)==bool: df = df.dropna(subset = [metric])\n",
    "\n",
    "    #perform one-way ANOVA\n",
    "    anova = f_oneway(\n",
    "        list(df[df[\"Condition\"]==\"OC\"][metric].fillna(fillna)),\n",
    "        list(df[df[\"Condition\"]==\"RC\"][metric].fillna(fillna)),\n",
    "        list(df[df[\"Condition\"]==\"HC\"][metric].fillna(fillna))\n",
    "    )\n",
    "\n",
    "    print(anova)\n",
    "\n",
    "    print(\"~~~~~~~~~~~~~~~~~~T-test~~~~~~~~~~~~~~~~~~~~\")\n",
    "\n",
    "    print(f'HC vs OC: {ttest_ind(list(df[df[\"Condition\"]==\"HC\"][metric].fillna(fillna)),list(df[df[\"Condition\"]==\"OC\"][metric].fillna(fillna))).pvalue:.5e}')\n",
    "    print(f'HC vs RC: {ttest_ind(list(df[df[\"Condition\"]==\"HC\"][metric].fillna(fillna)),list(df[df[\"Condition\"]==\"RC\"][metric].fillna(fillna))).pvalue:.5e}')\n",
    "    print(f'OC vs RC: {ttest_ind(list(df[df[\"Condition\"]==\"OC\"][metric].fillna(fillna)),list(df[df[\"Condition\"]==\"RC\"][metric].fillna(fillna))).pvalue:.5e}')\n",
    "    print(\"~~~~~~~~~~~~~~~~~~~~~~~~~~~~~~~~~~~~~~~~~~~\")"
   ]
  },
  {
   "cell_type": "markdown",
   "metadata": {},
   "source": [
    "# Load the Dataset"
   ]
  },
  {
   "cell_type": "code",
   "execution_count": 5,
   "metadata": {},
   "outputs": [],
   "source": [
    "df = pd.read_csv('results.csv', index_col=\"Unnamed: 0\")  # TODO eliminate all unused columns"
   ]
  },
  {
   "cell_type": "markdown",
   "metadata": {},
   "source": [
    "# Perspective-Taking"
   ]
  },
  {
   "cell_type": "markdown",
   "metadata": {},
   "source": [
    "## Confirms the results of the perspective-taken by the robot in the first task."
   ]
  },
  {
   "cell_type": "markdown",
   "metadata": {},
   "source": [
    "### Histogram of the time spent in the first perspective divided by the PT condition"
   ]
  },
  {
   "cell_type": "markdown",
   "metadata": {},
   "source": [
    "Histogram"
   ]
  },
  {
   "cell_type": "code",
   "execution_count": null,
   "metadata": {},
   "outputs": [],
   "source": [
    "plt.figure(figsize=(5.0, 5.0))\n",
    "g = sns.barplot(\n",
    "    data=df.fillna(0),\n",
    "    x=\"Condition\",\n",
    "    y=\"Perspective taking task time [min]\",\n",
    "    capsize = 0.25\n",
    ")\n",
    "plt.savefig(\"figures/PT time histogram.pdf\",bbox_inches='tight')"
   ]
  },
  {
   "cell_type": "markdown",
   "metadata": {},
   "source": [
    "ANOVA and Tukey statistical tests on the time spent in the PT by each condition"
   ]
  },
  {
   "cell_type": "code",
   "execution_count": null,
   "metadata": {},
   "outputs": [],
   "source": [
    "tukey(df, \"Perspective taking task time [min]\")"
   ]
  },
  {
   "cell_type": "markdown",
   "metadata": {},
   "source": [
    "### Heat map: conditoin versus reverse condition"
   ]
  },
  {
   "cell_type": "markdown",
   "metadata": {},
   "source": [
    "Create a CMAP from a discret pallet, highlightning the transition red -> yellow representing the small values. Why? Because in the heatmap, the total column has high values, and by increasing the contrast before in the continous scale, I'm adding more contrast in on the heatmap per se."
   ]
  },
  {
   "cell_type": "code",
   "execution_count": 9,
   "metadata": {},
   "outputs": [],
   "source": [
    "from matplotlib.colors import ListedColormap\n",
    "\n",
    "colorarray = list(sns.hls_palette()[:3])\n",
    "increment = [[colorarray[1][0]-colorarray[0][0], colorarray[1][1]-colorarray[0][1], colorarray[1][2]-colorarray[0][2]],[colorarray[2][0]-colorarray[1][0], colorarray[2][1]-colorarray[1][1], colorarray[2][2]-colorarray[1][2]]]\n",
    "threshold = 49.0    # to control each increment is more significative in the continuous map\n",
    "for i in range(98):\n",
    "    if i < threshold: colorarray.insert(i+1,[colorarray[i][j]+increment[0][j]/threshold for j in range(3)]) # between red and yellow\n",
    "    else: colorarray.insert(i+2,[colorarray[i+1][j]+increment[1][j]/(98-threshold) for j in range(3)]) # between yellow and green\n",
    "\n",
    "cmap = ListedColormap(colorarray)"
   ]
  },
  {
   "cell_type": "markdown",
   "metadata": {},
   "source": [
    "Heatmap"
   ]
  },
  {
   "cell_type": "code",
   "execution_count": 10,
   "metadata": {},
   "outputs": [
    {
     "data": {
      "image/png": "[encoded data removed]",
      "text/plain": [
       "<Figure size 360x360 with 2 Axes>"
      ]
     },
     "metadata": {},
     "output_type": "display_data"
    }
   ],
   "source": [
    "df_aux = df[[\"Condition\", \"If you were to tell the robot to pick up the objects how would you do it?\"]].value_counts().copy()\n",
    "df_heatmap = pd.DataFrame(columns=[\"Condition\", \"Perspective chosen for inverse roles\", 'Occurrences'], dtype=\"float\")\n",
    "for condition_pair, occupance, in df_aux.iteritems():\n",
    "    ideal_condition = \"addressee-centric\" if \"your\" in condition_pair[1] else \"egocentric\" if \"my\" in condition_pair[1] else \"object-centric\"\n",
    "    df_heatmap = df_heatmap.append({\n",
    "        \"Condition\": condition_pair[0],\n",
    "        \"Perspective chosen for inverse roles\": ideal_condition,\n",
    "        'Occurrences': occupance},\n",
    "        ignore_index=True)\n",
    "\n",
    "total = df_heatmap[[\"Perspective chosen for inverse roles\", \"Occurrences\"]].groupby(\"Perspective chosen for inverse roles\").sum().to_dict()[\"Occurrences\"]\n",
    "for key, value in total.items():\n",
    "    df_heatmap = df_heatmap.append({\n",
    "        \"Condition\": \"total\",\n",
    "        \"Perspective chosen for inverse roles\": key,\n",
    "        'Occurrences': value},\n",
    "        ignore_index=True)\n",
    "\n",
    "df_heatmap = df_heatmap.pivot(\"Perspective chosen for inverse roles\", \"Condition\", \"Occurrences\")\n",
    "# sorting\n",
    "df_heatmap = df_heatmap[[\"OC\", \"RC\", \"HC\"]]#, \"total\"\n",
    "df_heatmap = df_heatmap.reindex([\"object-centric\", \"egocentric\", \"addressee-centric\"])\n",
    "df_heatmap.rename(columns = {\"OC\":\"OC\\n(object-\\n-centric)\", \"RC\": \"RC\\n(egocentric)\", \"HC\": \"HC\\n(adressee-\\n-centric)\"}, inplace = True)\n",
    "\n",
    "plt.figure(figsize=(5.0, 5.0))\n",
    "ax = sns.heatmap(df_heatmap, annot=True, cmap = cmap, square=\"True\", cbar_kws={\"extend\": \"both\", \"shrink\": 0.8}, robust=True, linewidths=0.05)\n",
    "ax.axvline(3, color='white', lw=8)\n",
    "plt.yticks(rotation=0)\n",
    "plt.savefig(f\"figures/Condition_chosen_for_inverse_roles.pdf\",bbox_inches='tight')"
   ]
  },
  {
   "cell_type": "markdown",
   "metadata": {},
   "source": [
    "Chi-square test on the Perspective chosen by condition"
   ]
  },
  {
   "cell_type": "code",
   "execution_count": 11,
   "metadata": {},
   "outputs": [
    {
     "name": "stdout",
     "output_type": "stream",
     "text": [
      "(9.981176470588235, 0.04074595837884791, 4, array([[11.33333333, 11.33333333, 11.33333333],\n",
      "       [ 3.33333333,  3.33333333,  3.33333333],\n",
      "       [ 8.33333333,  8.33333333,  8.33333333]]))\n",
      "(5.9218045112781965, 0.051772184348142326, 2, array([[ 9.5,  9.5],\n",
      "       [ 3.5,  3.5],\n",
      "       [10. , 10. ]]))\n",
      "(8.1203007518797, 0.017246425472900912, 2, array([[10.5, 10.5],\n",
      "       [ 3. ,  3. ],\n",
      "       [ 9.5,  9.5]]))\n",
      "(0.37662337662337664, 0.8283564779591569, 2, array([[14. , 14. ],\n",
      "       [ 3.5,  3.5],\n",
      "       [ 5.5,  5.5]]))\n"
     ]
    }
   ],
   "source": [
    "\n",
    "print(chi2_contingency(df_heatmap))\n",
    "print(chi2_contingency(df_heatmap[[\"OC\\n(object-\\n-centric)\", \"RC\\n(egocentric)\"]]))\n",
    "print(chi2_contingency(df_heatmap[[\"HC\\n(adressee-\\n-centric)\", \"RC\\n(egocentric)\"]]))\n",
    "print(chi2_contingency(df_heatmap[[\"HC\\n(adressee-\\n-centric)\", \"OC\\n(object-\\n-centric)\"]]))"
   ]
  },
  {
   "cell_type": "markdown",
   "metadata": {},
   "source": [
    "## Personal Traits on answering the question: Do you think the manner the robot addressed the object influenced how much time you spent helping it?"
   ]
  },
  {
   "cell_type": "markdown",
   "metadata": {},
   "source": [
    "ANOVA and tuukey tests on the answers to the question by group"
   ]
  },
  {
   "cell_type": "code",
   "execution_count": null,
   "metadata": {},
   "outputs": [],
   "source": [
    "tukey(df, \"Do you think the manner the robot addressed the object influenced how much time you spent helping it?\")"
   ]
  },
  {
   "cell_type": "markdown",
   "metadata": {},
   "source": [
    "### Perspective-Taking Scale"
   ]
  },
  {
   "cell_type": "markdown",
   "metadata": {},
   "source": [
    "2D Inference"
   ]
  },
  {
   "cell_type": "code",
   "execution_count": null,
   "metadata": {},
   "outputs": [],
   "source": [
    "plt.figure(figsize=(7.0, 7.0))\n",
    "g = sns.lmplot(\n",
    "    x=\"Perspective-Taking Scale\",\n",
    "    y=\"Do you think the manner the robot addressed the object influenced how much time you spent helping it?\",\n",
    "    hue='Condition',\n",
    "    data=df.fillna(1),\n",
    "    robust=True,\n",
    "    facet_kws = {\"legend_out\" : False},\n",
    "    scatter=False\n",
    "    )\n",
    "g.set(ylabel=\"Participants rating from 1 to 7\")\n",
    "g.set(ylim=(0.5, 7.5))\n",
    "plt.savefig(f\"figures/PT scale on influence.pdf\",bbox_inches='tight')"
   ]
  },
  {
   "cell_type": "markdown",
   "metadata": {},
   "source": [
    "Statistical analyses"
   ]
  },
  {
   "cell_type": "code",
   "execution_count": null,
   "metadata": {},
   "outputs": [],
   "source": [
    "tukey(df, \"Perspective-Taking Scale\")"
   ]
  },
  {
   "cell_type": "markdown",
   "metadata": {},
   "source": [
    "### Empathic Concern Scale"
   ]
  },
  {
   "cell_type": "markdown",
   "metadata": {},
   "source": [
    "2D Inference"
   ]
  },
  {
   "cell_type": "code",
   "execution_count": null,
   "metadata": {},
   "outputs": [],
   "source": [
    "plt.figure(figsize=(7.0, 7.0))\n",
    "g = sns.lmplot(\n",
    "    x=\"Empathic Concern Scale\",\n",
    "    y=\"Do you think the manner the robot addressed the object influenced how much time you spent helping it?\",\n",
    "    hue='Condition',\n",
    "    data=df.fillna(1),\n",
    "    robust=True,\n",
    "    facet_kws = {\"legend_out\" : False},\n",
    "    scatter=False\n",
    "    )\n",
    "g.set(ylabel=\"Participants rating from 1 to 7\")\n",
    "g.set(ylim=(0.5, 7.5))\n",
    "plt.savefig(f\"figures/Empathic Concern scale on influence.pdf\",bbox_inches='tight')"
   ]
  },
  {
   "cell_type": "markdown",
   "metadata": {},
   "source": [
    "Statistical analyses"
   ]
  },
  {
   "cell_type": "code",
   "execution_count": null,
   "metadata": {},
   "outputs": [],
   "source": [
    "tukey(df, \"Empathic Concern Scale\")"
   ]
  },
  {
   "cell_type": "markdown",
   "metadata": {},
   "source": [
    "### Fantasy Scale"
   ]
  },
  {
   "cell_type": "markdown",
   "metadata": {},
   "source": [
    "Statistical analyses"
   ]
  },
  {
   "cell_type": "code",
   "execution_count": null,
   "metadata": {},
   "outputs": [],
   "source": [
    "tukey(df, \"Fantasy Scale\")"
   ]
  },
  {
   "cell_type": "markdown",
   "metadata": {},
   "source": [
    "# Prosocial Behavior"
   ]
  },
  {
   "cell_type": "markdown",
   "metadata": {},
   "source": [
    "## Analysis of the number of sentences read"
   ]
  },
  {
   "cell_type": "markdown",
   "metadata": {},
   "source": [
    "### Prosocial Behavior metrics correlation"
   ]
  },
  {
   "cell_type": "code",
   "execution_count": 6,
   "metadata": {},
   "outputs": [
    {
     "data": {
      "text/html": [
       "<div>\n",
       "<style scoped>\n",
       "    .dataframe tbody tr th:only-of-type {\n",
       "        vertical-align: middle;\n",
       "    }\n",
       "\n",
       "    .dataframe tbody tr th {\n",
       "        vertical-align: top;\n",
       "    }\n",
       "\n",
       "    .dataframe thead th {\n",
       "        text-align: right;\n",
       "    }\n",
       "</style>\n",
       "<table border=\"1\" class=\"dataframe\">\n",
       "  <thead>\n",
       "    <tr style=\"text-align: right;\">\n",
       "      <th></th>\n",
       "      <th>Number of sentences read</th>\n",
       "      <th>Prosocial behaviour time [min]</th>\n",
       "      <th>Sentences read prior guess</th>\n",
       "    </tr>\n",
       "  </thead>\n",
       "  <tbody>\n",
       "    <tr>\n",
       "      <th>Number of sentences read</th>\n",
       "      <td>1.000000</td>\n",
       "      <td>0.900477</td>\n",
       "      <td>0.728879</td>\n",
       "    </tr>\n",
       "    <tr>\n",
       "      <th>Prosocial behaviour time [min]</th>\n",
       "      <td>0.900477</td>\n",
       "      <td>1.000000</td>\n",
       "      <td>0.683100</td>\n",
       "    </tr>\n",
       "    <tr>\n",
       "      <th>Sentences read prior guess</th>\n",
       "      <td>0.728879</td>\n",
       "      <td>0.683100</td>\n",
       "      <td>1.000000</td>\n",
       "    </tr>\n",
       "  </tbody>\n",
       "</table>\n",
       "</div>"
      ],
      "text/plain": [
       "                                Number of sentences read  \\\n",
       "Number of sentences read                        1.000000   \n",
       "Prosocial behaviour time [min]                  0.900477   \n",
       "Sentences read prior guess                      0.728879   \n",
       "\n",
       "                                Prosocial behaviour time [min]  \\\n",
       "Number of sentences read                              0.900477   \n",
       "Prosocial behaviour time [min]                        1.000000   \n",
       "Sentences read prior guess                            0.683100   \n",
       "\n",
       "                                Sentences read prior guess  \n",
       "Number of sentences read                          0.728879  \n",
       "Prosocial behaviour time [min]                    0.683100  \n",
       "Sentences read prior guess                        1.000000  "
      ]
     },
     "execution_count": 6,
     "metadata": {},
     "output_type": "execute_result"
    }
   ],
   "source": [
    "df[[\"Number of sentences read\", \"Prosocial behaviour time [min]\", \"Sentences read prior guess\"]].fillna(0).corr()"
   ]
  },
  {
   "cell_type": "code",
   "execution_count": 31,
   "metadata": {},
   "outputs": [
    {
     "name": "stdout",
     "output_type": "stream",
     "text": [
      "Chi-square test between RC and OC: F(67,1) = 3.86013986013986 p=0.04944620640974752\n",
      "Chi-square test between HC and OC: F(67,1) = 1.4263565891472867 p=0.2323599665792103\n"
     ]
    }
   ],
   "source": [
    "x = chi2_contingency(pd.crosstab(df[df[\"Condition\"]!=\"HC\"][\"Condition\"], df[\"Did you read sentences to the robot?\"]))\n",
    "print(f\"Chi-square test between RC and OC: F(67,1) = {x[0]} p={x[1]}\")\n",
    "x = chi2_contingency(pd.crosstab(df[df[\"Condition\"]!=\"RC\"][\"Condition\"], df[\"Did you read sentences to the robot?\"]))\n",
    "print(f\"Chi-square test between HC and OC: F(67,1) = {x[0]} p={x[1]}\")"
   ]
  },
  {
   "cell_type": "markdown",
   "metadata": {},
   "source": [
    "### Histogram of the sentences read by group"
   ]
  },
  {
   "cell_type": "markdown",
   "metadata": {},
   "source": [
    "Histogram"
   ]
  },
  {
   "cell_type": "code",
   "execution_count": null,
   "metadata": {},
   "outputs": [],
   "source": [
    "plt.figure(figsize=(5.0, 5.0))\n",
    "g = sns.barplot(\n",
    "    data=df.fillna(0),\n",
    "    x=\"Condition\",\n",
    "    y=\"Number of sentences read\",\n",
    "    capsize = 0.25\n",
    ")\n",
    "plt.savefig(\"figures/PT time on sentences read histogram.pdf\",bbox_inches='tight')  "
   ]
  },
  {
   "cell_type": "markdown",
   "metadata": {},
   "source": [
    "Statistical Analyses"
   ]
  },
  {
   "cell_type": "code",
   "execution_count": null,
   "metadata": {},
   "outputs": [],
   "source": [
    "ttest(df, \"Number of sentences read\")"
   ]
  },
  {
   "cell_type": "markdown",
   "metadata": {},
   "source": [
    "### Inference of the time spent on the PT task on the sentences read"
   ]
  },
  {
   "cell_type": "markdown",
   "metadata": {},
   "source": [
    "2D Inference"
   ]
  },
  {
   "cell_type": "code",
   "execution_count": null,
   "metadata": {},
   "outputs": [],
   "source": [
    "plt.figure(figsize=(7.0, 7.0))\n",
    "g = sns.lmplot(\n",
    "    x=\"Perspective taking task time [min]\",\n",
    "    y=\"Number of sentences read\",\n",
    "    hue='Condition',\n",
    "    data=df.fillna(0),\n",
    "    robust=True,\n",
    "    facet_kws = {\"legend_out\" : False},\n",
    "    scatter=False\n",
    "    )\n",
    "g.set(ylim=(0, None))\n",
    "\n",
    "plt.savefig(f\"figures/PT time on sentences read.pdf\",bbox_inches='tight')"
   ]
  },
  {
   "cell_type": "code",
   "execution_count": null,
   "metadata": {},
   "outputs": [],
   "source": [
    "df[[\"Number of sentences read\", \"Prosocial behaviour time [min]\", \"Sentences read prior guess\",\"Perspective taking task time [min]\"]].fillna(0).corr()"
   ]
  },
  {
   "cell_type": "markdown",
   "metadata": {},
   "source": [
    "## Possible confounding effects caused by different perspective on reading sentences"
   ]
  },
  {
   "cell_type": "markdown",
   "metadata": {},
   "source": [
    "### Difficulty on following the instructions"
   ]
  },
  {
   "cell_type": "markdown",
   "metadata": {},
   "source": [
    "2D Inference"
   ]
  },
  {
   "cell_type": "code",
   "execution_count": null,
   "metadata": {},
   "outputs": [],
   "source": [
    "plt.figure(figsize=(7.0, 7.0))\n",
    "g = sns.lmplot(\n",
    "    x=\"Instructions easy to follow [1-7]\",\n",
    "    y=\"Number of sentences read\",\n",
    "    hue='Condition',\n",
    "    data=df.fillna(0),\n",
    "    robust=True,\n",
    "    facet_kws = {\"legend_out\" : False},\n",
    "    scatter=False\n",
    "    )\n",
    "g.set(ylim=(0, None))\n",
    "plt.savefig(f\"figures/Instruction difficulty on sentences read.pdf\",bbox_inches='tight')"
   ]
  },
  {
   "cell_type": "markdown",
   "metadata": {},
   "source": [
    "Statistical analyses"
   ]
  },
  {
   "cell_type": "code",
   "execution_count": null,
   "metadata": {},
   "outputs": [],
   "source": [
    "tukey(df, \"Instructions easy to follow [1-7]\")"
   ]
  },
  {
   "cell_type": "markdown",
   "metadata": {},
   "source": [
    "### Need the robot for collecting speech data"
   ]
  },
  {
   "cell_type": "markdown",
   "metadata": {},
   "source": [
    "2D Inference"
   ]
  },
  {
   "cell_type": "code",
   "execution_count": null,
   "metadata": {},
   "outputs": [],
   "source": [
    "plt.figure(figsize=(7.0, 7.0))\n",
    "g = sns.lmplot(\n",
    "    x=\"Need for collecting data [1-7]\",\n",
    "    y=\"Number of sentences read\",\n",
    "    hue='Condition',\n",
    "    data=df.fillna(0),\n",
    "    robust=True,\n",
    "    facet_kws = {\"legend_out\" : False},\n",
    "    scatter=False\n",
    "    )\n",
    "g.set(ylim=(0, None))\n",
    "plt.savefig(f\"figures/Need data on sentences read.pdf\",bbox_inches='tight')"
   ]
  },
  {
   "cell_type": "markdown",
   "metadata": {},
   "source": [
    "Statistical analyses"
   ]
  },
  {
   "cell_type": "code",
   "execution_count": null,
   "metadata": {},
   "outputs": [],
   "source": [
    "tukey(df, \"Need for collecting data [1-7]\")"
   ]
  },
  {
   "cell_type": "code",
   "execution_count": null,
   "metadata": {},
   "outputs": [],
   "source": [
    "df[[\"Number of sentences read\", \"Need for collecting data [1-7]\"]].fillna(0).corr()"
   ]
  },
  {
   "cell_type": "markdown",
   "metadata": {},
   "source": [
    "# Numerical Analysis"
   ]
  },
  {
   "cell_type": "markdown",
   "metadata": {},
   "source": [
    "Setences read per each condition"
   ]
  },
  {
   "cell_type": "code",
   "execution_count": null,
   "metadata": {},
   "outputs": [],
   "source": [
    "df[[\"Condition\", \"Number of sentences read\"]].fillna(0).groupby(\"Condition\")[\"Number of sentences read\"].mean()"
   ]
  },
  {
   "cell_type": "markdown",
   "metadata": {},
   "source": [
    "# Extras"
   ]
  },
  {
   "cell_type": "code",
   "execution_count": 32,
   "metadata": {},
   "outputs": [
    {
     "name": "stderr",
     "output_type": "stream",
     "text": [
      "/Library/Frameworks/Python.framework/Versions/3.7/lib/python3.7/site-packages/outdated/utils.py:18: OutdatedPackageWarning: The package pingouin is out of date. Your version is 0.5.1, the latest is 0.5.2.\n",
      "Set the environment variable OUTDATED_IGNORE=1 to disable these warnings.\n",
      "  **kwargs\n"
     ]
    }
   ],
   "source": [
    "from pingouin import mediation_analysis, read_dataset"
   ]
  },
  {
   "cell_type": "code",
   "execution_count": 72,
   "metadata": {},
   "outputs": [
    {
     "data": {
      "text/html": [
       "<div>\n",
       "<style scoped>\n",
       "    .dataframe tbody tr th:only-of-type {\n",
       "        vertical-align: middle;\n",
       "    }\n",
       "\n",
       "    .dataframe tbody tr th {\n",
       "        vertical-align: top;\n",
       "    }\n",
       "\n",
       "    .dataframe thead th {\n",
       "        text-align: right;\n",
       "    }\n",
       "</style>\n",
       "<table border=\"1\" class=\"dataframe\">\n",
       "  <thead>\n",
       "    <tr style=\"text-align: right;\">\n",
       "      <th></th>\n",
       "      <th>path</th>\n",
       "      <th>coef</th>\n",
       "      <th>se</th>\n",
       "      <th>pval</th>\n",
       "      <th>CI[2.5%]</th>\n",
       "      <th>CI[97.5%]</th>\n",
       "      <th>sig</th>\n",
       "    </tr>\n",
       "  </thead>\n",
       "  <tbody>\n",
       "    <tr>\n",
       "      <th>0</th>\n",
       "      <td>Total mistakes ~ X</td>\n",
       "      <td>6.498419</td>\n",
       "      <td>0.448903</td>\n",
       "      <td>2.624366e-22</td>\n",
       "      <td>5.602405</td>\n",
       "      <td>7.394432</td>\n",
       "      <td>Yes</td>\n",
       "    </tr>\n",
       "    <tr>\n",
       "      <th>1</th>\n",
       "      <td>Y ~ Total mistakes</td>\n",
       "      <td>-1.439266</td>\n",
       "      <td>0.470168</td>\n",
       "      <td>3.171112e-03</td>\n",
       "      <td>-2.377726</td>\n",
       "      <td>-0.500806</td>\n",
       "      <td>Yes</td>\n",
       "    </tr>\n",
       "    <tr>\n",
       "      <th>2</th>\n",
       "      <td>Total</td>\n",
       "      <td>-9.555001</td>\n",
       "      <td>3.560924</td>\n",
       "      <td>9.175037e-03</td>\n",
       "      <td>-16.662636</td>\n",
       "      <td>-2.447366</td>\n",
       "      <td>Yes</td>\n",
       "    </tr>\n",
       "    <tr>\n",
       "      <th>3</th>\n",
       "      <td>Direct</td>\n",
       "      <td>-0.834001</td>\n",
       "      <td>7.184238</td>\n",
       "      <td>9.079357e-01</td>\n",
       "      <td>-15.177794</td>\n",
       "      <td>13.509793</td>\n",
       "      <td>No</td>\n",
       "    </tr>\n",
       "    <tr>\n",
       "      <th>4</th>\n",
       "      <td>Indirect</td>\n",
       "      <td>-8.721000</td>\n",
       "      <td>4.350123</td>\n",
       "      <td>8.000000e-03</td>\n",
       "      <td>-17.564182</td>\n",
       "      <td>-1.242873</td>\n",
       "      <td>Yes</td>\n",
       "    </tr>\n",
       "  </tbody>\n",
       "</table>\n",
       "</div>"
      ],
      "text/plain": [
       "                 path      coef        se          pval   CI[2.5%]  CI[97.5%]  \\\n",
       "0  Total mistakes ~ X  6.498419  0.448903  2.624366e-22   5.602405   7.394432   \n",
       "1  Y ~ Total mistakes -1.439266  0.470168  3.171112e-03  -2.377726  -0.500806   \n",
       "2               Total -9.555001  3.560924  9.175037e-03 -16.662636  -2.447366   \n",
       "3              Direct -0.834001  7.184238  9.079357e-01 -15.177794  13.509793   \n",
       "4            Indirect -8.721000  4.350123  8.000000e-03 -17.564182  -1.242873   \n",
       "\n",
       "   sig  \n",
       "0  Yes  \n",
       "1  Yes  \n",
       "2  Yes  \n",
       "3   No  \n",
       "4  Yes  "
      ]
     },
     "execution_count": 72,
     "metadata": {},
     "output_type": "execute_result"
    }
   ],
   "source": [
    "mediation_analysis(data=df.fillna(0), x='Total scanning time [min]', m='Total mistakes', y='Number of sentences read')"
   ]
  },
  {
   "cell_type": "code",
   "execution_count": 83,
   "metadata": {},
   "outputs": [
    {
     "name": "stdout",
     "output_type": "stream",
     "text": [
      "~~~~~~~~~~~~~~~one way ANOVA~~~~~~~~~~~~~~~\n",
      "F_onewayResult(statistic=3.319843978547051, pvalue=0.042287193837986056)\n",
      "~~~~~~~~~~~~~~~~Tukey test~~~~~~~~~~~~~~~~~\n",
      "Multiple Comparison of Means - Tukey HSD, FWER=0.05 \n",
      "====================================================\n",
      "group1 group2 meandiff p-adj   lower   upper  reject\n",
      "----------------------------------------------------\n",
      "    HC     OC  -0.2174 0.8953 -1.3797  0.9449  False\n",
      "    HC     RC  -1.1739 0.0472 -2.3362 -0.0116   True\n",
      "    OC     RC  -0.9565 0.1269 -2.1188  0.2058  False\n",
      "----------------------------------------------------\n",
      "[0.89525198 0.0472266  0.12688014]\n",
      "['    ', '*   ', '    ']\n",
      "~~~~~~~~~~~~~~~~~~~~~~~~~~~~~~~~~~~~~~~~~~~\n"
     ]
    }
   ],
   "source": [
    "tukey(df, \"Caring [1-7]\")"
   ]
  },
  {
   "cell_type": "code",
   "execution_count": null,
   "metadata": {},
   "outputs": [],
   "source": [
    "print(\"Done running\")"
   ]
  }
 ],
 "metadata": {
  "kernelspec": {
   "display_name": "Python 3.7.4 64-bit",
   "language": "python",
   "name": "python3"
  },
  "language_info": {
   "codemirror_mode": {
    "name": "ipython",
    "version": 3
   },
   "file_extension": ".py",
   "mimetype": "text/x-python",
   "name": "python",
   "nbconvert_exporter": "python",
   "pygments_lexer": "ipython3",
   "version": "3.7.4"
  },
  "orig_nbformat": 4,
  "vscode": {
   "interpreter": {
    "hash": "aee8b7b246df8f9039afb4144a1f6fd8d2ca17a180786b69acc140d282b71a49"
   }
  }
 },
 "nbformat": 4,
 "nbformat_minor": 2
}
