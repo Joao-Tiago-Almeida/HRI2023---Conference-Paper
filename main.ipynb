{
 "cells": [
  {
   "cell_type": "code",
   "execution_count": 1,
   "metadata": {},
   "outputs": [],
   "source": [
    "import pandas as pd\n",
    "import seaborn as sns\n",
    "import matplotlib.pyplot as plt\n",
    "\n",
    "# Set the general theme for the figures\n",
    "sns.set(font_scale = 1.2)\n",
    "sns.set_style(\"whitegrid\")\n",
    "sns.set_palette(palette = \"hls\", desat = 1)# n_colors = 3,"
   ]
  },
  {
   "cell_type": "markdown",
   "metadata": {},
   "source": [
    "# Statistical Functions"
   ]
  },
  {
   "cell_type": "code",
   "execution_count": 2,
   "metadata": {},
   "outputs": [],
   "source": [
    "from scipy.stats import f_oneway\n",
    "from statsmodels.stats.multicomp import pairwise_tukeyhsd\n",
    "from scipy.stats import ttest_ind\n",
    "from scipy.stats import chi2_contingency"
   ]
  },
  {
   "cell_type": "code",
   "execution_count": 3,
   "metadata": {},
   "outputs": [],
   "source": [
    "def tukey(df, metric, fillna = 0):\n",
    "    print(\"~~~~~~~~~~~~~~~one way ANOVA~~~~~~~~~~~~~~~\")\n",
    "    \n",
    "    if fillna==False and type(fillna)==bool: df = df.dropna(subset = [metric])\n",
    "\n",
    "    #perform one-way ANOVA\n",
    "    anova = f_oneway(\n",
    "        list(df[df[\"Condition\"]==\"OC\"][metric].fillna(fillna)),\n",
    "        list(df[df[\"Condition\"]==\"RC\"][metric].fillna(fillna)),\n",
    "        list(df[df[\"Condition\"]==\"HC\"][metric].fillna(fillna))\n",
    "    )\n",
    "\n",
    "    print(anova)\n",
    "\n",
    "    # perform Tukey's test\n",
    "    tukey = pairwise_tukeyhsd(endog=df[metric].fillna(fillna),\n",
    "                            groups=df['Condition'],\n",
    "                            alpha=0.05)\n",
    "\n",
    "    print(\"~~~~~~~~~~~~~~~~Tukey test~~~~~~~~~~~~~~~~~\")\n",
    "\n",
    "    # display results\n",
    "    print(tukey)\n",
    "   \n",
    "    # compute the starts\n",
    "    stars_boundaries = [5e-2, 1e-2, 1e-3, 1e-4]\n",
    "    stars = ['*'*list(pair<=stars_boundaries).count(True) + \" \"*list(pair<=stars_boundaries).count(False) for pair in tukey.pvalues]\n",
    "    \n",
    "    print(tukey.pvalues)\n",
    "    print(stars)\n",
    "    print(\"~~~~~~~~~~~~~~~~~~~~~~~~~~~~~~~~~~~~~~~~~~~\")\n"
   ]
  },
  {
   "cell_type": "code",
   "execution_count": 4,
   "metadata": {},
   "outputs": [],
   "source": [
    "def ttest(df, metric, equal_var=True ,fillna = 0):\n",
    "    print(\"~~~~~~~~~~~~~~~one way ANOVA~~~~~~~~~~~~~~~\")\n",
    "    \n",
    "    if fillna==False and type(fillna)==bool: df = df.dropna(subset = [metric])\n",
    "\n",
    "    #perform one-way ANOVA\n",
    "    anova = f_oneway(\n",
    "        list(df[df[\"Condition\"]==\"OC\"][metric].fillna(fillna)),\n",
    "        list(df[df[\"Condition\"]==\"RC\"][metric].fillna(fillna)),\n",
    "        list(df[df[\"Condition\"]==\"HC\"][metric].fillna(fillna))\n",
    "    )\n",
    "\n",
    "    print(anova)\n",
    "\n",
    "    print(\"~~~~~~~~~~~~~~~~~~T-test~~~~~~~~~~~~~~~~~~~~\")\n",
    "\n",
    "    print(f'HC vs OC: {ttest_ind(list(df[df[\"Condition\"]==\"HC\"][metric].fillna(fillna)),list(df[df[\"Condition\"]==\"OC\"][metric].fillna(fillna))).pvalue:.5e}')\n",
    "    print(f'HC vs RC: {ttest_ind(list(df[df[\"Condition\"]==\"HC\"][metric].fillna(fillna)),list(df[df[\"Condition\"]==\"RC\"][metric].fillna(fillna))).pvalue:.5e}')\n",
    "    print(f'OC vs RC: {ttest_ind(list(df[df[\"Condition\"]==\"OC\"][metric].fillna(fillna)),list(df[df[\"Condition\"]==\"RC\"][metric].fillna(fillna))).pvalue:.5e}')\n",
    "    print(\"~~~~~~~~~~~~~~~~~~~~~~~~~~~~~~~~~~~~~~~~~~~\")"
   ]
  },
  {
   "cell_type": "markdown",
   "metadata": {},
   "source": [
    "# Load the Dataset"
   ]
  },
  {
   "cell_type": "code",
   "execution_count": 5,
   "metadata": {},
   "outputs": [],
   "source": [
    "df = pd.read_csv('results.csv', index_col=\"Unnamed: 0\")  # TODO eliminate all unused columns"
   ]
  },
  {
   "cell_type": "markdown",
   "metadata": {},
   "source": [
    "# Perspective-Taking"
   ]
  },
  {
   "cell_type": "markdown",
   "metadata": {},
   "source": [
    "## Confirms the results of the perspective-taken by the robot in the first task."
   ]
  },
  {
   "cell_type": "markdown",
   "metadata": {},
   "source": [
    "### Histogram of the time spent in the first perspective divided by the PT condition"
   ]
  },
  {
   "cell_type": "markdown",
   "metadata": {},
   "source": [
    "Histogram"
   ]
  },
  {
   "cell_type": "code",
   "execution_count": 6,
   "metadata": {},
   "outputs": [
    {
     "data": {
      "image/png": "[encoded data removed]",
      "text/plain": [
       "<Figure size 504x360 with 1 Axes>"
      ]
     },
     "metadata": {},
     "output_type": "display_data"
    }
   ],
   "source": [
    "plt.figure(figsize=(7.0, 5.0))\n",
    "g = sns.barplot(\n",
    "    data=df.fillna(0).replace([\"OC\",\"HC\",\"RC\"], [\"object-centered\", \"human-centered\", \"robot-centered\"]),\n",
    "    x=\"Condition\",\n",
    "    y=\"Perspective taking task time [min]\",\n",
    "    capsize = 0.25\n",
    ")\n",
    "\n",
    "# add significant values\n",
    "for p in g.patches:\n",
    "    g.annotate(format(p.get_height(), '.1f'), \n",
    "                   (p.get_x() + p.get_width() / 2., p.get_height()), \n",
    "                   ha = 'center', va = 'center', \n",
    "                   size=13,\n",
    "                   xytext = (30, 5), \n",
    "                   textcoords = 'offset points')\n",
    "\n",
    "y1, y2, y3 = 6.5, 7.2, 4.2\n",
    "h, col = 0.4, 'k'\n",
    "\n",
    "plt.plot([-0.05, -0.05, 2.05, 2.05], [y1, y2+3*h, y2+3*h, y3], lw=1.5, c=col)\n",
    "plt.text(1, y2+2.9*h, \"**\", ha='center', va='bottom', color=col)\n",
    "\n",
    "plt.plot([0.05, 0.05, 0.95, 0.95], [y1, y2+h, y2+h, y2], lw=1.5, c=col)\n",
    "\n",
    "plt.plot([1.05, 1.05, 1.95, 1.95], [y2, y2+h, y2+h, y3], lw=1.5, c=col)\n",
    "plt.text(1.5, y2+0.9*h, \"****\", ha='center', va='bottom', color=col)\n",
    "\n",
    "plt.savefig(\"figures/PT time histogram.pdf\",bbox_inches='tight')"
   ]
  },
  {
   "cell_type": "markdown",
   "metadata": {},
   "source": [
    "ANOVA and Tukey statistical tests on the time spent in the PT by each condition"
   ]
  },
  {
   "cell_type": "code",
   "execution_count": 7,
   "metadata": {},
   "outputs": [
    {
     "name": "stdout",
     "output_type": "stream",
     "text": [
      "~~~~~~~~~~~~~~~one way ANOVA~~~~~~~~~~~~~~~\n",
      "F_onewayResult(statistic=12.848477834962202, pvalue=1.9374816569309807e-05)\n",
      "~~~~~~~~~~~~~~~~Tukey test~~~~~~~~~~~~~~~~~\n",
      "Multiple Comparison of Means - Tukey HSD, FWER=0.05\n",
      "===================================================\n",
      "group1 group2 meandiff p-adj   lower  upper  reject\n",
      "---------------------------------------------------\n",
      "    HC     OC   1.7983 0.0015  0.6155 2.9811   True\n",
      "    HC     RC    2.404    0.0  1.2212 3.5867   True\n",
      "    OC     RC   0.6057 0.4412 -0.5771 1.7884  False\n",
      "---------------------------------------------------\n",
      "[1.51074086e-03 2.13238315e-05 4.41190150e-01]\n",
      "['**  ', '****', '    ']\n",
      "~~~~~~~~~~~~~~~~~~~~~~~~~~~~~~~~~~~~~~~~~~~\n"
     ]
    }
   ],
   "source": [
    "tukey(df, \"Perspective taking task time [min]\")"
   ]
  },
  {
   "cell_type": "markdown",
   "metadata": {},
   "source": [
    "### Heat map: conditoin versus reverse condition"
   ]
  },
  {
   "cell_type": "markdown",
   "metadata": {},
   "source": [
    "Create a CMAP from a discret pallet, highlightning the transition red -> yellow representing the small values. Why? Because in the heatmap, the total column has high values, and by increasing the contrast before in the continous scale, I'm adding more contrast in on the heatmap per se."
   ]
  },
  {
   "cell_type": "code",
   "execution_count": 8,
   "metadata": {},
   "outputs": [],
   "source": [
    "from matplotlib.colors import ListedColormap\n",
    "\n",
    "colorarray = list(sns.hls_palette()[:3])\n",
    "increment = [[colorarray[1][0]-colorarray[0][0], colorarray[1][1]-colorarray[0][1], colorarray[1][2]-colorarray[0][2]],[colorarray[2][0]-colorarray[1][0], colorarray[2][1]-colorarray[1][1], colorarray[2][2]-colorarray[1][2]]]\n",
    "threshold = 30.0    # to control each increment is more significative in the continuous map\n",
    "for i in range(98):\n",
    "    if i < threshold: colorarray.insert(i+1,[colorarray[i][j]+increment[0][j]/threshold for j in range(3)]) # between red and yellow\n",
    "    else: colorarray.insert(i+2,[colorarray[i+1][j]+increment[1][j]/(98-threshold) for j in range(3)]) # between yellow and green\n",
    "\n",
    "cmap = ListedColormap(colorarray)"
   ]
  },
  {
   "cell_type": "markdown",
   "metadata": {},
   "source": [
    "Heatmap"
   ]
  },
  {
   "cell_type": "code",
   "execution_count": 9,
   "metadata": {},
   "outputs": [
    {
     "data": {
      "image/png": "[encoded data removed]",
      "text/plain": [
       "<Figure size 504x360 with 2 Axes>"
      ]
     },
     "metadata": {},
     "output_type": "display_data"
    }
   ],
   "source": [
    "df_aux = df[[\"Condition\", \"If you were to tell the robot to pick up the objects how would you do it?\"]].value_counts().copy()\n",
    "df_heatmap = pd.DataFrame(columns=[\"Condition\", \"Perspective chosen for inverse roles\", 'Occurrences'], dtype=\"float\")\n",
    "for condition_pair, occupance, in df_aux.iteritems():\n",
    "    ideal_condition = \"addressee-centric\" if \"your\" in condition_pair[1] else \"egocentric\" if \"my\" in condition_pair[1] else \"object-centric\"\n",
    "    df_heatmap = df_heatmap.append({\n",
    "        \"Condition\": condition_pair[0],\n",
    "        \"Perspective chosen for inverse roles\": ideal_condition,\n",
    "        'Occurrences': occupance},\n",
    "        ignore_index=True)\n",
    "\n",
    "total = df_heatmap[[\"Perspective chosen for inverse roles\", \"Occurrences\"]].groupby(\"Perspective chosen for inverse roles\").sum().to_dict()[\"Occurrences\"]\n",
    "for key, value in total.items():\n",
    "    df_heatmap = df_heatmap.append({\n",
    "        \"Condition\": \"total\",\n",
    "        \"Perspective chosen for inverse roles\": key,\n",
    "        'Occurrences': value},\n",
    "        ignore_index=True)\n",
    "\n",
    "df_heatmap = df_heatmap.pivot(\"Perspective chosen for inverse roles\", \"Condition\", \"Occurrences\")\n",
    "# sorting\n",
    "df_heatmap = df_heatmap[[\"OC\", \"RC\", \"HC\",\"total\"]]\n",
    "df_heatmap = df_heatmap.reindex([\"object-centric\", \"egocentric\", \"addressee-centric\"])\n",
    "df_heatmap.rename(columns = {\"OC\":\"robot-centered\", \"RC\": \"robot-centered\", \"HC\": \"human-centered\"}, inplace = True)\n",
    "\n",
    "plt.figure(figsize=(7.0, 5.0))\n",
    "ax = sns.heatmap(df_heatmap, annot=True, cmap = cmap, square=\"True\", cbar_kws={\"extend\": \"both\", \"shrink\": 0.6}, robust=True, linewidths=0.05)\n",
    "ax.axvline(3, color='white', lw=8)\n",
    "plt.yticks(rotation=20)\n",
    "plt.xticks(rotation=20)\n",
    "\n",
    "plt.savefig(f\"figures/Condition_chosen_for_inverse_roles.pdf\",bbox_inches='tight')"
   ]
  },
  {
   "cell_type": "markdown",
   "metadata": {},
   "source": [
    "Chi-square test on the Perspective chosen by condition"
   ]
  },
  {
   "cell_type": "code",
   "execution_count": 10,
   "metadata": {},
   "outputs": [
    {
     "name": "stdout",
     "output_type": "stream",
     "text": [
      "(9.981176470588236, 0.12544696061875302, 6, array([[11.33333333, 11.33333333, 11.33333333, 34.        ],\n",
      "       [ 3.33333333,  3.33333333,  3.33333333, 10.        ],\n",
      "       [ 8.33333333,  8.33333333,  8.33333333, 25.        ]]))\n",
      "(11.84360902255639, 0.06555002746520995, 6, array([[ 9.5,  9.5,  9.5,  9.5],\n",
      "       [ 3.5,  3.5,  3.5,  3.5],\n",
      "       [10. , 10. , 10. , 10. ]]))\n",
      "(9.981176470588235, 0.04074595837884791, 4, array([[11.33333333, 11.33333333, 11.33333333],\n",
      "       [ 3.33333333,  3.33333333,  3.33333333],\n",
      "       [ 8.33333333,  8.33333333,  8.33333333]]))\n",
      "(9.981176470588235, 0.04074595837884791, 4, array([[11.33333333, 11.33333333, 11.33333333],\n",
      "       [ 3.33333333,  3.33333333,  3.33333333],\n",
      "       [ 8.33333333,  8.33333333,  8.33333333]]))\n"
     ]
    }
   ],
   "source": [
    "\n",
    "print(chi2_contingency(df_heatmap))\n",
    "print(chi2_contingency(df_heatmap[[\"robot-centered\", \"robot-centered\"]]))\n",
    "print(chi2_contingency(df_heatmap[[\"human-centered\", \"robot-centered\"]]))\n",
    "print(chi2_contingency(df_heatmap[[\"human-centered\", \"robot-centered\"]]))"
   ]
  },
  {
   "cell_type": "markdown",
   "metadata": {},
   "source": [
    "## Personal Traits on answering the question: Do you think the manner the robot addressed the object influenced how much time you spent helping it?"
   ]
  },
  {
   "cell_type": "markdown",
   "metadata": {},
   "source": [
    "ANOVA and tuukey tests on the answers to the question by group"
   ]
  },
  {
   "cell_type": "code",
   "execution_count": 11,
   "metadata": {},
   "outputs": [
    {
     "name": "stdout",
     "output_type": "stream",
     "text": [
      "~~~~~~~~~~~~~~~one way ANOVA~~~~~~~~~~~~~~~\n",
      "F_onewayResult(statistic=5.848338540187446, pvalue=0.004588483518283926)\n",
      "~~~~~~~~~~~~~~~~Tukey test~~~~~~~~~~~~~~~~~\n",
      "Multiple Comparison of Means - Tukey HSD, FWER=0.05 \n",
      "====================================================\n",
      "group1 group2 meandiff p-adj   lower   upper  reject\n",
      "----------------------------------------------------\n",
      "    HC     OC  -0.5217 0.6911 -2.0446  1.0011  False\n",
      "    HC     RC   -2.087 0.0046 -3.6098 -0.5641   True\n",
      "    OC     RC  -1.5652 0.0426 -3.0881 -0.0424   True\n",
      "----------------------------------------------------\n",
      "[0.69112822 0.00458748 0.04262308]\n",
      "['    ', '**  ', '*   ']\n",
      "~~~~~~~~~~~~~~~~~~~~~~~~~~~~~~~~~~~~~~~~~~~\n"
     ]
    }
   ],
   "source": [
    "tukey(df, \"Do you think the manner the robot addressed the object influenced how much time you spent helping it?\")"
   ]
  },
  {
   "cell_type": "markdown",
   "metadata": {},
   "source": [
    "### Perspective-Taking Scale"
   ]
  },
  {
   "cell_type": "markdown",
   "metadata": {},
   "source": [
    "2D Inference"
   ]
  },
  {
   "cell_type": "code",
   "execution_count": 12,
   "metadata": {},
   "outputs": [
    {
     "data": {
      "text/plain": [
       "<Figure size 504x504 with 0 Axes>"
      ]
     },
     "metadata": {},
     "output_type": "display_data"
    },
    {
     "data": {
      "image/png": "[encoded data removed]",
      "text/plain": [
       "<Figure size 360x360 with 1 Axes>"
      ]
     },
     "metadata": {},
     "output_type": "display_data"
    }
   ],
   "source": [
    "plt.figure(figsize=(7.0, 7.0))\n",
    "g = sns.lmplot(\n",
    "    x=\"Perspective-Taking Scale\",\n",
    "    y=\"Do you think the manner the robot addressed the object influenced how much time you spent helping it?\",\n",
    "    hue='Condition',\n",
    "    data=df.fillna(1),\n",
    "    robust=True,\n",
    "    facet_kws = {\"legend_out\" : False},\n",
    "    scatter=False\n",
    "    )\n",
    "g.set(ylabel=\"Participants rating from 1 to 7\")\n",
    "g.set(ylim=(0.5, 7.5))\n",
    "plt.savefig(f\"figures/PT scale on influence.pdf\",bbox_inches='tight')"
   ]
  },
  {
   "cell_type": "markdown",
   "metadata": {},
   "source": [
    "Statistical analyses"
   ]
  },
  {
   "cell_type": "code",
   "execution_count": 13,
   "metadata": {},
   "outputs": [
    {
     "name": "stdout",
     "output_type": "stream",
     "text": [
      "~~~~~~~~~~~~~~~one way ANOVA~~~~~~~~~~~~~~~\n",
      "F_onewayResult(statistic=0.252902535899786, pvalue=0.7772926391471243)\n",
      "~~~~~~~~~~~~~~~~Tukey test~~~~~~~~~~~~~~~~~\n",
      "Multiple Comparison of Means - Tukey HSD, FWER=0.05\n",
      "===================================================\n",
      "group1 group2 meandiff p-adj   lower  upper  reject\n",
      "---------------------------------------------------\n",
      "    HC     OC  -0.0683 0.9195 -0.4878 0.3512  False\n",
      "    HC     RC   0.0559 0.9453 -0.3636 0.4754  False\n",
      "    OC     RC   0.1242 0.7585 -0.2953 0.5437  False\n",
      "---------------------------------------------------\n",
      "[0.91948481 0.94532911 0.75845142]\n",
      "['    ', '    ', '    ']\n",
      "~~~~~~~~~~~~~~~~~~~~~~~~~~~~~~~~~~~~~~~~~~~\n"
     ]
    }
   ],
   "source": [
    "tukey(df, \"Perspective-Taking Scale\")"
   ]
  },
  {
   "cell_type": "markdown",
   "metadata": {},
   "source": [
    "### Empathic Concern Scale"
   ]
  },
  {
   "cell_type": "markdown",
   "metadata": {},
   "source": [
    "2D Inference"
   ]
  },
  {
   "cell_type": "code",
   "execution_count": 14,
   "metadata": {},
   "outputs": [
    {
     "data": {
      "text/plain": [
       "<Figure size 504x504 with 0 Axes>"
      ]
     },
     "metadata": {},
     "output_type": "display_data"
    },
    {
     "data": {
      "image/png": "[encoded data removed]",
      "text/plain": [
       "<Figure size 360x360 with 1 Axes>"
      ]
     },
     "metadata": {},
     "output_type": "display_data"
    }
   ],
   "source": [
    "plt.figure(figsize=(7.0, 7.0))\n",
    "g = sns.lmplot(\n",
    "    x=\"Empathic Concern Scale\",\n",
    "    y=\"Do you think the manner the robot addressed the object influenced how much time you spent helping it?\",\n",
    "    hue='Condition',\n",
    "    data=df.fillna(1),\n",
    "    robust=True,\n",
    "    facet_kws = {\"legend_out\" : False},\n",
    "    scatter=False\n",
    "    )\n",
    "g.set(ylabel=\"Participants rating from 1 to 7\")\n",
    "g.set(ylim=(0.5, 7.5))\n",
    "plt.savefig(f\"figures/Empathic Concern scale on influence.pdf\",bbox_inches='tight')"
   ]
  },
  {
   "cell_type": "markdown",
   "metadata": {},
   "source": [
    "Statistical analyses"
   ]
  },
  {
   "cell_type": "code",
   "execution_count": 15,
   "metadata": {},
   "outputs": [
    {
     "name": "stdout",
     "output_type": "stream",
     "text": [
      "~~~~~~~~~~~~~~~one way ANOVA~~~~~~~~~~~~~~~\n",
      "F_onewayResult(statistic=0.6112814224402205, pvalue=0.5456984253323292)\n",
      "~~~~~~~~~~~~~~~~Tukey test~~~~~~~~~~~~~~~~~\n",
      "Multiple Comparison of Means - Tukey HSD, FWER=0.05\n",
      "===================================================\n",
      "group1 group2 meandiff p-adj   lower  upper  reject\n",
      "---------------------------------------------------\n",
      "    HC     OC  -0.2236 0.5225 -0.7147 0.2675  False\n",
      "    HC     RC  -0.1429 0.7658 -0.6339 0.3482  False\n",
      "    OC     RC   0.0807  0.918 -0.4103 0.5718  False\n",
      "---------------------------------------------------\n",
      "[0.52253608 0.76577588 0.91800627]\n",
      "['    ', '    ', '    ']\n",
      "~~~~~~~~~~~~~~~~~~~~~~~~~~~~~~~~~~~~~~~~~~~\n"
     ]
    }
   ],
   "source": [
    "tukey(df, \"Empathic Concern Scale\")"
   ]
  },
  {
   "cell_type": "markdown",
   "metadata": {},
   "source": [
    "### Fantasy Scale"
   ]
  },
  {
   "cell_type": "markdown",
   "metadata": {},
   "source": [
    "Statistical analyses"
   ]
  },
  {
   "cell_type": "code",
   "execution_count": 16,
   "metadata": {},
   "outputs": [
    {
     "name": "stdout",
     "output_type": "stream",
     "text": [
      "~~~~~~~~~~~~~~~one way ANOVA~~~~~~~~~~~~~~~\n",
      "F_onewayResult(statistic=0.5942368587713747, pvalue=0.5549096517575077)\n",
      "~~~~~~~~~~~~~~~~Tukey test~~~~~~~~~~~~~~~~~\n",
      "Multiple Comparison of Means - Tukey HSD, FWER=0.05\n",
      "===================================================\n",
      "group1 group2 meandiff p-adj   lower  upper  reject\n",
      "---------------------------------------------------\n",
      "    HC     OC   0.1677 0.6592  -0.293 0.6284  False\n",
      "    HC     RC  -0.0248 0.9908 -0.4855 0.4359  False\n",
      "    OC     RC  -0.1925 0.5782 -0.6532 0.2682  False\n",
      "---------------------------------------------------\n",
      "[0.65923946 0.99082605 0.57816151]\n",
      "['    ', '    ', '    ']\n",
      "~~~~~~~~~~~~~~~~~~~~~~~~~~~~~~~~~~~~~~~~~~~\n"
     ]
    }
   ],
   "source": [
    "tukey(df, \"Fantasy Scale\")"
   ]
  },
  {
   "cell_type": "markdown",
   "metadata": {},
   "source": [
    "# Prosocial Behavior"
   ]
  },
  {
   "cell_type": "markdown",
   "metadata": {},
   "source": [
    "## Analysis of the number of sentences read"
   ]
  },
  {
   "cell_type": "markdown",
   "metadata": {},
   "source": [
    "### Prosocial Behavior metrics correlation"
   ]
  },
  {
   "cell_type": "code",
   "execution_count": 17,
   "metadata": {},
   "outputs": [
    {
     "data": {
      "text/html": [
       "<div>\n",
       "<style scoped>\n",
       "    .dataframe tbody tr th:only-of-type {\n",
       "        vertical-align: middle;\n",
       "    }\n",
       "\n",
       "    .dataframe tbody tr th {\n",
       "        vertical-align: top;\n",
       "    }\n",
       "\n",
       "    .dataframe thead th {\n",
       "        text-align: right;\n",
       "    }\n",
       "</style>\n",
       "<table border=\"1\" class=\"dataframe\">\n",
       "  <thead>\n",
       "    <tr style=\"text-align: right;\">\n",
       "      <th></th>\n",
       "      <th>Number of sentences read</th>\n",
       "      <th>Prosocial behaviour time [min]</th>\n",
       "      <th>Sentences read prior guess</th>\n",
       "    </tr>\n",
       "  </thead>\n",
       "  <tbody>\n",
       "    <tr>\n",
       "      <th>Number of sentences read</th>\n",
       "      <td>1.000000</td>\n",
       "      <td>0.900477</td>\n",
       "      <td>0.728879</td>\n",
       "    </tr>\n",
       "    <tr>\n",
       "      <th>Prosocial behaviour time [min]</th>\n",
       "      <td>0.900477</td>\n",
       "      <td>1.000000</td>\n",
       "      <td>0.683100</td>\n",
       "    </tr>\n",
       "    <tr>\n",
       "      <th>Sentences read prior guess</th>\n",
       "      <td>0.728879</td>\n",
       "      <td>0.683100</td>\n",
       "      <td>1.000000</td>\n",
       "    </tr>\n",
       "  </tbody>\n",
       "</table>\n",
       "</div>"
      ],
      "text/plain": [
       "                                Number of sentences read  \\\n",
       "Number of sentences read                        1.000000   \n",
       "Prosocial behaviour time [min]                  0.900477   \n",
       "Sentences read prior guess                      0.728879   \n",
       "\n",
       "                                Prosocial behaviour time [min]  \\\n",
       "Number of sentences read                              0.900477   \n",
       "Prosocial behaviour time [min]                        1.000000   \n",
       "Sentences read prior guess                            0.683100   \n",
       "\n",
       "                                Sentences read prior guess  \n",
       "Number of sentences read                          0.728879  \n",
       "Prosocial behaviour time [min]                    0.683100  \n",
       "Sentences read prior guess                        1.000000  "
      ]
     },
     "execution_count": 17,
     "metadata": {},
     "output_type": "execute_result"
    }
   ],
   "source": [
    "df[[\"Number of sentences read\", \"Prosocial behaviour time [min]\", \"Sentences read prior guess\"]].fillna(0).corr()"
   ]
  },
  {
   "cell_type": "code",
   "execution_count": 18,
   "metadata": {},
   "outputs": [
    {
     "data": {
      "text/html": [
       "<div>\n",
       "<style scoped>\n",
       "    .dataframe tbody tr th:only-of-type {\n",
       "        vertical-align: middle;\n",
       "    }\n",
       "\n",
       "    .dataframe tbody tr th {\n",
       "        vertical-align: top;\n",
       "    }\n",
       "\n",
       "    .dataframe thead th {\n",
       "        text-align: right;\n",
       "    }\n",
       "</style>\n",
       "<table border=\"1\" class=\"dataframe\">\n",
       "  <thead>\n",
       "    <tr style=\"text-align: right;\">\n",
       "      <th>Did you read sentences to the robot?</th>\n",
       "      <th>No</th>\n",
       "      <th>Yes</th>\n",
       "    </tr>\n",
       "    <tr>\n",
       "      <th>Condition</th>\n",
       "      <th></th>\n",
       "      <th></th>\n",
       "    </tr>\n",
       "  </thead>\n",
       "  <tbody>\n",
       "    <tr>\n",
       "      <th>HC</th>\n",
       "      <td>0</td>\n",
       "      <td>23</td>\n",
       "    </tr>\n",
       "    <tr>\n",
       "      <th>OC</th>\n",
       "      <td>3</td>\n",
       "      <td>20</td>\n",
       "    </tr>\n",
       "    <tr>\n",
       "      <th>RC</th>\n",
       "      <td>10</td>\n",
       "      <td>13</td>\n",
       "    </tr>\n",
       "  </tbody>\n",
       "</table>\n",
       "</div>"
      ],
      "text/plain": [
       "Did you read sentences to the robot?  No  Yes\n",
       "Condition                                    \n",
       "HC                                     0   23\n",
       "OC                                     3   20\n",
       "RC                                    10   13"
      ]
     },
     "execution_count": 18,
     "metadata": {},
     "output_type": "execute_result"
    }
   ],
   "source": [
    "pd.crosstab(df[\"Condition\"], df[\"Did you read sentences to the robot?\"])"
   ]
  },
  {
   "cell_type": "code",
   "execution_count": 19,
   "metadata": {},
   "outputs": [
    {
     "name": "stdout",
     "output_type": "stream",
     "text": [
      "Chi-square test between RC and OC: Chi = 3.860\\;p=4.945e-02\\;df=1\n",
      "Chi-square test between HC and OC: Chi = 1.426\\;p=2.324e-01\\;df=1\n"
     ]
    },
    {
     "data": {
      "text/plain": [
       "(14.975274725274726,\n",
       " 0.0005599643916268729,\n",
       " 2,\n",
       " array([[ 4.33333333, 18.66666667],\n",
       "        [ 4.33333333, 18.66666667],\n",
       "        [ 4.33333333, 18.66666667]]))"
      ]
     },
     "execution_count": 19,
     "metadata": {},
     "output_type": "execute_result"
    }
   ],
   "source": [
    "x = chi2_contingency(pd.crosstab(df[df[\"Condition\"]!=\"HC\"][\"Condition\"], df[\"Did you read sentences to the robot?\"]))\n",
    "print(f\"Chi-square test between RC and OC: Chi = {x[0]:.3f}\\;p={x[1]:.3e}\\;df={x[2]}\")\n",
    "x = chi2_contingency(pd.crosstab(df[df[\"Condition\"]!=\"RC\"][\"Condition\"], df[\"Did you read sentences to the robot?\"]))\n",
    "print(f\"Chi-square test between HC and OC: Chi = {x[0]:.3f}\\;p={x[1]:.3e}\\;df={x[2]}\")\n",
    "chi2_contingency(pd.crosstab(df[\"Condition\"], df[\"Did you read sentences to the robot?\"]))"
   ]
  },
  {
   "cell_type": "markdown",
   "metadata": {},
   "source": [
    "### Histogram of the sentences read by group"
   ]
  },
  {
   "cell_type": "markdown",
   "metadata": {},
   "source": [
    "Histogram"
   ]
  },
  {
   "cell_type": "code",
   "execution_count": 20,
   "metadata": {},
   "outputs": [
    {
     "data": {
      "image/png": "[encoded data removed]",
      "text/plain": [
       "<Figure size 504x360 with 1 Axes>"
      ]
     },
     "metadata": {},
     "output_type": "display_data"
    }
   ],
   "source": [
    "plt.figure(figsize=(7.0, 5.0))\n",
    "g = sns.barplot(\n",
    "    data=df.fillna(0).replace([\"OC\",\"HC\",\"RC\"], [\"object-centered\", \"human-centered\", \"robot-centered\"]),\n",
    "    x=\"Condition\",\n",
    "    y=\"Number of sentences read\",\n",
    "    capsize = 0.25\n",
    ")\n",
    "\n",
    "# add significant values\n",
    "for p in g.patches:\n",
    "    g.annotate(format(p.get_height(), '.1f'), \n",
    "                   (p.get_x() + p.get_width() / 2., p.get_height()), \n",
    "                   ha = 'center', va = 'center', \n",
    "                   size=13,\n",
    "                   xytext = (16, 5), \n",
    "                   textcoords = 'offset points')\n",
    "\n",
    "y1, y2, y3 = 36, 21, 68\n",
    "h, col = 3, 'k'\n",
    "\n",
    "plt.plot([-0.05, -0.05, 2.05, 2.05], [y1, y3+3*h, y3+3*h, y3], lw=1.5, c=col)\n",
    "plt.text(0.5, y3+h, \"****\", ha='center', va='bottom', color=col)\n",
    "\n",
    "plt.plot([0.05, 0.05, 0.95, 0.95], [y1, y1+h, y1+h, y2], lw=1.5, c=col)\n",
    "plt.text(0.5, y1+h, \"*\", ha='center', va='bottom', color=col)\n",
    "\n",
    "plt.plot([1.05, 1.05, 1.95, 1.95], [y2, y3+h, y3+h, y3], lw=1.5, c=col)\n",
    "plt.text(1.5, y3-h, \"*\", ha='center', va='bottom', color=col)\n",
    "\n",
    "plt.savefig(\"figures/PT time on sentences read histogram.pdf\",bbox_inches='tight')  "
   ]
  },
  {
   "cell_type": "markdown",
   "metadata": {},
   "source": [
    "Statistical Analyses"
   ]
  },
  {
   "cell_type": "code",
   "execution_count": 21,
   "metadata": {},
   "outputs": [
    {
     "name": "stdout",
     "output_type": "stream",
     "text": [
      "~~~~~~~~~~~~~~~one way ANOVA~~~~~~~~~~~~~~~\n",
      "F_onewayResult(statistic=11.02688981888106, pvalue=7.383559724802273e-05)\n",
      "~~~~~~~~~~~~~~~~~~T-test~~~~~~~~~~~~~~~~~~~~\n",
      "HC vs OC: 1.55511e-02\n",
      "HC vs RC: 1.13675e-04\n",
      "OC vs RC: 1.45968e-02\n",
      "~~~~~~~~~~~~~~~~~~~~~~~~~~~~~~~~~~~~~~~~~~~\n"
     ]
    }
   ],
   "source": [
    "ttest(df, \"Number of sentences read\")"
   ]
  },
  {
   "cell_type": "markdown",
   "metadata": {},
   "source": [
    "### Inference of the time spent on the PT task on the sentences read"
   ]
  },
  {
   "cell_type": "markdown",
   "metadata": {},
   "source": [
    "2D Inference"
   ]
  },
  {
   "cell_type": "code",
   "execution_count": 22,
   "metadata": {},
   "outputs": [
    {
     "data": {
      "text/plain": [
       "<Figure size 504x504 with 0 Axes>"
      ]
     },
     "metadata": {},
     "output_type": "display_data"
    },
    {
     "data": {
      "image/png": "[encoded data removed]",
      "text/plain": [
       "<Figure size 360x360 with 1 Axes>"
      ]
     },
     "metadata": {},
     "output_type": "display_data"
    }
   ],
   "source": [
    "plt.figure(figsize=(7.0, 7.0))\n",
    "g = sns.lmplot(\n",
    "    x=\"Perspective taking task time [min]\",\n",
    "    y=\"Number of sentences read\",\n",
    "    hue='Condition',\n",
    "    data=df.fillna(0),\n",
    "    robust=True,\n",
    "    facet_kws = {\"legend_out\" : False},\n",
    "    scatter=False\n",
    "    )\n",
    "g.set(ylim=(0, None))\n",
    "\n",
    "plt.savefig(f\"figures/PT time on sentences read.pdf\",bbox_inches='tight')"
   ]
  },
  {
   "cell_type": "code",
   "execution_count": 23,
   "metadata": {},
   "outputs": [
    {
     "data": {
      "text/html": [
       "<div>\n",
       "<style scoped>\n",
       "    .dataframe tbody tr th:only-of-type {\n",
       "        vertical-align: middle;\n",
       "    }\n",
       "\n",
       "    .dataframe tbody tr th {\n",
       "        vertical-align: top;\n",
       "    }\n",
       "\n",
       "    .dataframe thead th {\n",
       "        text-align: right;\n",
       "    }\n",
       "</style>\n",
       "<table border=\"1\" class=\"dataframe\">\n",
       "  <thead>\n",
       "    <tr style=\"text-align: right;\">\n",
       "      <th></th>\n",
       "      <th>Number of sentences read</th>\n",
       "      <th>Prosocial behaviour time [min]</th>\n",
       "      <th>Sentences read prior guess</th>\n",
       "      <th>Perspective taking task time [min]</th>\n",
       "    </tr>\n",
       "  </thead>\n",
       "  <tbody>\n",
       "    <tr>\n",
       "      <th>Number of sentences read</th>\n",
       "      <td>1.000000</td>\n",
       "      <td>0.900477</td>\n",
       "      <td>0.728879</td>\n",
       "      <td>-0.336021</td>\n",
       "    </tr>\n",
       "    <tr>\n",
       "      <th>Prosocial behaviour time [min]</th>\n",
       "      <td>0.900477</td>\n",
       "      <td>1.000000</td>\n",
       "      <td>0.683100</td>\n",
       "      <td>-0.275711</td>\n",
       "    </tr>\n",
       "    <tr>\n",
       "      <th>Sentences read prior guess</th>\n",
       "      <td>0.728879</td>\n",
       "      <td>0.683100</td>\n",
       "      <td>1.000000</td>\n",
       "      <td>-0.406511</td>\n",
       "    </tr>\n",
       "    <tr>\n",
       "      <th>Perspective taking task time [min]</th>\n",
       "      <td>-0.336021</td>\n",
       "      <td>-0.275711</td>\n",
       "      <td>-0.406511</td>\n",
       "      <td>1.000000</td>\n",
       "    </tr>\n",
       "  </tbody>\n",
       "</table>\n",
       "</div>"
      ],
      "text/plain": [
       "                                    Number of sentences read  \\\n",
       "Number of sentences read                            1.000000   \n",
       "Prosocial behaviour time [min]                      0.900477   \n",
       "Sentences read prior guess                          0.728879   \n",
       "Perspective taking task time [min]                 -0.336021   \n",
       "\n",
       "                                    Prosocial behaviour time [min]  \\\n",
       "Number of sentences read                                  0.900477   \n",
       "Prosocial behaviour time [min]                            1.000000   \n",
       "Sentences read prior guess                                0.683100   \n",
       "Perspective taking task time [min]                       -0.275711   \n",
       "\n",
       "                                    Sentences read prior guess  \\\n",
       "Number of sentences read                              0.728879   \n",
       "Prosocial behaviour time [min]                        0.683100   \n",
       "Sentences read prior guess                            1.000000   \n",
       "Perspective taking task time [min]                   -0.406511   \n",
       "\n",
       "                                    Perspective taking task time [min]  \n",
       "Number of sentences read                                     -0.336021  \n",
       "Prosocial behaviour time [min]                               -0.275711  \n",
       "Sentences read prior guess                                   -0.406511  \n",
       "Perspective taking task time [min]                            1.000000  "
      ]
     },
     "execution_count": 23,
     "metadata": {},
     "output_type": "execute_result"
    }
   ],
   "source": [
    "df[[\"Number of sentences read\", \"Prosocial behaviour time [min]\", \"Sentences read prior guess\",\"Perspective taking task time [min]\"]].fillna(0).corr()"
   ]
  },
  {
   "cell_type": "markdown",
   "metadata": {},
   "source": [
    "## Possible confounding effects caused by different perspective on reading sentences"
   ]
  },
  {
   "cell_type": "markdown",
   "metadata": {},
   "source": [
    "### Difficulty on following the instructions"
   ]
  },
  {
   "cell_type": "markdown",
   "metadata": {},
   "source": [
    "2D Inference"
   ]
  },
  {
   "cell_type": "code",
   "execution_count": 24,
   "metadata": {},
   "outputs": [
    {
     "data": {
      "text/plain": [
       "<Figure size 504x504 with 0 Axes>"
      ]
     },
     "metadata": {},
     "output_type": "display_data"
    },
    {
     "data": {
      "image/png": "[encoded data removed]",
      "text/plain": [
       "<Figure size 360x360 with 1 Axes>"
      ]
     },
     "metadata": {},
     "output_type": "display_data"
    }
   ],
   "source": [
    "plt.figure(figsize=(7.0, 7.0))\n",
    "g = sns.lmplot(\n",
    "    x=\"Instructions easy to follow [1-7]\",\n",
    "    y=\"Number of sentences read\",\n",
    "    hue='Condition',\n",
    "    data=df.fillna(0),\n",
    "    robust=True,\n",
    "    facet_kws = {\"legend_out\" : False},\n",
    "    scatter=False\n",
    "    )\n",
    "g.set(ylim=(0, None))\n",
    "plt.savefig(f\"figures/Instruction difficulty on sentences read.pdf\",bbox_inches='tight')"
   ]
  },
  {
   "cell_type": "markdown",
   "metadata": {},
   "source": [
    "Statistical analyses"
   ]
  },
  {
   "cell_type": "code",
   "execution_count": 25,
   "metadata": {},
   "outputs": [
    {
     "name": "stdout",
     "output_type": "stream",
     "text": [
      "~~~~~~~~~~~~~~~one way ANOVA~~~~~~~~~~~~~~~\n",
      "F_onewayResult(statistic=3.5184757505773656, pvalue=0.03532179978409998)\n",
      "~~~~~~~~~~~~~~~~Tukey test~~~~~~~~~~~~~~~~~\n",
      "Multiple Comparison of Means - Tukey HSD, FWER=0.05 \n",
      "====================================================\n",
      "group1 group2 meandiff p-adj   lower   upper  reject\n",
      "----------------------------------------------------\n",
      "    HC     OC  -0.3043 0.6006 -1.0596  0.4509  False\n",
      "    HC     RC  -0.8261 0.0288 -1.5813 -0.0708   True\n",
      "    OC     RC  -0.5217 0.2297  -1.277  0.2335  False\n",
      "----------------------------------------------------\n",
      "[0.60064749 0.02879122 0.22968786]\n",
      "['    ', '*   ', '    ']\n",
      "~~~~~~~~~~~~~~~~~~~~~~~~~~~~~~~~~~~~~~~~~~~\n"
     ]
    }
   ],
   "source": [
    "tukey(df, \"Instructions easy to follow [1-7]\")"
   ]
  },
  {
   "cell_type": "markdown",
   "metadata": {},
   "source": [
    "### Need the robot for collecting speech data"
   ]
  },
  {
   "cell_type": "markdown",
   "metadata": {},
   "source": [
    "2D Inference"
   ]
  },
  {
   "cell_type": "code",
   "execution_count": 26,
   "metadata": {},
   "outputs": [
    {
     "name": "stderr",
     "output_type": "stream",
     "text": [
      "/Library/Frameworks/Python.framework/Versions/3.7/lib/python3.7/site-packages/statsmodels/robust/robust_linear_model.py:290: ConvergenceWarning: Estimated scale is 0.0 indicating that the most last iteration produced a perfect fit of the weighted data.\n",
      "  'weighted data.', ConvergenceWarning)\n"
     ]
    },
    {
     "data": {
      "text/plain": [
       "<Figure size 504x504 with 0 Axes>"
      ]
     },
     "metadata": {},
     "output_type": "display_data"
    },
    {
     "data": {
      "image/png": "[encoded data removed]",
      "text/plain": [
       "<Figure size 360x360 with 1 Axes>"
      ]
     },
     "metadata": {},
     "output_type": "display_data"
    }
   ],
   "source": [
    "plt.figure(figsize=(7.0, 7.0))\n",
    "g = sns.lmplot(\n",
    "    x=\"Need for collecting data [1-7]\",\n",
    "    y=\"Number of sentences read\",\n",
    "    hue='Condition',\n",
    "    data=df.fillna(0),\n",
    "    robust=True,\n",
    "    facet_kws = {\"legend_out\" : False},\n",
    "    scatter=False\n",
    "    )\n",
    "g.set(ylim=(0, None))\n",
    "plt.savefig(f\"figures/Need data on sentences read.pdf\",bbox_inches='tight')"
   ]
  },
  {
   "cell_type": "markdown",
   "metadata": {},
   "source": [
    "Statistical analyses"
   ]
  },
  {
   "cell_type": "code",
   "execution_count": 27,
   "metadata": {},
   "outputs": [
    {
     "name": "stdout",
     "output_type": "stream",
     "text": [
      "~~~~~~~~~~~~~~~one way ANOVA~~~~~~~~~~~~~~~\n",
      "F_onewayResult(statistic=0.5731357552581262, pvalue=0.56653546189198)\n",
      "~~~~~~~~~~~~~~~~Tukey test~~~~~~~~~~~~~~~~~\n",
      "Multiple Comparison of Means - Tukey HSD, FWER=0.05\n",
      "===================================================\n",
      "group1 group2 meandiff p-adj   lower  upper  reject\n",
      "---------------------------------------------------\n",
      "    HC     OC   0.2174 0.8972 -0.9564 1.3912  False\n",
      "    HC     RC  -0.3043 0.8088 -1.4782 0.8695  False\n",
      "    OC     RC  -0.5217 0.5386 -1.6956 0.6521  False\n",
      "---------------------------------------------------\n",
      "[0.89719148 0.80879299 0.53856963]\n",
      "['    ', '    ', '    ']\n",
      "~~~~~~~~~~~~~~~~~~~~~~~~~~~~~~~~~~~~~~~~~~~\n"
     ]
    }
   ],
   "source": [
    "tukey(df, \"Need for collecting data [1-7]\")"
   ]
  },
  {
   "cell_type": "code",
   "execution_count": 28,
   "metadata": {},
   "outputs": [
    {
     "data": {
      "text/html": [
       "<div>\n",
       "<style scoped>\n",
       "    .dataframe tbody tr th:only-of-type {\n",
       "        vertical-align: middle;\n",
       "    }\n",
       "\n",
       "    .dataframe tbody tr th {\n",
       "        vertical-align: top;\n",
       "    }\n",
       "\n",
       "    .dataframe thead th {\n",
       "        text-align: right;\n",
       "    }\n",
       "</style>\n",
       "<table border=\"1\" class=\"dataframe\">\n",
       "  <thead>\n",
       "    <tr style=\"text-align: right;\">\n",
       "      <th></th>\n",
       "      <th>Number of sentences read</th>\n",
       "      <th>Need for collecting data [1-7]</th>\n",
       "    </tr>\n",
       "  </thead>\n",
       "  <tbody>\n",
       "    <tr>\n",
       "      <th>Number of sentences read</th>\n",
       "      <td>1.00000</td>\n",
       "      <td>0.33004</td>\n",
       "    </tr>\n",
       "    <tr>\n",
       "      <th>Need for collecting data [1-7]</th>\n",
       "      <td>0.33004</td>\n",
       "      <td>1.00000</td>\n",
       "    </tr>\n",
       "  </tbody>\n",
       "</table>\n",
       "</div>"
      ],
      "text/plain": [
       "                                Number of sentences read  \\\n",
       "Number of sentences read                         1.00000   \n",
       "Need for collecting data [1-7]                   0.33004   \n",
       "\n",
       "                                Need for collecting data [1-7]  \n",
       "Number of sentences read                               0.33004  \n",
       "Need for collecting data [1-7]                         1.00000  "
      ]
     },
     "execution_count": 28,
     "metadata": {},
     "output_type": "execute_result"
    }
   ],
   "source": [
    "df[[\"Number of sentences read\", \"Need for collecting data [1-7]\"]].fillna(0).corr()"
   ]
  },
  {
   "cell_type": "markdown",
   "metadata": {},
   "source": [
    "# Numerical Analysis"
   ]
  },
  {
   "cell_type": "markdown",
   "metadata": {},
   "source": [
    "Setences read per each condition"
   ]
  },
  {
   "cell_type": "code",
   "execution_count": 29,
   "metadata": {},
   "outputs": [
    {
     "data": {
      "text/plain": [
       "Condition\n",
       "HC    48.173913\n",
       "OC    24.695652\n",
       "RC    10.217391\n",
       "Name: Number of sentences read, dtype: float64"
      ]
     },
     "execution_count": 29,
     "metadata": {},
     "output_type": "execute_result"
    }
   ],
   "source": [
    "df[[\"Condition\", \"Number of sentences read\"]].fillna(0).groupby(\"Condition\")[\"Number of sentences read\"].mean()"
   ]
  },
  {
   "cell_type": "markdown",
   "metadata": {},
   "source": [
    "# Extras"
   ]
  },
  {
   "cell_type": "code",
   "execution_count": 30,
   "metadata": {},
   "outputs": [],
   "source": [
    "from pingouin import mediation_analysis, read_dataset"
   ]
  },
  {
   "cell_type": "code",
   "execution_count": 31,
   "metadata": {},
   "outputs": [
    {
     "name": "stderr",
     "output_type": "stream",
     "text": [
      "/Library/Frameworks/Python.framework/Versions/3.7/lib/python3.7/site-packages/outdated/utils.py:18: OutdatedPackageWarning: The package pingouin is out of date. Your version is 0.5.1, the latest is 0.5.2.\n",
      "Set the environment variable OUTDATED_IGNORE=1 to disable these warnings.\n",
      "  **kwargs\n"
     ]
    },
    {
     "data": {
      "text/html": [
       "<div>\n",
       "<style scoped>\n",
       "    .dataframe tbody tr th:only-of-type {\n",
       "        vertical-align: middle;\n",
       "    }\n",
       "\n",
       "    .dataframe tbody tr th {\n",
       "        vertical-align: top;\n",
       "    }\n",
       "\n",
       "    .dataframe thead th {\n",
       "        text-align: right;\n",
       "    }\n",
       "</style>\n",
       "<table border=\"1\" class=\"dataframe\">\n",
       "  <thead>\n",
       "    <tr style=\"text-align: right;\">\n",
       "      <th></th>\n",
       "      <th>path</th>\n",
       "      <th>coef</th>\n",
       "      <th>se</th>\n",
       "      <th>pval</th>\n",
       "      <th>CI[2.5%]</th>\n",
       "      <th>CI[97.5%]</th>\n",
       "      <th>sig</th>\n",
       "    </tr>\n",
       "  </thead>\n",
       "  <tbody>\n",
       "    <tr>\n",
       "      <th>0</th>\n",
       "      <td>Total scanning time [min] ~ X</td>\n",
       "      <td>0.372196</td>\n",
       "      <td>0.309561</td>\n",
       "      <td>0.235664</td>\n",
       "      <td>-0.251683</td>\n",
       "      <td>0.996074</td>\n",
       "      <td>No</td>\n",
       "    </tr>\n",
       "    <tr>\n",
       "      <th>1</th>\n",
       "      <td>Y ~ Total scanning time [min]</td>\n",
       "      <td>-3.182997</td>\n",
       "      <td>2.882554</td>\n",
       "      <td>0.275497</td>\n",
       "      <td>-8.992403</td>\n",
       "      <td>2.626409</td>\n",
       "      <td>No</td>\n",
       "    </tr>\n",
       "    <tr>\n",
       "      <th>2</th>\n",
       "      <td>Total</td>\n",
       "      <td>-14.478261</td>\n",
       "      <td>5.694249</td>\n",
       "      <td>0.014597</td>\n",
       "      <td>-25.954266</td>\n",
       "      <td>-3.002256</td>\n",
       "      <td>Yes</td>\n",
       "    </tr>\n",
       "    <tr>\n",
       "      <th>3</th>\n",
       "      <td>Direct</td>\n",
       "      <td>-13.730321</td>\n",
       "      <td>5.818902</td>\n",
       "      <td>0.022904</td>\n",
       "      <td>-25.465255</td>\n",
       "      <td>-1.995387</td>\n",
       "      <td>Yes</td>\n",
       "    </tr>\n",
       "    <tr>\n",
       "      <th>4</th>\n",
       "      <td>Indirect</td>\n",
       "      <td>-0.747940</td>\n",
       "      <td>1.380863</td>\n",
       "      <td>0.524000</td>\n",
       "      <td>-5.214075</td>\n",
       "      <td>0.618007</td>\n",
       "      <td>No</td>\n",
       "    </tr>\n",
       "  </tbody>\n",
       "</table>\n",
       "</div>"
      ],
      "text/plain": [
       "                            path       coef        se      pval   CI[2.5%]  \\\n",
       "0  Total scanning time [min] ~ X   0.372196  0.309561  0.235664  -0.251683   \n",
       "1  Y ~ Total scanning time [min]  -3.182997  2.882554  0.275497  -8.992403   \n",
       "2                          Total -14.478261  5.694249  0.014597 -25.954266   \n",
       "3                         Direct -13.730321  5.818902  0.022904 -25.465255   \n",
       "4                       Indirect  -0.747940  1.380863  0.524000  -5.214075   \n",
       "\n",
       "   CI[97.5%]  sig  \n",
       "0   0.996074   No  \n",
       "1   2.626409   No  \n",
       "2  -3.002256  Yes  \n",
       "3  -1.995387  Yes  \n",
       "4   0.618007   No  "
      ]
     },
     "execution_count": 31,
     "metadata": {},
     "output_type": "execute_result"
    }
   ],
   "source": [
    "df_aux = df[df[\"Condition\"]!=\"HC\"][[\"Condition\", \"Total scanning time [min]\", \"Number of sentences read\"]].fillna(0).copy()\n",
    "df_aux[\"Condition\"] = df_aux[\"Condition\"].replace([\"RC\", \"OC\"], [1, 0])\n",
    "mediation_analysis(data=df_aux.fillna(0), x='Condition', m='Total scanning time [min]', y='Number of sentences read')"
   ]
  },
  {
   "cell_type": "code",
   "execution_count": 32,
   "metadata": {},
   "outputs": [
    {
     "data": {
      "text/html": [
       "<div>\n",
       "<style scoped>\n",
       "    .dataframe tbody tr th:only-of-type {\n",
       "        vertical-align: middle;\n",
       "    }\n",
       "\n",
       "    .dataframe tbody tr th {\n",
       "        vertical-align: top;\n",
       "    }\n",
       "\n",
       "    .dataframe thead th {\n",
       "        text-align: right;\n",
       "    }\n",
       "</style>\n",
       "<table border=\"1\" class=\"dataframe\">\n",
       "  <thead>\n",
       "    <tr style=\"text-align: right;\">\n",
       "      <th></th>\n",
       "      <th>path</th>\n",
       "      <th>coef</th>\n",
       "      <th>se</th>\n",
       "      <th>pval</th>\n",
       "      <th>CI[2.5%]</th>\n",
       "      <th>CI[97.5%]</th>\n",
       "      <th>sig</th>\n",
       "    </tr>\n",
       "  </thead>\n",
       "  <tbody>\n",
       "    <tr>\n",
       "      <th>0</th>\n",
       "      <td>Total scanning time [min] ~ X</td>\n",
       "      <td>0.939217</td>\n",
       "      <td>0.220361</td>\n",
       "      <td>0.000105</td>\n",
       "      <td>0.495110</td>\n",
       "      <td>1.383325</td>\n",
       "      <td>Yes</td>\n",
       "    </tr>\n",
       "    <tr>\n",
       "      <th>1</th>\n",
       "      <td>Y ~ Total scanning time [min]</td>\n",
       "      <td>-8.532247</td>\n",
       "      <td>5.596173</td>\n",
       "      <td>0.134501</td>\n",
       "      <td>-19.810593</td>\n",
       "      <td>2.746098</td>\n",
       "      <td>No</td>\n",
       "    </tr>\n",
       "    <tr>\n",
       "      <th>2</th>\n",
       "      <td>Total</td>\n",
       "      <td>-23.478261</td>\n",
       "      <td>9.327609</td>\n",
       "      <td>0.015551</td>\n",
       "      <td>-42.276822</td>\n",
       "      <td>-4.679699</td>\n",
       "      <td>Yes</td>\n",
       "    </tr>\n",
       "    <tr>\n",
       "      <th>3</th>\n",
       "      <td>Direct</td>\n",
       "      <td>-21.849475</td>\n",
       "      <td>11.205944</td>\n",
       "      <td>0.057739</td>\n",
       "      <td>-44.448416</td>\n",
       "      <td>0.749466</td>\n",
       "      <td>No</td>\n",
       "    </tr>\n",
       "    <tr>\n",
       "      <th>4</th>\n",
       "      <td>Indirect</td>\n",
       "      <td>-1.628786</td>\n",
       "      <td>4.532299</td>\n",
       "      <td>0.692000</td>\n",
       "      <td>-11.660133</td>\n",
       "      <td>7.462425</td>\n",
       "      <td>No</td>\n",
       "    </tr>\n",
       "  </tbody>\n",
       "</table>\n",
       "</div>"
      ],
      "text/plain": [
       "                            path       coef         se      pval   CI[2.5%]  \\\n",
       "0  Total scanning time [min] ~ X   0.939217   0.220361  0.000105   0.495110   \n",
       "1  Y ~ Total scanning time [min]  -8.532247   5.596173  0.134501 -19.810593   \n",
       "2                          Total -23.478261   9.327609  0.015551 -42.276822   \n",
       "3                         Direct -21.849475  11.205944  0.057739 -44.448416   \n",
       "4                       Indirect  -1.628786   4.532299  0.692000 -11.660133   \n",
       "\n",
       "   CI[97.5%]  sig  \n",
       "0   1.383325  Yes  \n",
       "1   2.746098   No  \n",
       "2  -4.679699  Yes  \n",
       "3   0.749466   No  \n",
       "4   7.462425   No  "
      ]
     },
     "execution_count": 32,
     "metadata": {},
     "output_type": "execute_result"
    }
   ],
   "source": [
    "df_aux = df[df[\"Condition\"]!=\"RC\"][[\"Condition\", \"Total scanning time [min]\", \"Number of sentences read\"]].fillna(0).copy()\n",
    "df_aux[\"Condition\"] = df_aux[\"Condition\"].replace([\"HC\", \"OC\"], [0, 1])\n",
    "mediation_analysis(data=df_aux.fillna(0), x='Condition', m='Total scanning time [min]', y='Number of sentences read')"
   ]
  },
  {
   "cell_type": "code",
   "execution_count": 33,
   "metadata": {},
   "outputs": [
    {
     "data": {
      "text/html": [
       "<div>\n",
       "<style scoped>\n",
       "    .dataframe tbody tr th:only-of-type {\n",
       "        vertical-align: middle;\n",
       "    }\n",
       "\n",
       "    .dataframe tbody tr th {\n",
       "        vertical-align: top;\n",
       "    }\n",
       "\n",
       "    .dataframe thead th {\n",
       "        text-align: right;\n",
       "    }\n",
       "</style>\n",
       "<table border=\"1\" class=\"dataframe\">\n",
       "  <thead>\n",
       "    <tr style=\"text-align: right;\">\n",
       "      <th></th>\n",
       "      <th>path</th>\n",
       "      <th>coef</th>\n",
       "      <th>se</th>\n",
       "      <th>pval</th>\n",
       "      <th>CI[2.5%]</th>\n",
       "      <th>CI[97.5%]</th>\n",
       "      <th>sig</th>\n",
       "    </tr>\n",
       "  </thead>\n",
       "  <tbody>\n",
       "    <tr>\n",
       "      <th>0</th>\n",
       "      <td>Total scanning time [min] ~ X</td>\n",
       "      <td>-1.311413</td>\n",
       "      <td>0.235956</td>\n",
       "      <td>0.000002</td>\n",
       "      <td>-1.786951</td>\n",
       "      <td>-0.835875</td>\n",
       "      <td>Yes</td>\n",
       "    </tr>\n",
       "    <tr>\n",
       "      <th>1</th>\n",
       "      <td>Y ~ Total scanning time [min]</td>\n",
       "      <td>-12.871138</td>\n",
       "      <td>4.829951</td>\n",
       "      <td>0.010727</td>\n",
       "      <td>-22.605265</td>\n",
       "      <td>-3.137012</td>\n",
       "      <td>Yes</td>\n",
       "    </tr>\n",
       "    <tr>\n",
       "      <th>2</th>\n",
       "      <td>Total</td>\n",
       "      <td>37.956522</td>\n",
       "      <td>8.956771</td>\n",
       "      <td>0.000114</td>\n",
       "      <td>19.905336</td>\n",
       "      <td>56.007708</td>\n",
       "      <td>Yes</td>\n",
       "    </tr>\n",
       "    <tr>\n",
       "      <th>3</th>\n",
       "      <td>Direct</td>\n",
       "      <td>35.874255</td>\n",
       "      <td>11.809973</td>\n",
       "      <td>0.004043</td>\n",
       "      <td>12.057175</td>\n",
       "      <td>59.691335</td>\n",
       "      <td>Yes</td>\n",
       "    </tr>\n",
       "    <tr>\n",
       "      <th>4</th>\n",
       "      <td>Indirect</td>\n",
       "      <td>2.082266</td>\n",
       "      <td>3.657934</td>\n",
       "      <td>0.464000</td>\n",
       "      <td>-4.481114</td>\n",
       "      <td>9.379596</td>\n",
       "      <td>No</td>\n",
       "    </tr>\n",
       "  </tbody>\n",
       "</table>\n",
       "</div>"
      ],
      "text/plain": [
       "                            path       coef         se      pval   CI[2.5%]  \\\n",
       "0  Total scanning time [min] ~ X  -1.311413   0.235956  0.000002  -1.786951   \n",
       "1  Y ~ Total scanning time [min] -12.871138   4.829951  0.010727 -22.605265   \n",
       "2                          Total  37.956522   8.956771  0.000114  19.905336   \n",
       "3                         Direct  35.874255  11.809973  0.004043  12.057175   \n",
       "4                       Indirect   2.082266   3.657934  0.464000  -4.481114   \n",
       "\n",
       "   CI[97.5%]  sig  \n",
       "0  -0.835875  Yes  \n",
       "1  -3.137012  Yes  \n",
       "2  56.007708  Yes  \n",
       "3  59.691335  Yes  \n",
       "4   9.379596   No  "
      ]
     },
     "execution_count": 33,
     "metadata": {},
     "output_type": "execute_result"
    }
   ],
   "source": [
    "df_aux = df[df[\"Condition\"]!=\"OC\"][[\"Condition\", \"Total scanning time [min]\", \"Number of sentences read\"]].fillna(0).copy()\n",
    "df_aux[\"Condition\"] = df_aux[\"Condition\"].replace([\"RC\", \"HC\"], [0, 1])\n",
    "mediation_analysis(data=df_aux.fillna(0), x='Condition', m='Total scanning time [min]', y='Number of sentences read')"
   ]
  },
  {
   "cell_type": "code",
   "execution_count": 34,
   "metadata": {},
   "outputs": [
    {
     "name": "stdout",
     "output_type": "stream",
     "text": [
      "~~~~~~~~~~~~~~~one way ANOVA~~~~~~~~~~~~~~~\n",
      "F_onewayResult(statistic=3.319843978547051, pvalue=0.042287193837986056)\n",
      "~~~~~~~~~~~~~~~~Tukey test~~~~~~~~~~~~~~~~~\n",
      "Multiple Comparison of Means - Tukey HSD, FWER=0.05 \n",
      "====================================================\n",
      "group1 group2 meandiff p-adj   lower   upper  reject\n",
      "----------------------------------------------------\n",
      "    HC     OC  -0.2174 0.8953 -1.3797  0.9449  False\n",
      "    HC     RC  -1.1739 0.0472 -2.3362 -0.0116   True\n",
      "    OC     RC  -0.9565 0.1269 -2.1188  0.2058  False\n",
      "----------------------------------------------------\n",
      "[0.89525198 0.0472266  0.12688014]\n",
      "['    ', '*   ', '    ']\n",
      "~~~~~~~~~~~~~~~~~~~~~~~~~~~~~~~~~~~~~~~~~~~\n"
     ]
    }
   ],
   "source": [
    "tukey(df, \"Caring [1-7]\")"
   ]
  },
  {
   "cell_type": "code",
   "execution_count": 35,
   "metadata": {},
   "outputs": [
    {
     "data": {
      "text/plain": [
       "Index(['Condition', 'Help Q1', 'Help Q10', 'Help Q11', 'Help Q12', 'Help Q13',\n",
       "       'Help Q14', 'Help Q15', 'Help Q2', 'Help Q3', 'Help Q4', 'Help Q5',\n",
       "       'Help Q6', 'Help Q7', 'Help Q8', 'Help Q9', 'Mental Model Q1',\n",
       "       'Mental Model Q15', 'Mental Model Q8', 'Mistakes Q1', 'Mistakes Q10',\n",
       "       'Mistakes Q11', 'Mistakes Q12', 'Mistakes Q13', 'Mistakes Q14',\n",
       "       'Mistakes Q15', 'Mistakes Q2', 'Mistakes Q3', 'Mistakes Q4',\n",
       "       'Mistakes Q5', 'Mistakes Q6', 'Mistakes Q7', 'Mistakes Q8',\n",
       "       'Mistakes Q9', 'Perspective taking task time [min]', 'Time Q1',\n",
       "       'Time Q10', 'Time Q11', 'Time Q12', 'Time Q13', 'Time Q14', 'Time Q15',\n",
       "       'Time Q2', 'Time Q3', 'Time Q4', 'Time Q5', 'Time Q6', 'Time Q7',\n",
       "       'Time Q8', 'Time Q9', 'Tries Q1', 'Tries Q10', 'Tries Q11', 'Tries Q12',\n",
       "       'Tries Q13', 'Tries Q14', 'Tries Q15', 'Tries Q2', 'Tries Q3',\n",
       "       'Tries Q4', 'Tries Q5', 'Tries Q6', 'Tries Q7', 'Tries Q8', 'Tries Q9',\n",
       "       'Number of sentences read', 'Sentences read prior guess',\n",
       "       'Total mistakes', 'Total help', 'Total tries',\n",
       "       'Total scanning time [min]', 'Age', 'Gender', 'Education',\n",
       "       'Did you read sentences to the robot?',\n",
       "       'Instructions easy to follow [1-7]', 'Sentences read post guess',\n",
       "       'Do you think the manner the robot addressed the object influenced how much time you spent helping it?',\n",
       "       'If you were to tell the robot to pick up the objects how would you do it?',\n",
       "       'Communicative skills [1-7]', 'Caring [1-7]', 'Likeable [1-7]',\n",
       "       'Empathetic [1-7]', 'Need for collecting data [1-7]',\n",
       "       'Prosocial behaviour time [min]', 'Perspective-Taking Scale',\n",
       "       'Empathic Concern Scale', 'Fantasy Scale'],\n",
       "      dtype='object')"
      ]
     },
     "execution_count": 35,
     "metadata": {},
     "output_type": "execute_result"
    }
   ],
   "source": [
    "df.columns"
   ]
  },
  {
   "cell_type": "code",
   "execution_count": 36,
   "metadata": {},
   "outputs": [
    {
     "name": "stdout",
     "output_type": "stream",
     "text": [
      "Done running\n"
     ]
    }
   ],
   "source": [
    "print(\"Done running\")"
   ]
  }
 ],
 "metadata": {
  "kernelspec": {
   "display_name": "Python 3.7.4 64-bit",
   "language": "python",
   "name": "python3"
  },
  "language_info": {
   "codemirror_mode": {
    "name": "ipython",
    "version": 3
   },
   "file_extension": ".py",
   "mimetype": "text/x-python",
   "name": "python",
   "nbconvert_exporter": "python",
   "pygments_lexer": "ipython3",
   "version": "3.7.4"
  },
  "orig_nbformat": 4,
  "vscode": {
   "interpreter": {
    "hash": "aee8b7b246df8f9039afb4144a1f6fd8d2ca17a180786b69acc140d282b71a49"
   }
  }
 },
 "nbformat": 4,
 "nbformat_minor": 2
}
