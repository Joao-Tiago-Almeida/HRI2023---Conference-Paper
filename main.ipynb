{
 "cells": [
  {
   "cell_type": "code",
   "execution_count": 1,
   "metadata": {},
   "outputs": [],
   "source": [
    "import pandas as pd\n",
    "import seaborn as sns"
   ]
  },
  {
   "cell_type": "code",
   "execution_count": 2,
   "metadata": {},
   "outputs": [],
   "source": [
    "df = pd.read_csv('results.csv') "
   ]
  },
  {
   "cell_type": "code",
   "execution_count": 3,
   "metadata": {},
   "outputs": [],
   "source": [
    "# compute score for each participant\n",
    "for i in range(df.shape[1]):\n",
    "    if df.iloc[:,i].name == \"I daydream and fantasize, with some regularity, about things that might happen to me.\":\n",
    "        iri_start = i\n",
    "        break\n",
    "\n",
    "# The questions were sorted by the number presented in the paper.\n",
    "iri_rules = {\n",
    "    \"0\" :   [\"Fantasy Scale\", \"+\"],\n",
    "    \"1\" :   [\"Empathic Concern Scale\", \"+\"],\n",
    "    \"2\" :   [\"Perspective-Taking Scale\", \"-\"],\n",
    "    \"3\" :   [\"Empathic Concern Scale\", \"-\"],\n",
    "    \"4\" :   [\"Fantasy Scale\", \"+\"],\n",
    "    \"5\" :   [\"Fantasy Scale\", \"-\"],\n",
    "    \"6\" :   [\"Perspective-Taking Scale\", \"+\"],\n",
    "    \"7\" :   [\"Empathic Concern Scale\", \"+\"],\n",
    "    \"8\" :   [\"Perspective-Taking Scale\", \"+\"],\n",
    "    \"9\" :   [\"Fantasy Scale\", \"-\"],\n",
    "    \"10\":   [\"Empathic Concern Scale\", \"-\"],\n",
    "    \"11\":   [\"Perspective-Taking Scale\", \"-\"],\n",
    "    \"12\":   [\"Fantasy Scale\", \"+\"],\n",
    "    \"13\":   [\"Empathic Concern Scale\", \"-\"],\n",
    "    \"14\":   [\"Empathic Concern Scale\", \"+\"],\n",
    "    \"15\":   [\"Perspective-Taking Scale\", \"+\"],\n",
    "    \"16\":   [\"Empathic Concern Scale\", \"+\"],\n",
    "    \"17\":   [\"Fantasy Scale\", \"+\"],\n",
    "    \"18\":   [\"Perspective-Taking Scale\", \"+\"],\n",
    "    \"19\":   [\"Fantasy Scale\", \"+\"],\n",
    "    \"20\":   [\"Perspective-Taking Scale\", \"+\"]\n",
    "}\n",
    "\n",
    "df_iri = pd.DataFrame()\n",
    "\n",
    "\n",
    "for id in df.index: # for each participant\n",
    "    pt, f, e = 0, 0, 0 # perspective-taking, fantasy, empathic\n",
    "\n",
    "    for i, x in enumerate(list(df.loc[id][iri_start:iri_start+21])):\n",
    "        if iri_rules[str(i)][0] == \"Fantasy Scale\":\n",
    "            f += x if iri_rules[str(i)][1] == \"+\" else -x\n",
    "        elif iri_rules[str(i)][0] == \"Empathic Concern Scale\":\n",
    "            e += x if iri_rules[str(i)][1] == \"+\" else -x\n",
    "        elif iri_rules[str(i)][0] == \"Perspective-Taking Scale\":\n",
    "            pt += x if iri_rules[str(i)][1] == \"+\" else -x\n",
    "\n",
    "    pt, f, e = pt/7.0, f/7.0, e/7.0\n",
    "    \n",
    "    df_iri = df_iri.append(\n",
    "        {\n",
    "            \"id\" : id,\n",
    "            \"Perspective-Taking Scale\" : pt,\n",
    "            \"Empathic Concern Scale\" : e,\n",
    "            \"Fantasy Scale\" : f\n",
    "        },\n",
    "        ignore_index=True\n",
    "    )\n",
    "\n",
    "\n",
    "df_iri.set_index(\"id\", inplace=True)\n",
    "\n",
    "df = df.merge(df_iri, left_index=True, right_index=True, how=\"outer\")\n",
    "df.drop(df.columns[iri_start:iri_start+21], axis=1, inplace=True)"
   ]
  },
  {
   "cell_type": "code",
   "execution_count": 4,
   "metadata": {},
   "outputs": [],
   "source": [
    "df.to_csv(\"results.csv\", sep=\";\")"
   ]
  }
 ],
 "metadata": {
  "kernelspec": {
   "display_name": "Python 3.7.4 64-bit",
   "language": "python",
   "name": "python3"
  },
  "language_info": {
   "codemirror_mode": {
    "name": "ipython",
    "version": 3
   },
   "file_extension": ".py",
   "mimetype": "text/x-python",
   "name": "python",
   "nbconvert_exporter": "python",
   "pygments_lexer": "ipython3",
   "version": "3.7.4"
  },
  "orig_nbformat": 4,
  "vscode": {
   "interpreter": {
    "hash": "aee8b7b246df8f9039afb4144a1f6fd8d2ca17a180786b69acc140d282b71a49"
   }
  }
 },
 "nbformat": 4,
 "nbformat_minor": 2
}
