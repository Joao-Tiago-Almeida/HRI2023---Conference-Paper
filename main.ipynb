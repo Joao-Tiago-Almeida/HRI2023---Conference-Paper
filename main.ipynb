{
 "cells": [
  {
   "cell_type": "code",
   "execution_count": 1,
   "metadata": {},
   "outputs": [],
   "source": [
    "import pandas as pd\n",
    "import seaborn as sns\n",
    "import matplotlib.pyplot as plt\n",
    "\n",
    "# Set the general theme for the figures\n",
    "sns.set(font_scale = 1.2)\n",
    "sns.set_style(\"whitegrid\")\n",
    "sns.set_palette(palette = \"colorblind\", n_colors = 3)"
   ]
  },
  {
   "cell_type": "markdown",
   "metadata": {},
   "source": [
    "# Statistical Functions"
   ]
  },
  {
   "cell_type": "code",
   "execution_count": 2,
   "metadata": {},
   "outputs": [],
   "source": [
    "from scipy.stats import f_oneway, ttest_ind, chi2_contingency, fisher_exact\n",
    "from statsmodels.stats.multicomp import pairwise_tukeyhsd"
   ]
  },
  {
   "cell_type": "code",
   "execution_count": 3,
   "metadata": {},
   "outputs": [],
   "source": [
    "def tukey(df, metric, fillna = 0):\n",
    "    print(\"~~~~~~~~~~~~~~~one way ANOVA~~~~~~~~~~~~~~~\")\n",
    "    \n",
    "    if fillna==False and type(fillna)==bool: df = df.dropna(subset = [metric])\n",
    "\n",
    "    #perform one-way ANOVA\n",
    "    anova = f_oneway(\n",
    "        list(df[df[\"Condition\"]==\"OC\"][metric].fillna(fillna)),\n",
    "        list(df[df[\"Condition\"]==\"RC\"][metric].fillna(fillna)),\n",
    "        list(df[df[\"Condition\"]==\"HC\"][metric].fillna(fillna))\n",
    "    )\n",
    "\n",
    "    print(anova)\n",
    "\n",
    "    # perform Tukey's test\n",
    "    tukey = pairwise_tukeyhsd(endog=df[metric].fillna(fillna),\n",
    "                            groups=df['Condition'],\n",
    "                            alpha=0.05)\n",
    "\n",
    "    print(\"~~~~~~~~~~~~~~~~Tukey test~~~~~~~~~~~~~~~~~\")\n",
    "\n",
    "    # display results\n",
    "    print(tukey)\n",
    "   \n",
    "    # compute the starts\n",
    "    stars_boundaries = [5e-2, 1e-2, 1e-3, 1e-4]\n",
    "    stars = ['*'*list(pair<=stars_boundaries).count(True) + \" \"*list(pair<=stars_boundaries).count(False) for pair in tukey.pvalues]\n",
    "    \n",
    "    print(tukey.pvalues)\n",
    "    print(stars)\n",
    "    print(\"~~~~~~~~~~~~~~~~~~~~~~~~~~~~~~~~~~~~~~~~~~~\")\n"
   ]
  },
  {
   "cell_type": "code",
   "execution_count": 4,
   "metadata": {},
   "outputs": [],
   "source": [
    "def ttest(df, metric, equal_var=True ,fillna = 0):\n",
    "    print(\"~~~~~~~~~~~~~~~one way ANOVA~~~~~~~~~~~~~~~\")\n",
    "    \n",
    "    if fillna==False and type(fillna)==bool: df = df.dropna(subset = [metric])\n",
    "\n",
    "    #perform one-way ANOVA\n",
    "    anova = f_oneway(\n",
    "        list(df[df[\"Condition\"]==\"OC\"][metric].fillna(fillna)),\n",
    "        list(df[df[\"Condition\"]==\"RC\"][metric].fillna(fillna)),\n",
    "        list(df[df[\"Condition\"]==\"HC\"][metric].fillna(fillna))\n",
    "    )\n",
    "\n",
    "    print(anova)\n",
    "\n",
    "    print(\"~~~~~~~~~~~~~~~~~~T-test~~~~~~~~~~~~~~~~~~~~\")\n",
    "\n",
    "    print(f'HC vs OC: {ttest_ind(list(df[df[\"Condition\"]==\"HC\"][metric].fillna(fillna)),list(df[df[\"Condition\"]==\"OC\"][metric].fillna(fillna))).pvalue:.5e}')\n",
    "    print(f'HC vs RC: {ttest_ind(list(df[df[\"Condition\"]==\"HC\"][metric].fillna(fillna)),list(df[df[\"Condition\"]==\"RC\"][metric].fillna(fillna))).pvalue:.5e}')\n",
    "    print(f'OC vs RC: {ttest_ind(list(df[df[\"Condition\"]==\"OC\"][metric].fillna(fillna)),list(df[df[\"Condition\"]==\"RC\"][metric].fillna(fillna))).pvalue:.5e}')\n",
    "    print(\"~~~~~~~~~~~~~~~~~~~~~~~~~~~~~~~~~~~~~~~~~~~\")"
   ]
  },
  {
   "cell_type": "markdown",
   "metadata": {},
   "source": [
    "# Load the Dataset"
   ]
  },
  {
   "cell_type": "code",
   "execution_count": 5,
   "metadata": {},
   "outputs": [],
   "source": [
    "df = pd.read_csv('results.csv', index_col=\"Unnamed: 0\")  # TODO eliminate all unused columns"
   ]
  },
  {
   "cell_type": "code",
   "execution_count": 6,
   "metadata": {},
   "outputs": [
    {
     "data": {
      "text/html": [
       "<div>\n",
       "<style scoped>\n",
       "    .dataframe tbody tr th:only-of-type {\n",
       "        vertical-align: middle;\n",
       "    }\n",
       "\n",
       "    .dataframe tbody tr th {\n",
       "        vertical-align: top;\n",
       "    }\n",
       "\n",
       "    .dataframe thead th {\n",
       "        text-align: right;\n",
       "    }\n",
       "</style>\n",
       "<table border=\"1\" class=\"dataframe\">\n",
       "  <thead>\n",
       "    <tr style=\"text-align: right;\">\n",
       "      <th></th>\n",
       "      <th>count</th>\n",
       "      <th>mean</th>\n",
       "      <th>std</th>\n",
       "      <th>min</th>\n",
       "      <th>25%</th>\n",
       "      <th>50%</th>\n",
       "      <th>75%</th>\n",
       "      <th>max</th>\n",
       "    </tr>\n",
       "    <tr>\n",
       "      <th>Condition</th>\n",
       "      <th></th>\n",
       "      <th></th>\n",
       "      <th></th>\n",
       "      <th></th>\n",
       "      <th></th>\n",
       "      <th></th>\n",
       "      <th></th>\n",
       "      <th></th>\n",
       "    </tr>\n",
       "  </thead>\n",
       "  <tbody>\n",
       "    <tr>\n",
       "      <th>HC</th>\n",
       "      <td>23.0</td>\n",
       "      <td>24.130435</td>\n",
       "      <td>3.279473</td>\n",
       "      <td>21.0</td>\n",
       "      <td>22.0</td>\n",
       "      <td>23.0</td>\n",
       "      <td>25.5</td>\n",
       "      <td>34.0</td>\n",
       "    </tr>\n",
       "    <tr>\n",
       "      <th>OC</th>\n",
       "      <td>23.0</td>\n",
       "      <td>26.043478</td>\n",
       "      <td>4.986147</td>\n",
       "      <td>19.0</td>\n",
       "      <td>23.0</td>\n",
       "      <td>24.0</td>\n",
       "      <td>29.5</td>\n",
       "      <td>39.0</td>\n",
       "    </tr>\n",
       "    <tr>\n",
       "      <th>RC</th>\n",
       "      <td>23.0</td>\n",
       "      <td>24.304348</td>\n",
       "      <td>4.016271</td>\n",
       "      <td>19.0</td>\n",
       "      <td>22.0</td>\n",
       "      <td>23.0</td>\n",
       "      <td>25.0</td>\n",
       "      <td>38.0</td>\n",
       "    </tr>\n",
       "  </tbody>\n",
       "</table>\n",
       "</div>"
      ],
      "text/plain": [
       "           count       mean       std   min   25%   50%   75%   max\n",
       "Condition                                                          \n",
       "HC          23.0  24.130435  3.279473  21.0  22.0  23.0  25.5  34.0\n",
       "OC          23.0  26.043478  4.986147  19.0  23.0  24.0  29.5  39.0\n",
       "RC          23.0  24.304348  4.016271  19.0  22.0  23.0  25.0  38.0"
      ]
     },
     "execution_count": 6,
     "metadata": {},
     "output_type": "execute_result"
    }
   ],
   "source": [
    "df.groupby(\"Condition\")[\"Age\"].describe()"
   ]
  },
  {
   "cell_type": "markdown",
   "metadata": {},
   "source": [
    "# Perspective-Taking"
   ]
  },
  {
   "cell_type": "markdown",
   "metadata": {},
   "source": [
    "## Confirms the results of the perspective-taken by the robot in the first task."
   ]
  },
  {
   "cell_type": "markdown",
   "metadata": {},
   "source": [
    "### Histogram of the time spent in the first perspective divided by the PT condition"
   ]
  },
  {
   "cell_type": "markdown",
   "metadata": {},
   "source": [
    "Histogram"
   ]
  },
  {
   "cell_type": "code",
   "execution_count": 7,
   "metadata": {},
   "outputs": [
    {
     "data": {
      "image/png": "[encoded data removed]",
      "text/plain": [
       "<Figure size 700x350 with 1 Axes>"
      ]
     },
     "metadata": {},
     "output_type": "display_data"
    }
   ],
   "source": [
    "plt.figure(figsize=(7.0, 3.5))\n",
    "g = sns.barplot(\n",
    "    data=df.fillna(0).replace([\"OC\",\"HC\",\"RC\"], [\"object-centered\", \"human-centered\", \"robot-centered\"]),\n",
    "    x=\"Condition\",\n",
    "    y=\"Perspective taking task time [min]\",\n",
    "    capsize = 0.2,\n",
    "    errwidth=1.5,\n",
    "    alpha=.95\n",
    ")\n",
    "\n",
    "# add significant values\n",
    "for p in g.patches:\n",
    "    g.annotate(format(p.get_height(), '.2f'), \n",
    "                   (p.get_x() + p.get_width() / 2., p.get_height()), \n",
    "                   ha = 'center', va = 'center', \n",
    "                   size=13,\n",
    "                   xytext = (33, 5), \n",
    "                   textcoords = 'offset points')\n",
    "\n",
    "y1, y2, y3 = 6.5, 7.2, 4.2\n",
    "h, col = 0.4, 'k'\n",
    "\n",
    "plt.plot([-0.05, -0.05, 2.05, 2.05], [y1, y2+3*h, y2+3*h, y3], lw=1.5, c=col)\n",
    "plt.text(0.5, y2+.7*h, \"**\", ha='center', va='bottom', color=col)\n",
    "\n",
    "# plt.plot([0.05, 0.05, 0.95, 0.95], [y1, y2+h, y2+h, y2], lw=1.5, c=col)\n",
    "\n",
    "plt.plot([1.05, 1.05, 1.95, 1.95], [y2, y2+h, y2+h, y3], lw=1.5, c=col)\n",
    "plt.text(1.5, y2+.7*h, \"***\", ha='center', va='bottom', color=col)\n",
    "\n",
    "plt.xlabel(\"\")\n",
    "plt.savefig(\"figures/PT time histogram.pdf\",bbox_inches='tight')"
   ]
  },
  {
   "cell_type": "markdown",
   "metadata": {},
   "source": [
    "ANOVA and Tukey statistical tests on the time spent in the PT by each condition"
   ]
  },
  {
   "cell_type": "code",
   "execution_count": 8,
   "metadata": {},
   "outputs": [
    {
     "name": "stdout",
     "output_type": "stream",
     "text": [
      "~~~~~~~~~~~~~~~one way ANOVA~~~~~~~~~~~~~~~\n",
      "F_onewayResult(statistic=12.848477834962202, pvalue=1.9374816569309807e-05)\n",
      "~~~~~~~~~~~~~~~~Tukey test~~~~~~~~~~~~~~~~~\n",
      "Multiple Comparison of Means - Tukey HSD, FWER=0.05\n",
      "===================================================\n",
      "group1 group2 meandiff p-adj   lower  upper  reject\n",
      "---------------------------------------------------\n",
      "    HC     OC   1.7983 0.0015  0.6155 2.9811   True\n",
      "    HC     RC    2.404  0.001  1.2212 3.5867   True\n",
      "    OC     RC   0.6057 0.4431 -0.5771 1.7884  False\n",
      "---------------------------------------------------\n",
      "[0.00151074 0.001      0.44305985]\n",
      "['**  ', '*** ', '    ']\n",
      "~~~~~~~~~~~~~~~~~~~~~~~~~~~~~~~~~~~~~~~~~~~\n"
     ]
    }
   ],
   "source": [
    "tukey(df, \"Perspective taking task time [min]\")"
   ]
  },
  {
   "cell_type": "markdown",
   "metadata": {},
   "source": [
    "### Heat map: conditoin versus reverse condition"
   ]
  },
  {
   "cell_type": "markdown",
   "metadata": {},
   "source": [
    "Create a CMAP from a discret pallet, highlightning the transition red -> yellow representing the small values. Why? Because in the heatmap, the total column has high values, and by increasing the contrast before in the continous scale, I'm adding more contrast in on the heatmap per se."
   ]
  },
  {
   "cell_type": "code",
   "execution_count": 9,
   "metadata": {},
   "outputs": [],
   "source": [
    "from matplotlib.colors import ListedColormap\n",
    "\n",
    "colorarray = sns.color_palette(palette = \"colorblind\", n_colors = 3)[:]\n",
    "increment = [[colorarray[1][0]-colorarray[0][0], colorarray[1][1]-colorarray[0][1], colorarray[1][2]-colorarray[0][2]],[colorarray[2][0]-colorarray[1][0], colorarray[2][1]-colorarray[1][1], colorarray[2][2]-colorarray[1][2]]]\n",
    "threshold = 33.0    # to control each increment is more significative in the continuous map\n",
    "for i in range(98):\n",
    "    if i < threshold: colorarray.insert(i+1,[colorarray[i][j]+increment[0][j]/threshold for j in range(3)])\n",
    "    else: colorarray.insert(i+2,[colorarray[i+1][j]+increment[1][j]/(98-threshold) for j in range(3)])\n",
    "\n",
    "cmap = ListedColormap(colorarray)"
   ]
  },
  {
   "cell_type": "markdown",
   "metadata": {},
   "source": [
    "Heatmap"
   ]
  },
  {
   "cell_type": "code",
   "execution_count": 10,
   "metadata": {},
   "outputs": [
    {
     "data": {
      "image/png": "[encoded data removed]",
      "text/plain": [
       "<Figure size 700x500 with 2 Axes>"
      ]
     },
     "metadata": {},
     "output_type": "display_data"
    }
   ],
   "source": [
    "df_aux = df[[\"Condition\", \"If you were to tell the robot to pick up the objects how would you do it?\"]].value_counts().copy()\n",
    "df_heatmap = pd.DataFrame(columns=[\"Condition\", \"Perspective chosen for inverse roles\", 'Occurrences'], dtype=\"float\")\n",
    "for condition_pair, occupance, in df_aux.iteritems():\n",
    "    ideal_condition = \"addressee-\\n-centric\" if \"your\" in condition_pair[1] else \"egocentric\" if \"my\" in condition_pair[1] else \"object-\\n-centric\"\n",
    "    df_heatmap = df_heatmap.append({\n",
    "        \"Condition\": condition_pair[0],\n",
    "        \"Perspective chosen for inverse roles\": ideal_condition,\n",
    "        'Occurrences': occupance},\n",
    "        ignore_index=True)\n",
    "\n",
    "total = df_heatmap[[\"Perspective chosen for inverse roles\", \"Occurrences\"]].groupby(\"Perspective chosen for inverse roles\").sum().to_dict()[\"Occurrences\"]\n",
    "for key, value in total.items():\n",
    "    df_heatmap = df_heatmap.append({\n",
    "        \"Condition\": \"total\",\n",
    "        \"Perspective chosen for inverse roles\": key,\n",
    "        'Occurrences': value},\n",
    "        ignore_index=True)\n",
    "\n",
    "df_heatmap = df_heatmap.pivot(\"Perspective chosen for inverse roles\", \"Condition\", \"Occurrences\")\n",
    "# sorting\n",
    "df_heatmap_aux = df_heatmap[[\"OC\", \"RC\", \"HC\",\"total\"]].copy()\n",
    "df_heatmap_aux = df_heatmap_aux.reindex([\"object-\\n-centric\", \"egocentric\", \"addressee-\\n-centric\"])\n",
    "df_heatmap_aux.rename(columns = {\"OC\":\"object-\\n-centered\", \"RC\": \"robot-\\n-centered\", \"HC\": \"human-\\n-centered\"}, inplace = True)\n",
    "\n",
    "plt.figure(figsize=(7.0, 5.0))\n",
    "ax = sns.heatmap(df_heatmap_aux, annot=True, cmap = cmap, square=\"True\", cbar_kws={\"extend\": \"both\", \"shrink\": 0.85}, robust=True, linewidths=0.05,alpha=.95)\n",
    "ax.axvline(3, color='white', lw=8)\n",
    "plt.yticks(rotation=0)\n",
    "plt.xticks(rotation=0)\n",
    "\n",
    "plt.xlabel(\"\")\n",
    "plt.savefig(f\"figures/Condition_chosen_for_inverse_roles.pdf\",bbox_inches='tight')"
   ]
  },
  {
   "cell_type": "code",
   "execution_count": 11,
   "metadata": {},
   "outputs": [
    {
     "data": {
      "text/plain": [
       "Index(['addressee-\\n-centric', 'egocentric', 'object-\\n-centric'], dtype='object', name='Perspective chosen for inverse roles')"
      ]
     },
     "execution_count": 11,
     "metadata": {},
     "output_type": "execute_result"
    }
   ],
   "source": [
    "df_heatmap.index"
   ]
  },
  {
   "cell_type": "markdown",
   "metadata": {},
   "source": [
    "Chi-square test on the Perspective chosen by condition"
   ]
  },
  {
   "cell_type": "code",
   "execution_count": 12,
   "metadata": {},
   "outputs": [
    {
     "name": "stdout",
     "output_type": "stream",
     "text": [
      "(9.981176470588235, 0.04074595837884791, 4, array([[ 8.33333333,  8.33333333,  8.33333333],\n",
      "       [ 3.33333333,  3.33333333,  3.33333333],\n",
      "       [11.33333333, 11.33333333, 11.33333333]]))\n",
      "(5.9218045112781965, 0.051772184348142326, 2, array([[10. , 10. ],\n",
      "       [ 3.5,  3.5],\n",
      "       [ 9.5,  9.5]]))\n",
      "(0.37662337662337664, 0.8283564779591569, 2, array([[ 5.5,  5.5],\n",
      "       [ 3.5,  3.5],\n",
      "       [14. , 14. ]]))\n",
      "(8.1203007518797, 0.017246425472900912, 2, array([[ 9.5,  9.5],\n",
      "       [ 3. ,  3. ],\n",
      "       [10.5, 10.5]]))\n"
     ]
    }
   ],
   "source": [
    "df_heatmap.rename(columns={\"HC\":\"human-centered\", \"RC\":\"robot-centered\", \"OC\":\"object-centered\"}, inplace=True)\n",
    "print(chi2_contingency(df_heatmap[[\"human-centered\", \"robot-centered\", \"object-centered\"]]))\n",
    "print(chi2_contingency(df_heatmap[[\"robot-centered\", \"object-centered\"]]))\n",
    "print(chi2_contingency(df_heatmap[[\"human-centered\", \"object-centered\"]]))\n",
    "print(chi2_contingency(df_heatmap[[\"human-centered\", \"robot-centered\"]]))"
   ]
  },
  {
   "cell_type": "code",
   "execution_count": 13,
   "metadata": {},
   "outputs": [
    {
     "data": {
      "text/html": [
       "<div>\n",
       "<style scoped>\n",
       "    .dataframe tbody tr th:only-of-type {\n",
       "        vertical-align: middle;\n",
       "    }\n",
       "\n",
       "    .dataframe tbody tr th {\n",
       "        vertical-align: top;\n",
       "    }\n",
       "\n",
       "    .dataframe thead th {\n",
       "        text-align: right;\n",
       "    }\n",
       "</style>\n",
       "<table border=\"1\" class=\"dataframe\">\n",
       "  <thead>\n",
       "    <tr style=\"text-align: right;\">\n",
       "      <th>Condition</th>\n",
       "      <th>robot-centered</th>\n",
       "      <th>object-centered</th>\n",
       "    </tr>\n",
       "    <tr>\n",
       "      <th>Perspective chosen for inverse roles</th>\n",
       "      <th></th>\n",
       "      <th></th>\n",
       "    </tr>\n",
       "  </thead>\n",
       "  <tbody>\n",
       "    <tr>\n",
       "      <th>object-\\n-centric</th>\n",
       "      <td>6.0</td>\n",
       "      <td>13.0</td>\n",
       "    </tr>\n",
       "    <tr>\n",
       "      <th>egocentric</th>\n",
       "      <td>3.0</td>\n",
       "      <td>4.0</td>\n",
       "    </tr>\n",
       "  </tbody>\n",
       "</table>\n",
       "</div>"
      ],
      "text/plain": [
       "Condition                             robot-centered  object-centered\n",
       "Perspective chosen for inverse roles                                 \n",
       "object-\\n-centric                                6.0             13.0\n",
       "egocentric                                       3.0              4.0"
      ]
     },
     "execution_count": 13,
     "metadata": {},
     "output_type": "execute_result"
    }
   ],
   "source": [
    "df_heatmap.loc[['object-\\n-centric', 'egocentric'], [\"robot-centered\", \"object-centered\"]]"
   ]
  },
  {
   "cell_type": "code",
   "execution_count": 14,
   "metadata": {},
   "outputs": [
    {
     "data": {
      "text/html": [
       "<div>\n",
       "<style scoped>\n",
       "    .dataframe tbody tr th:only-of-type {\n",
       "        vertical-align: middle;\n",
       "    }\n",
       "\n",
       "    .dataframe tbody tr th {\n",
       "        vertical-align: top;\n",
       "    }\n",
       "\n",
       "    .dataframe thead th {\n",
       "        text-align: right;\n",
       "    }\n",
       "</style>\n",
       "<table border=\"1\" class=\"dataframe\">\n",
       "  <thead>\n",
       "    <tr style=\"text-align: right;\">\n",
       "      <th>Condition</th>\n",
       "      <th>robot-centered</th>\n",
       "      <th>object-centered</th>\n",
       "    </tr>\n",
       "    <tr>\n",
       "      <th>Perspective chosen for inverse roles</th>\n",
       "      <th></th>\n",
       "      <th></th>\n",
       "    </tr>\n",
       "  </thead>\n",
       "  <tbody>\n",
       "    <tr>\n",
       "      <th>addressee-\\n-centric</th>\n",
       "      <td>14.0</td>\n",
       "      <td>6.0</td>\n",
       "    </tr>\n",
       "    <tr>\n",
       "      <th>egocentric</th>\n",
       "      <td>3.0</td>\n",
       "      <td>4.0</td>\n",
       "    </tr>\n",
       "    <tr>\n",
       "      <th>object-\\n-centric</th>\n",
       "      <td>6.0</td>\n",
       "      <td>13.0</td>\n",
       "    </tr>\n",
       "  </tbody>\n",
       "</table>\n",
       "</div>"
      ],
      "text/plain": [
       "Condition                             robot-centered  object-centered\n",
       "Perspective chosen for inverse roles                                 \n",
       "addressee-\\n-centric                            14.0              6.0\n",
       "egocentric                                       3.0              4.0\n",
       "object-\\n-centric                                6.0             13.0"
      ]
     },
     "execution_count": 14,
     "metadata": {},
     "output_type": "execute_result"
    }
   ],
   "source": [
    "df_heatmap[[\"robot-centered\", \"object-centered\"]]"
   ]
  },
  {
   "cell_type": "markdown",
   "metadata": {},
   "source": [
    "## Personal Traits on answering the question: Do you think the manner the robot addressed the object influenced how much time you spent helping it?"
   ]
  },
  {
   "cell_type": "markdown",
   "metadata": {},
   "source": [
    "ANOVA and tuukey tests on the answers to the question by group"
   ]
  },
  {
   "cell_type": "code",
   "execution_count": 15,
   "metadata": {},
   "outputs": [
    {
     "name": "stdout",
     "output_type": "stream",
     "text": [
      "~~~~~~~~~~~~~~~one way ANOVA~~~~~~~~~~~~~~~\n",
      "F_onewayResult(statistic=5.848338540187446, pvalue=0.004588483518283926)\n",
      "~~~~~~~~~~~~~~~~Tukey test~~~~~~~~~~~~~~~~~\n",
      "Multiple Comparison of Means - Tukey HSD, FWER=0.05 \n",
      "====================================================\n",
      "group1 group2 meandiff p-adj   lower   upper  reject\n",
      "----------------------------------------------------\n",
      "    HC     OC  -0.5217 0.6756 -2.0446  1.0011  False\n",
      "    HC     RC   -2.087 0.0046 -3.6098 -0.5641   True\n",
      "    OC     RC  -1.5652 0.0426 -3.0881 -0.0424   True\n",
      "----------------------------------------------------\n",
      "[0.67560894 0.00458526 0.04263353]\n",
      "['    ', '**  ', '*   ']\n",
      "~~~~~~~~~~~~~~~~~~~~~~~~~~~~~~~~~~~~~~~~~~~\n"
     ]
    }
   ],
   "source": [
    "tukey(df, \"Do you think the manner the robot addressed the object influenced how much time you spent helping it?\")"
   ]
  },
  {
   "cell_type": "markdown",
   "metadata": {},
   "source": [
    "### Perspective-Taking Scale"
   ]
  },
  {
   "cell_type": "markdown",
   "metadata": {},
   "source": [
    "2D Inference"
   ]
  },
  {
   "cell_type": "markdown",
   "metadata": {},
   "source": [
    "Statistical analyses"
   ]
  },
  {
   "cell_type": "code",
   "execution_count": 16,
   "metadata": {},
   "outputs": [
    {
     "name": "stdout",
     "output_type": "stream",
     "text": [
      "~~~~~~~~~~~~~~~one way ANOVA~~~~~~~~~~~~~~~\n",
      "F_onewayResult(statistic=0.252902535899786, pvalue=0.7772926391471243)\n",
      "~~~~~~~~~~~~~~~~Tukey test~~~~~~~~~~~~~~~~~\n",
      "Multiple Comparison of Means - Tukey HSD, FWER=0.05\n",
      "===================================================\n",
      "group1 group2 meandiff p-adj   lower  upper  reject\n",
      "---------------------------------------------------\n",
      "    HC     OC  -0.0683    0.9 -0.4878 0.3512  False\n",
      "    HC     RC   0.0559    0.9 -0.3636 0.4754  False\n",
      "    OC     RC   0.1242 0.7389 -0.2953 0.5437  False\n",
      "---------------------------------------------------\n",
      "[0.9        0.9        0.73887006]\n",
      "['    ', '    ', '    ']\n",
      "~~~~~~~~~~~~~~~~~~~~~~~~~~~~~~~~~~~~~~~~~~~\n"
     ]
    }
   ],
   "source": [
    "tukey(df, \"Perspective-Taking Scale\")"
   ]
  },
  {
   "cell_type": "markdown",
   "metadata": {},
   "source": [
    "### Empathic Concern Scale"
   ]
  },
  {
   "cell_type": "markdown",
   "metadata": {},
   "source": [
    "2D Inference"
   ]
  },
  {
   "cell_type": "markdown",
   "metadata": {},
   "source": [
    "Statistical analyses"
   ]
  },
  {
   "cell_type": "code",
   "execution_count": 17,
   "metadata": {},
   "outputs": [
    {
     "name": "stdout",
     "output_type": "stream",
     "text": [
      "~~~~~~~~~~~~~~~one way ANOVA~~~~~~~~~~~~~~~\n",
      "F_onewayResult(statistic=0.6112814224402205, pvalue=0.5456984253323292)\n",
      "~~~~~~~~~~~~~~~~Tukey test~~~~~~~~~~~~~~~~~\n",
      "Multiple Comparison of Means - Tukey HSD, FWER=0.05\n",
      "===================================================\n",
      "group1 group2 meandiff p-adj   lower  upper  reject\n",
      "---------------------------------------------------\n",
      "    HC     OC  -0.2236 0.5222 -0.7147 0.2675  False\n",
      "    HC     RC  -0.1429  0.746 -0.6339 0.3482  False\n",
      "    OC     RC   0.0807    0.9 -0.4103 0.5718  False\n",
      "---------------------------------------------------\n",
      "[0.52219444 0.74597413 0.9       ]\n",
      "['    ', '    ', '    ']\n",
      "~~~~~~~~~~~~~~~~~~~~~~~~~~~~~~~~~~~~~~~~~~~\n"
     ]
    }
   ],
   "source": [
    "tukey(df, \"Empathic Concern Scale\")"
   ]
  },
  {
   "cell_type": "markdown",
   "metadata": {},
   "source": [
    "### Fantasy Scale"
   ]
  },
  {
   "cell_type": "markdown",
   "metadata": {},
   "source": [
    "Statistical analyses"
   ]
  },
  {
   "cell_type": "code",
   "execution_count": 18,
   "metadata": {},
   "outputs": [
    {
     "name": "stdout",
     "output_type": "stream",
     "text": [
      "~~~~~~~~~~~~~~~one way ANOVA~~~~~~~~~~~~~~~\n",
      "F_onewayResult(statistic=0.5942368587713747, pvalue=0.5549096517575077)\n",
      "~~~~~~~~~~~~~~~~Tukey test~~~~~~~~~~~~~~~~~\n",
      "Multiple Comparison of Means - Tukey HSD, FWER=0.05\n",
      "===================================================\n",
      "group1 group2 meandiff p-adj   lower  upper  reject\n",
      "---------------------------------------------------\n",
      "    HC     OC   0.1677 0.6465  -0.293 0.6284  False\n",
      "    HC     RC  -0.0248    0.9 -0.4855 0.4359  False\n",
      "    OC     RC  -0.1925 0.5731 -0.6532 0.2682  False\n",
      "---------------------------------------------------\n",
      "[0.64647125 0.9        0.57307768]\n",
      "['    ', '    ', '    ']\n",
      "~~~~~~~~~~~~~~~~~~~~~~~~~~~~~~~~~~~~~~~~~~~\n"
     ]
    }
   ],
   "source": [
    "tukey(df, \"Fantasy Scale\")"
   ]
  },
  {
   "cell_type": "markdown",
   "metadata": {},
   "source": [
    "# Prosocial Behavior"
   ]
  },
  {
   "cell_type": "markdown",
   "metadata": {},
   "source": [
    "## Analysis of the number of sentences read"
   ]
  },
  {
   "cell_type": "markdown",
   "metadata": {},
   "source": [
    "### Prosocial Behavior metrics correlation"
   ]
  },
  {
   "cell_type": "code",
   "execution_count": 19,
   "metadata": {},
   "outputs": [
    {
     "data": {
      "text/html": [
       "<div>\n",
       "<style scoped>\n",
       "    .dataframe tbody tr th:only-of-type {\n",
       "        vertical-align: middle;\n",
       "    }\n",
       "\n",
       "    .dataframe tbody tr th {\n",
       "        vertical-align: top;\n",
       "    }\n",
       "\n",
       "    .dataframe thead th {\n",
       "        text-align: right;\n",
       "    }\n",
       "</style>\n",
       "<table border=\"1\" class=\"dataframe\">\n",
       "  <thead>\n",
       "    <tr style=\"text-align: right;\">\n",
       "      <th></th>\n",
       "      <th>Number of sentences read</th>\n",
       "      <th>Prosocial behaviour time [min]</th>\n",
       "      <th>Sentences read prior guess</th>\n",
       "    </tr>\n",
       "  </thead>\n",
       "  <tbody>\n",
       "    <tr>\n",
       "      <th>Number of sentences read</th>\n",
       "      <td>1.000000</td>\n",
       "      <td>0.900477</td>\n",
       "      <td>0.728879</td>\n",
       "    </tr>\n",
       "    <tr>\n",
       "      <th>Prosocial behaviour time [min]</th>\n",
       "      <td>0.900477</td>\n",
       "      <td>1.000000</td>\n",
       "      <td>0.683100</td>\n",
       "    </tr>\n",
       "    <tr>\n",
       "      <th>Sentences read prior guess</th>\n",
       "      <td>0.728879</td>\n",
       "      <td>0.683100</td>\n",
       "      <td>1.000000</td>\n",
       "    </tr>\n",
       "  </tbody>\n",
       "</table>\n",
       "</div>"
      ],
      "text/plain": [
       "                                Number of sentences read  \\\n",
       "Number of sentences read                        1.000000   \n",
       "Prosocial behaviour time [min]                  0.900477   \n",
       "Sentences read prior guess                      0.728879   \n",
       "\n",
       "                                Prosocial behaviour time [min]  \\\n",
       "Number of sentences read                              0.900477   \n",
       "Prosocial behaviour time [min]                        1.000000   \n",
       "Sentences read prior guess                            0.683100   \n",
       "\n",
       "                                Sentences read prior guess  \n",
       "Number of sentences read                          0.728879  \n",
       "Prosocial behaviour time [min]                    0.683100  \n",
       "Sentences read prior guess                        1.000000  "
      ]
     },
     "execution_count": 19,
     "metadata": {},
     "output_type": "execute_result"
    }
   ],
   "source": [
    "df[[\"Number of sentences read\", \"Prosocial behaviour time [min]\", \"Sentences read prior guess\"]].fillna(0).corr()"
   ]
  },
  {
   "cell_type": "code",
   "execution_count": 20,
   "metadata": {},
   "outputs": [
    {
     "data": {
      "text/html": [
       "<div>\n",
       "<style scoped>\n",
       "    .dataframe tbody tr th:only-of-type {\n",
       "        vertical-align: middle;\n",
       "    }\n",
       "\n",
       "    .dataframe tbody tr th {\n",
       "        vertical-align: top;\n",
       "    }\n",
       "\n",
       "    .dataframe thead th {\n",
       "        text-align: right;\n",
       "    }\n",
       "</style>\n",
       "<table border=\"1\" class=\"dataframe\">\n",
       "  <thead>\n",
       "    <tr style=\"text-align: right;\">\n",
       "      <th>Did you read sentences to the robot?</th>\n",
       "      <th>No</th>\n",
       "      <th>Yes</th>\n",
       "    </tr>\n",
       "    <tr>\n",
       "      <th>Condition</th>\n",
       "      <th></th>\n",
       "      <th></th>\n",
       "    </tr>\n",
       "  </thead>\n",
       "  <tbody>\n",
       "    <tr>\n",
       "      <th>HC</th>\n",
       "      <td>0</td>\n",
       "      <td>23</td>\n",
       "    </tr>\n",
       "    <tr>\n",
       "      <th>OC</th>\n",
       "      <td>3</td>\n",
       "      <td>20</td>\n",
       "    </tr>\n",
       "    <tr>\n",
       "      <th>RC</th>\n",
       "      <td>10</td>\n",
       "      <td>13</td>\n",
       "    </tr>\n",
       "  </tbody>\n",
       "</table>\n",
       "</div>"
      ],
      "text/plain": [
       "Did you read sentences to the robot?  No  Yes\n",
       "Condition                                    \n",
       "HC                                     0   23\n",
       "OC                                     3   20\n",
       "RC                                    10   13"
      ]
     },
     "execution_count": 20,
     "metadata": {},
     "output_type": "execute_result"
    }
   ],
   "source": [
    "pd.crosstab(df[\"Condition\"], df[\"Did you read sentences to the robot?\"])"
   ]
  },
  {
   "cell_type": "code",
   "execution_count": 21,
   "metadata": {},
   "outputs": [
    {
     "name": "stdout",
     "output_type": "stream",
     "text": [
      "Chi-square test between RC and OC: Chi = 3.860\\;p=4.945e-02\\;df=1\n",
      "Chi-square test between HC and OC: Chi = 1.426\\;p=2.324e-01\\;df=1\n"
     ]
    },
    {
     "data": {
      "text/plain": [
       "(14.975274725274726,\n",
       " 0.0005599643916268729,\n",
       " 2,\n",
       " array([[ 4.33333333, 18.66666667],\n",
       "        [ 4.33333333, 18.66666667],\n",
       "        [ 4.33333333, 18.66666667]]))"
      ]
     },
     "execution_count": 21,
     "metadata": {},
     "output_type": "execute_result"
    }
   ],
   "source": [
    "x = chi2_contingency(pd.crosstab(df[df[\"Condition\"]!=\"HC\"][\"Condition\"], df[\"Did you read sentences to the robot?\"]))\n",
    "print(f\"Chi-square test between RC and OC: Chi = {x[0]:.3f}\\;p={x[1]:.3e}\\;df={x[2]}\")\n",
    "x = chi2_contingency(pd.crosstab(df[df[\"Condition\"]!=\"RC\"][\"Condition\"], df[\"Did you read sentences to the robot?\"]))\n",
    "print(f\"Chi-square test between HC and OC: Chi = {x[0]:.3f}\\;p={x[1]:.3e}\\;df={x[2]}\")\n",
    "chi2_contingency(pd.crosstab(df[\"Condition\"], df[\"Did you read sentences to the robot?\"]))"
   ]
  },
  {
   "cell_type": "markdown",
   "metadata": {},
   "source": [
    "### Histogram of the sentences read by group"
   ]
  },
  {
   "cell_type": "markdown",
   "metadata": {},
   "source": [
    "Histogram"
   ]
  },
  {
   "cell_type": "code",
   "execution_count": 22,
   "metadata": {},
   "outputs": [
    {
     "data": {
      "image/png": "[encoded data removed]",
      "text/plain": [
       "<Figure size 700x350 with 1 Axes>"
      ]
     },
     "metadata": {},
     "output_type": "display_data"
    }
   ],
   "source": [
    "plt.figure(figsize=(7.0, 3.5))\n",
    "g = sns.barplot(\n",
    "    data=df.fillna(0).replace([\"OC\",\"HC\",\"RC\"], [\"object-centered\", \"human-centered\", \"robot-centered\"]),\n",
    "    x=\"Condition\",\n",
    "    y=\"Number of sentences read\",\n",
    "    capsize = 0.2,\n",
    "    errwidth=1.5,\n",
    "    alpha=.95\n",
    ")\n",
    "\n",
    "# add significant values\n",
    "for p in g.patches:\n",
    "    g.annotate(format(p.get_height(), '.2f'), \n",
    "                   (p.get_x() + p.get_width() / 2., p.get_height()), \n",
    "                   ha = 'center', va = 'center', \n",
    "                   size=13,\n",
    "                   xytext = (30, 5), \n",
    "                   textcoords = 'offset points')\n",
    "\n",
    "y1, y2, y3 = 36, 21, 68\n",
    "h, col = 3, 'k'\n",
    "\n",
    "plt.plot([-0.05, -0.05, 2.05, 2.05], [y1, y3+3*h, y3+3*h, y3], lw=1.5, c=col)\n",
    "plt.text(0.5, y3+.6*h, \"*\", ha='center', va='bottom', color=col)\n",
    "\n",
    "plt.plot([0.05, 0.05, 0.95, 0.95], [y1, y1+h, y1+h, y2], lw=1.5, c=col)\n",
    "plt.text(0.5, y1+.6*h, \"*\", ha='center', va='bottom', color=col)\n",
    "\n",
    "plt.plot([1.05, 1.05, 1.95, 1.95], [y2, y3+h, y3+h, y3], lw=1.5, c=col)\n",
    "plt.text(1.5, y3-1.4*h, \"***\", ha='center', va='bottom', color=col)\n",
    "\n",
    "plt.xlabel(\"\")\n",
    "plt.savefig(\"figures/PT time on sentences read histogram.pdf\",bbox_inches='tight')  "
   ]
  },
  {
   "cell_type": "code",
   "execution_count": 23,
   "metadata": {},
   "outputs": [
    {
     "data": {
      "text/html": [
       "<div>\n",
       "<style scoped>\n",
       "    .dataframe tbody tr th:only-of-type {\n",
       "        vertical-align: middle;\n",
       "    }\n",
       "\n",
       "    .dataframe tbody tr th {\n",
       "        vertical-align: top;\n",
       "    }\n",
       "\n",
       "    .dataframe thead th {\n",
       "        text-align: right;\n",
       "    }\n",
       "</style>\n",
       "<table border=\"1\" class=\"dataframe\">\n",
       "  <thead>\n",
       "    <tr style=\"text-align: right;\">\n",
       "      <th></th>\n",
       "      <th>count</th>\n",
       "      <th>mean</th>\n",
       "      <th>std</th>\n",
       "      <th>min</th>\n",
       "      <th>25%</th>\n",
       "      <th>50%</th>\n",
       "      <th>75%</th>\n",
       "      <th>max</th>\n",
       "    </tr>\n",
       "    <tr>\n",
       "      <th>Condition</th>\n",
       "      <th></th>\n",
       "      <th></th>\n",
       "      <th></th>\n",
       "      <th></th>\n",
       "      <th></th>\n",
       "      <th></th>\n",
       "      <th></th>\n",
       "      <th></th>\n",
       "    </tr>\n",
       "  </thead>\n",
       "  <tbody>\n",
       "    <tr>\n",
       "      <th>HC</th>\n",
       "      <td>23.0</td>\n",
       "      <td>48.173913</td>\n",
       "      <td>39.373101</td>\n",
       "      <td>3.0</td>\n",
       "      <td>21.0</td>\n",
       "      <td>40.0</td>\n",
       "      <td>56.0</td>\n",
       "      <td>150.0</td>\n",
       "    </tr>\n",
       "    <tr>\n",
       "      <th>OC</th>\n",
       "      <td>23.0</td>\n",
       "      <td>24.695652</td>\n",
       "      <td>21.233410</td>\n",
       "      <td>0.0</td>\n",
       "      <td>12.0</td>\n",
       "      <td>16.0</td>\n",
       "      <td>35.5</td>\n",
       "      <td>79.0</td>\n",
       "    </tr>\n",
       "    <tr>\n",
       "      <th>RC</th>\n",
       "      <td>23.0</td>\n",
       "      <td>10.217391</td>\n",
       "      <td>17.172802</td>\n",
       "      <td>0.0</td>\n",
       "      <td>0.0</td>\n",
       "      <td>4.0</td>\n",
       "      <td>12.0</td>\n",
       "      <td>73.0</td>\n",
       "    </tr>\n",
       "  </tbody>\n",
       "</table>\n",
       "</div>"
      ],
      "text/plain": [
       "           count       mean        std  min   25%   50%   75%    max\n",
       "Condition                                                           \n",
       "HC          23.0  48.173913  39.373101  3.0  21.0  40.0  56.0  150.0\n",
       "OC          23.0  24.695652  21.233410  0.0  12.0  16.0  35.5   79.0\n",
       "RC          23.0  10.217391  17.172802  0.0   0.0   4.0  12.0   73.0"
      ]
     },
     "execution_count": 23,
     "metadata": {},
     "output_type": "execute_result"
    }
   ],
   "source": [
    "df.fillna(0).groupby(\"Condition\")[\"Number of sentences read\"].describe()"
   ]
  },
  {
   "cell_type": "markdown",
   "metadata": {},
   "source": [
    "Statistical Analyses"
   ]
  },
  {
   "cell_type": "code",
   "execution_count": 24,
   "metadata": {},
   "outputs": [
    {
     "name": "stdout",
     "output_type": "stream",
     "text": [
      "~~~~~~~~~~~~~~~one way ANOVA~~~~~~~~~~~~~~~\n",
      "F_onewayResult(statistic=11.02688981888106, pvalue=7.383559724802273e-05)\n",
      "~~~~~~~~~~~~~~~~~~T-test~~~~~~~~~~~~~~~~~~~~\n",
      "HC vs OC: 1.55511e-02\n",
      "HC vs RC: 1.13675e-04\n",
      "OC vs RC: 1.45968e-02\n",
      "~~~~~~~~~~~~~~~~~~~~~~~~~~~~~~~~~~~~~~~~~~~\n"
     ]
    }
   ],
   "source": [
    "ttest(df, \"Number of sentences read\")"
   ]
  },
  {
   "cell_type": "markdown",
   "metadata": {},
   "source": [
    "### Inference of the time spent on the PT task on the sentences read"
   ]
  },
  {
   "cell_type": "markdown",
   "metadata": {},
   "source": [
    "2D Inference"
   ]
  },
  {
   "cell_type": "code",
   "execution_count": 25,
   "metadata": {},
   "outputs": [
    {
     "data": {
      "text/html": [
       "<div>\n",
       "<style scoped>\n",
       "    .dataframe tbody tr th:only-of-type {\n",
       "        vertical-align: middle;\n",
       "    }\n",
       "\n",
       "    .dataframe tbody tr th {\n",
       "        vertical-align: top;\n",
       "    }\n",
       "\n",
       "    .dataframe thead th {\n",
       "        text-align: right;\n",
       "    }\n",
       "</style>\n",
       "<table border=\"1\" class=\"dataframe\">\n",
       "  <thead>\n",
       "    <tr style=\"text-align: right;\">\n",
       "      <th></th>\n",
       "      <th>Number of sentences read</th>\n",
       "      <th>Prosocial behaviour time [min]</th>\n",
       "      <th>Sentences read prior guess</th>\n",
       "      <th>Perspective taking task time [min]</th>\n",
       "    </tr>\n",
       "  </thead>\n",
       "  <tbody>\n",
       "    <tr>\n",
       "      <th>Number of sentences read</th>\n",
       "      <td>1.000000</td>\n",
       "      <td>0.900477</td>\n",
       "      <td>0.728879</td>\n",
       "      <td>-0.336021</td>\n",
       "    </tr>\n",
       "    <tr>\n",
       "      <th>Prosocial behaviour time [min]</th>\n",
       "      <td>0.900477</td>\n",
       "      <td>1.000000</td>\n",
       "      <td>0.683100</td>\n",
       "      <td>-0.275711</td>\n",
       "    </tr>\n",
       "    <tr>\n",
       "      <th>Sentences read prior guess</th>\n",
       "      <td>0.728879</td>\n",
       "      <td>0.683100</td>\n",
       "      <td>1.000000</td>\n",
       "      <td>-0.406511</td>\n",
       "    </tr>\n",
       "    <tr>\n",
       "      <th>Perspective taking task time [min]</th>\n",
       "      <td>-0.336021</td>\n",
       "      <td>-0.275711</td>\n",
       "      <td>-0.406511</td>\n",
       "      <td>1.000000</td>\n",
       "    </tr>\n",
       "  </tbody>\n",
       "</table>\n",
       "</div>"
      ],
      "text/plain": [
       "                                    Number of sentences read  \\\n",
       "Number of sentences read                            1.000000   \n",
       "Prosocial behaviour time [min]                      0.900477   \n",
       "Sentences read prior guess                          0.728879   \n",
       "Perspective taking task time [min]                 -0.336021   \n",
       "\n",
       "                                    Prosocial behaviour time [min]  \\\n",
       "Number of sentences read                                  0.900477   \n",
       "Prosocial behaviour time [min]                            1.000000   \n",
       "Sentences read prior guess                                0.683100   \n",
       "Perspective taking task time [min]                       -0.275711   \n",
       "\n",
       "                                    Sentences read prior guess  \\\n",
       "Number of sentences read                              0.728879   \n",
       "Prosocial behaviour time [min]                        0.683100   \n",
       "Sentences read prior guess                            1.000000   \n",
       "Perspective taking task time [min]                   -0.406511   \n",
       "\n",
       "                                    Perspective taking task time [min]  \n",
       "Number of sentences read                                     -0.336021  \n",
       "Prosocial behaviour time [min]                               -0.275711  \n",
       "Sentences read prior guess                                   -0.406511  \n",
       "Perspective taking task time [min]                            1.000000  "
      ]
     },
     "execution_count": 25,
     "metadata": {},
     "output_type": "execute_result"
    }
   ],
   "source": [
    "df[[\"Number of sentences read\", \"Prosocial behaviour time [min]\", \"Sentences read prior guess\",\"Perspective taking task time [min]\"]].fillna(0).corr()"
   ]
  },
  {
   "cell_type": "markdown",
   "metadata": {},
   "source": [
    "## Possible confounding effects caused by different perspective on reading sentences"
   ]
  },
  {
   "cell_type": "markdown",
   "metadata": {},
   "source": [
    "### Difficulty on following the instructions"
   ]
  },
  {
   "cell_type": "markdown",
   "metadata": {},
   "source": [
    "2D Inference"
   ]
  },
  {
   "cell_type": "markdown",
   "metadata": {},
   "source": [
    "Statistical analyses"
   ]
  },
  {
   "cell_type": "code",
   "execution_count": 26,
   "metadata": {},
   "outputs": [
    {
     "name": "stdout",
     "output_type": "stream",
     "text": [
      "~~~~~~~~~~~~~~~one way ANOVA~~~~~~~~~~~~~~~\n",
      "F_onewayResult(statistic=3.5184757505773656, pvalue=0.03532179978409998)\n",
      "~~~~~~~~~~~~~~~~Tukey test~~~~~~~~~~~~~~~~~\n",
      "Multiple Comparison of Means - Tukey HSD, FWER=0.05 \n",
      "====================================================\n",
      "group1 group2 meandiff p-adj   lower   upper  reject\n",
      "----------------------------------------------------\n",
      "    HC     OC  -0.3043 0.5934 -1.0596  0.4509  False\n",
      "    HC     RC  -0.8261 0.0288 -1.5813 -0.0709   True\n",
      "    OC     RC  -0.5217 0.2299  -1.277  0.2335  False\n",
      "----------------------------------------------------\n",
      "[0.59343875 0.0287927  0.22994114]\n",
      "['    ', '*   ', '    ']\n",
      "~~~~~~~~~~~~~~~~~~~~~~~~~~~~~~~~~~~~~~~~~~~\n"
     ]
    }
   ],
   "source": [
    "tukey(df, \"Instructions easy to follow [1-7]\")"
   ]
  },
  {
   "cell_type": "markdown",
   "metadata": {},
   "source": [
    "### Need the robot for collecting speech data"
   ]
  },
  {
   "cell_type": "markdown",
   "metadata": {},
   "source": [
    "2D Inference"
   ]
  },
  {
   "cell_type": "markdown",
   "metadata": {},
   "source": [
    "Statistical analyses"
   ]
  },
  {
   "cell_type": "code",
   "execution_count": 27,
   "metadata": {},
   "outputs": [
    {
     "name": "stdout",
     "output_type": "stream",
     "text": [
      "~~~~~~~~~~~~~~~one way ANOVA~~~~~~~~~~~~~~~\n",
      "F_onewayResult(statistic=0.5731357552581262, pvalue=0.56653546189198)\n",
      "~~~~~~~~~~~~~~~~Tukey test~~~~~~~~~~~~~~~~~\n",
      "Multiple Comparison of Means - Tukey HSD, FWER=0.05\n",
      "===================================================\n",
      "group1 group2 meandiff p-adj   lower  upper  reject\n",
      "---------------------------------------------------\n",
      "    HC     OC   0.2174 0.8898 -0.9564 1.3912  False\n",
      "    HC     RC  -0.3043  0.789 -1.4782 0.8695  False\n",
      "    OC     RC  -0.5217  0.537 -1.6956 0.6521  False\n",
      "---------------------------------------------------\n",
      "[0.88983914 0.7890189  0.53696623]\n",
      "['    ', '    ', '    ']\n",
      "~~~~~~~~~~~~~~~~~~~~~~~~~~~~~~~~~~~~~~~~~~~\n"
     ]
    }
   ],
   "source": [
    "tukey(df, \"Need for collecting data [1-7]\")"
   ]
  },
  {
   "cell_type": "code",
   "execution_count": 28,
   "metadata": {},
   "outputs": [
    {
     "data": {
      "text/html": [
       "<div>\n",
       "<style scoped>\n",
       "    .dataframe tbody tr th:only-of-type {\n",
       "        vertical-align: middle;\n",
       "    }\n",
       "\n",
       "    .dataframe tbody tr th {\n",
       "        vertical-align: top;\n",
       "    }\n",
       "\n",
       "    .dataframe thead th {\n",
       "        text-align: right;\n",
       "    }\n",
       "</style>\n",
       "<table border=\"1\" class=\"dataframe\">\n",
       "  <thead>\n",
       "    <tr style=\"text-align: right;\">\n",
       "      <th></th>\n",
       "      <th>Number of sentences read</th>\n",
       "      <th>Need for collecting data [1-7]</th>\n",
       "    </tr>\n",
       "  </thead>\n",
       "  <tbody>\n",
       "    <tr>\n",
       "      <th>Number of sentences read</th>\n",
       "      <td>1.00000</td>\n",
       "      <td>0.33004</td>\n",
       "    </tr>\n",
       "    <tr>\n",
       "      <th>Need for collecting data [1-7]</th>\n",
       "      <td>0.33004</td>\n",
       "      <td>1.00000</td>\n",
       "    </tr>\n",
       "  </tbody>\n",
       "</table>\n",
       "</div>"
      ],
      "text/plain": [
       "                                Number of sentences read  \\\n",
       "Number of sentences read                         1.00000   \n",
       "Need for collecting data [1-7]                   0.33004   \n",
       "\n",
       "                                Need for collecting data [1-7]  \n",
       "Number of sentences read                               0.33004  \n",
       "Need for collecting data [1-7]                         1.00000  "
      ]
     },
     "execution_count": 28,
     "metadata": {},
     "output_type": "execute_result"
    }
   ],
   "source": [
    "df[[\"Number of sentences read\", \"Need for collecting data [1-7]\"]].fillna(0).corr()"
   ]
  },
  {
   "cell_type": "markdown",
   "metadata": {},
   "source": [
    "# Numerical Analysis"
   ]
  },
  {
   "cell_type": "markdown",
   "metadata": {},
   "source": [
    "Setences read per each condition"
   ]
  },
  {
   "cell_type": "code",
   "execution_count": 29,
   "metadata": {},
   "outputs": [
    {
     "data": {
      "text/plain": [
       "Condition\n",
       "HC    48.173913\n",
       "OC    24.695652\n",
       "RC    10.217391\n",
       "Name: Number of sentences read, dtype: float64"
      ]
     },
     "execution_count": 29,
     "metadata": {},
     "output_type": "execute_result"
    }
   ],
   "source": [
    "df[[\"Condition\", \"Number of sentences read\"]].fillna(0).groupby(\"Condition\")[\"Number of sentences read\"].mean()"
   ]
  },
  {
   "cell_type": "markdown",
   "metadata": {},
   "source": [
    "# Extras"
   ]
  },
  {
   "cell_type": "code",
   "execution_count": 30,
   "metadata": {},
   "outputs": [
    {
     "name": "stderr",
     "output_type": "stream",
     "text": [
      "c:\\Users\\Convidado\\Desktop\\Development\\HRI2023---Conference-Paper\\env\\lib\\site-packages\\outdated\\utils.py:18: OutdatedPackageWarning: The package pingouin is out of date. Your version is 0.5.2, the latest is 0.5.3.\n",
      "Set the environment variable OUTDATED_IGNORE=1 to disable these warnings.\n",
      "  **kwargs\n"
     ]
    }
   ],
   "source": [
    "from pingouin import mediation_analysis, read_dataset"
   ]
  },
  {
   "cell_type": "code",
   "execution_count": 31,
   "metadata": {},
   "outputs": [
    {
     "data": {
      "text/html": [
       "<div>\n",
       "<style scoped>\n",
       "    .dataframe tbody tr th:only-of-type {\n",
       "        vertical-align: middle;\n",
       "    }\n",
       "\n",
       "    .dataframe tbody tr th {\n",
       "        vertical-align: top;\n",
       "    }\n",
       "\n",
       "    .dataframe thead th {\n",
       "        text-align: right;\n",
       "    }\n",
       "</style>\n",
       "<table border=\"1\" class=\"dataframe\">\n",
       "  <thead>\n",
       "    <tr style=\"text-align: right;\">\n",
       "      <th></th>\n",
       "      <th>path</th>\n",
       "      <th>coef</th>\n",
       "      <th>se</th>\n",
       "      <th>pval</th>\n",
       "      <th>CI[2.5%]</th>\n",
       "      <th>CI[97.5%]</th>\n",
       "      <th>sig</th>\n",
       "    </tr>\n",
       "  </thead>\n",
       "  <tbody>\n",
       "    <tr>\n",
       "      <th>0</th>\n",
       "      <td>Total scanning time [min] ~ X</td>\n",
       "      <td>0.372196</td>\n",
       "      <td>0.309561</td>\n",
       "      <td>0.235664</td>\n",
       "      <td>-0.251683</td>\n",
       "      <td>0.996074</td>\n",
       "      <td>No</td>\n",
       "    </tr>\n",
       "    <tr>\n",
       "      <th>1</th>\n",
       "      <td>Y ~ Total scanning time [min]</td>\n",
       "      <td>-3.182997</td>\n",
       "      <td>2.882554</td>\n",
       "      <td>0.275497</td>\n",
       "      <td>-8.992403</td>\n",
       "      <td>2.626409</td>\n",
       "      <td>No</td>\n",
       "    </tr>\n",
       "    <tr>\n",
       "      <th>2</th>\n",
       "      <td>Total</td>\n",
       "      <td>-14.478261</td>\n",
       "      <td>5.694249</td>\n",
       "      <td>0.014597</td>\n",
       "      <td>-25.954266</td>\n",
       "      <td>-3.002256</td>\n",
       "      <td>Yes</td>\n",
       "    </tr>\n",
       "    <tr>\n",
       "      <th>3</th>\n",
       "      <td>Direct</td>\n",
       "      <td>-13.730321</td>\n",
       "      <td>5.818902</td>\n",
       "      <td>0.022904</td>\n",
       "      <td>-25.465255</td>\n",
       "      <td>-1.995387</td>\n",
       "      <td>Yes</td>\n",
       "    </tr>\n",
       "    <tr>\n",
       "      <th>4</th>\n",
       "      <td>Indirect</td>\n",
       "      <td>-0.747940</td>\n",
       "      <td>1.556303</td>\n",
       "      <td>0.516000</td>\n",
       "      <td>-5.886013</td>\n",
       "      <td>0.928618</td>\n",
       "      <td>No</td>\n",
       "    </tr>\n",
       "  </tbody>\n",
       "</table>\n",
       "</div>"
      ],
      "text/plain": [
       "                            path       coef        se      pval   CI[2.5%]  \\\n",
       "0  Total scanning time [min] ~ X   0.372196  0.309561  0.235664  -0.251683   \n",
       "1  Y ~ Total scanning time [min]  -3.182997  2.882554  0.275497  -8.992403   \n",
       "2                          Total -14.478261  5.694249  0.014597 -25.954266   \n",
       "3                         Direct -13.730321  5.818902  0.022904 -25.465255   \n",
       "4                       Indirect  -0.747940  1.556303  0.516000  -5.886013   \n",
       "\n",
       "   CI[97.5%]  sig  \n",
       "0   0.996074   No  \n",
       "1   2.626409   No  \n",
       "2  -3.002256  Yes  \n",
       "3  -1.995387  Yes  \n",
       "4   0.928618   No  "
      ]
     },
     "execution_count": 31,
     "metadata": {},
     "output_type": "execute_result"
    }
   ],
   "source": [
    "df_aux = df[df[\"Condition\"]!=\"HC\"][[\"Condition\", \"Total scanning time [min]\", \"Number of sentences read\"]].fillna(0).copy()\n",
    "df_aux[\"Condition\"] = df_aux[\"Condition\"].replace([\"RC\", \"OC\"], [1, 0])\n",
    "mediation_analysis(data=df_aux.fillna(0), x='Condition', m='Total scanning time [min]', y='Number of sentences read')"
   ]
  },
  {
   "cell_type": "code",
   "execution_count": 32,
   "metadata": {},
   "outputs": [
    {
     "data": {
      "text/html": [
       "<div>\n",
       "<style scoped>\n",
       "    .dataframe tbody tr th:only-of-type {\n",
       "        vertical-align: middle;\n",
       "    }\n",
       "\n",
       "    .dataframe tbody tr th {\n",
       "        vertical-align: top;\n",
       "    }\n",
       "\n",
       "    .dataframe thead th {\n",
       "        text-align: right;\n",
       "    }\n",
       "</style>\n",
       "<table border=\"1\" class=\"dataframe\">\n",
       "  <thead>\n",
       "    <tr style=\"text-align: right;\">\n",
       "      <th></th>\n",
       "      <th>path</th>\n",
       "      <th>coef</th>\n",
       "      <th>se</th>\n",
       "      <th>pval</th>\n",
       "      <th>CI[2.5%]</th>\n",
       "      <th>CI[97.5%]</th>\n",
       "      <th>sig</th>\n",
       "    </tr>\n",
       "  </thead>\n",
       "  <tbody>\n",
       "    <tr>\n",
       "      <th>0</th>\n",
       "      <td>Total scanning time [min] ~ X</td>\n",
       "      <td>0.939217</td>\n",
       "      <td>0.220361</td>\n",
       "      <td>0.000105</td>\n",
       "      <td>0.495110</td>\n",
       "      <td>1.383325</td>\n",
       "      <td>Yes</td>\n",
       "    </tr>\n",
       "    <tr>\n",
       "      <th>1</th>\n",
       "      <td>Y ~ Total scanning time [min]</td>\n",
       "      <td>-8.532247</td>\n",
       "      <td>5.596173</td>\n",
       "      <td>0.134501</td>\n",
       "      <td>-19.810593</td>\n",
       "      <td>2.746098</td>\n",
       "      <td>No</td>\n",
       "    </tr>\n",
       "    <tr>\n",
       "      <th>2</th>\n",
       "      <td>Total</td>\n",
       "      <td>-23.478261</td>\n",
       "      <td>9.327609</td>\n",
       "      <td>0.015551</td>\n",
       "      <td>-42.276822</td>\n",
       "      <td>-4.679699</td>\n",
       "      <td>Yes</td>\n",
       "    </tr>\n",
       "    <tr>\n",
       "      <th>3</th>\n",
       "      <td>Direct</td>\n",
       "      <td>-21.849475</td>\n",
       "      <td>11.205944</td>\n",
       "      <td>0.057739</td>\n",
       "      <td>-44.448416</td>\n",
       "      <td>0.749466</td>\n",
       "      <td>No</td>\n",
       "    </tr>\n",
       "    <tr>\n",
       "      <th>4</th>\n",
       "      <td>Indirect</td>\n",
       "      <td>-1.628786</td>\n",
       "      <td>4.799525</td>\n",
       "      <td>0.756000</td>\n",
       "      <td>-11.729775</td>\n",
       "      <td>6.788438</td>\n",
       "      <td>No</td>\n",
       "    </tr>\n",
       "  </tbody>\n",
       "</table>\n",
       "</div>"
      ],
      "text/plain": [
       "                            path       coef         se      pval   CI[2.5%]  \\\n",
       "0  Total scanning time [min] ~ X   0.939217   0.220361  0.000105   0.495110   \n",
       "1  Y ~ Total scanning time [min]  -8.532247   5.596173  0.134501 -19.810593   \n",
       "2                          Total -23.478261   9.327609  0.015551 -42.276822   \n",
       "3                         Direct -21.849475  11.205944  0.057739 -44.448416   \n",
       "4                       Indirect  -1.628786   4.799525  0.756000 -11.729775   \n",
       "\n",
       "   CI[97.5%]  sig  \n",
       "0   1.383325  Yes  \n",
       "1   2.746098   No  \n",
       "2  -4.679699  Yes  \n",
       "3   0.749466   No  \n",
       "4   6.788438   No  "
      ]
     },
     "execution_count": 32,
     "metadata": {},
     "output_type": "execute_result"
    }
   ],
   "source": [
    "df_aux = df[df[\"Condition\"]!=\"RC\"][[\"Condition\", \"Total scanning time [min]\", \"Number of sentences read\"]].fillna(0).copy()\n",
    "df_aux[\"Condition\"] = df_aux[\"Condition\"].replace([\"HC\", \"OC\"], [0, 1])\n",
    "mediation_analysis(data=df_aux.fillna(0), x='Condition', m='Total scanning time [min]', y='Number of sentences read')"
   ]
  },
  {
   "cell_type": "code",
   "execution_count": 33,
   "metadata": {},
   "outputs": [
    {
     "data": {
      "text/html": [
       "<div>\n",
       "<style scoped>\n",
       "    .dataframe tbody tr th:only-of-type {\n",
       "        vertical-align: middle;\n",
       "    }\n",
       "\n",
       "    .dataframe tbody tr th {\n",
       "        vertical-align: top;\n",
       "    }\n",
       "\n",
       "    .dataframe thead th {\n",
       "        text-align: right;\n",
       "    }\n",
       "</style>\n",
       "<table border=\"1\" class=\"dataframe\">\n",
       "  <thead>\n",
       "    <tr style=\"text-align: right;\">\n",
       "      <th></th>\n",
       "      <th>path</th>\n",
       "      <th>coef</th>\n",
       "      <th>se</th>\n",
       "      <th>pval</th>\n",
       "      <th>CI[2.5%]</th>\n",
       "      <th>CI[97.5%]</th>\n",
       "      <th>sig</th>\n",
       "    </tr>\n",
       "  </thead>\n",
       "  <tbody>\n",
       "    <tr>\n",
       "      <th>0</th>\n",
       "      <td>Total scanning time [min] ~ X</td>\n",
       "      <td>-1.311413</td>\n",
       "      <td>0.235956</td>\n",
       "      <td>0.000002</td>\n",
       "      <td>-1.786951</td>\n",
       "      <td>-0.835875</td>\n",
       "      <td>Yes</td>\n",
       "    </tr>\n",
       "    <tr>\n",
       "      <th>1</th>\n",
       "      <td>Y ~ Total scanning time [min]</td>\n",
       "      <td>-12.871138</td>\n",
       "      <td>4.829951</td>\n",
       "      <td>0.010727</td>\n",
       "      <td>-22.605265</td>\n",
       "      <td>-3.137012</td>\n",
       "      <td>Yes</td>\n",
       "    </tr>\n",
       "    <tr>\n",
       "      <th>2</th>\n",
       "      <td>Total</td>\n",
       "      <td>37.956522</td>\n",
       "      <td>8.956771</td>\n",
       "      <td>0.000114</td>\n",
       "      <td>19.905336</td>\n",
       "      <td>56.007708</td>\n",
       "      <td>Yes</td>\n",
       "    </tr>\n",
       "    <tr>\n",
       "      <th>3</th>\n",
       "      <td>Direct</td>\n",
       "      <td>35.874255</td>\n",
       "      <td>11.809973</td>\n",
       "      <td>0.004043</td>\n",
       "      <td>12.057175</td>\n",
       "      <td>59.691335</td>\n",
       "      <td>Yes</td>\n",
       "    </tr>\n",
       "    <tr>\n",
       "      <th>4</th>\n",
       "      <td>Indirect</td>\n",
       "      <td>2.082266</td>\n",
       "      <td>3.645222</td>\n",
       "      <td>0.548000</td>\n",
       "      <td>-5.402759</td>\n",
       "      <td>9.136232</td>\n",
       "      <td>No</td>\n",
       "    </tr>\n",
       "  </tbody>\n",
       "</table>\n",
       "</div>"
      ],
      "text/plain": [
       "                            path       coef         se      pval   CI[2.5%]  \\\n",
       "0  Total scanning time [min] ~ X  -1.311413   0.235956  0.000002  -1.786951   \n",
       "1  Y ~ Total scanning time [min] -12.871138   4.829951  0.010727 -22.605265   \n",
       "2                          Total  37.956522   8.956771  0.000114  19.905336   \n",
       "3                         Direct  35.874255  11.809973  0.004043  12.057175   \n",
       "4                       Indirect   2.082266   3.645222  0.548000  -5.402759   \n",
       "\n",
       "   CI[97.5%]  sig  \n",
       "0  -0.835875  Yes  \n",
       "1  -3.137012  Yes  \n",
       "2  56.007708  Yes  \n",
       "3  59.691335  Yes  \n",
       "4   9.136232   No  "
      ]
     },
     "execution_count": 33,
     "metadata": {},
     "output_type": "execute_result"
    }
   ],
   "source": [
    "df_aux = df[df[\"Condition\"]!=\"OC\"][[\"Condition\", \"Total scanning time [min]\", \"Number of sentences read\"]].fillna(0).copy()\n",
    "df_aux[\"Condition\"] = df_aux[\"Condition\"].replace([\"RC\", \"HC\"], [0, 1])\n",
    "mediation_analysis(data=df_aux.fillna(0), x='Condition', m='Total scanning time [min]', y='Number of sentences read')"
   ]
  },
  {
   "cell_type": "code",
   "execution_count": 34,
   "metadata": {},
   "outputs": [
    {
     "name": "stdout",
     "output_type": "stream",
     "text": [
      "~~~~~~~~~~~~~~~one way ANOVA~~~~~~~~~~~~~~~\n",
      "F_onewayResult(statistic=3.319843978547051, pvalue=0.042287193837986056)\n",
      "~~~~~~~~~~~~~~~~Tukey test~~~~~~~~~~~~~~~~~\n",
      "Multiple Comparison of Means - Tukey HSD, FWER=0.05 \n",
      "====================================================\n",
      "group1 group2 meandiff p-adj   lower   upper  reject\n",
      "----------------------------------------------------\n",
      "    HC     OC  -0.2174 0.8873 -1.3797  0.9449  False\n",
      "    HC     RC  -1.1739 0.0472 -2.3362 -0.0116   True\n",
      "    OC     RC  -0.9565 0.1268 -2.1188  0.2057  False\n",
      "----------------------------------------------------\n",
      "[0.88733529 0.04723139 0.12684602]\n",
      "['    ', '*   ', '    ']\n",
      "~~~~~~~~~~~~~~~~~~~~~~~~~~~~~~~~~~~~~~~~~~~\n"
     ]
    }
   ],
   "source": [
    "tukey(df, \"Caring [1-7]\")"
   ]
  },
  {
   "cell_type": "code",
   "execution_count": 35,
   "metadata": {},
   "outputs": [
    {
     "name": "stdout",
     "output_type": "stream",
     "text": [
      "~~~~~~~~~~~~~~~one way ANOVA~~~~~~~~~~~~~~~\n",
      "F_onewayResult(statistic=0.42152230971128596, pvalue=0.6578009636684232)\n",
      "~~~~~~~~~~~~~~~~Tukey test~~~~~~~~~~~~~~~~~\n",
      "Multiple Comparison of Means - Tukey HSD, FWER=0.05\n",
      "===================================================\n",
      "group1 group2 meandiff p-adj   lower  upper  reject\n",
      "---------------------------------------------------\n",
      "    HC     OC  -0.0435    0.9 -1.1636 1.0767  False\n",
      "    HC     RC  -0.3913 0.6665 -1.5114 0.7288  False\n",
      "    OC     RC  -0.3478 0.7193  -1.468 0.7723  False\n",
      "---------------------------------------------------\n",
      "[0.9        0.66645203 0.71927736]\n",
      "['    ', '    ', '    ']\n",
      "~~~~~~~~~~~~~~~~~~~~~~~~~~~~~~~~~~~~~~~~~~~\n"
     ]
    }
   ],
   "source": [
    "tukey(df, 'Empathetic [1-7]')"
   ]
  },
  {
   "cell_type": "code",
   "execution_count": 36,
   "metadata": {},
   "outputs": [
    {
     "name": "stdout",
     "output_type": "stream",
     "text": [
      "~~~~~~~~~~~~~~~one way ANOVA~~~~~~~~~~~~~~~\n",
      "F_onewayResult(statistic=1.3894736842105264, pvalue=0.25639972368094516)\n",
      "~~~~~~~~~~~~~~~~Tukey test~~~~~~~~~~~~~~~~~\n",
      "Multiple Comparison of Means - Tukey HSD, FWER=0.05\n",
      "===================================================\n",
      "group1 group2 meandiff p-adj   lower  upper  reject\n",
      "---------------------------------------------------\n",
      "    HC     OC  -0.3478 0.6688 -1.3484 0.6527  False\n",
      "    HC     RC  -0.6957 0.2257 -1.6962 0.3049  False\n",
      "    OC     RC  -0.3478 0.6688 -1.3484 0.6527  False\n",
      "---------------------------------------------------\n",
      "[0.66877408 0.22574418 0.66877408]\n",
      "['    ', '    ', '    ']\n",
      "~~~~~~~~~~~~~~~~~~~~~~~~~~~~~~~~~~~~~~~~~~~\n"
     ]
    }
   ],
   "source": [
    "tukey(df, 'Likeable [1-7]')       "
   ]
  },
  {
   "cell_type": "markdown",
   "metadata": {},
   "source": [
    "# Generalise Linear Mixed Model Analysis"
   ]
  },
  {
   "cell_type": "code",
   "execution_count": 37,
   "metadata": {},
   "outputs": [],
   "source": [
    "import statsmodels.formula.api as smf\n",
    "import numpy as np\n",
    "import statsmodels.api as sm\n",
    "from statsmodels.tools.sm_exceptions import ConvergenceWarning\n",
    "from scipy.stats import normaltest"
   ]
  },
  {
   "cell_type": "code",
   "execution_count": 38,
   "metadata": {},
   "outputs": [
    {
     "name": "stdout",
     "output_type": "stream",
     "text": [
      "         Mixed Linear Model Regression Results\n",
      "========================================================\n",
      "Model:            MixedLM Dependent Variable: Weight    \n",
      "No. Observations: 861     Method:             REML      \n",
      "No. Groups:       72      Scale:              11.3669   \n",
      "Min. group size:  11      Log-Likelihood:     -2404.7753\n",
      "Max. group size:  12      Converged:          Yes       \n",
      "Mean group size:  12.0                                  \n",
      "--------------------------------------------------------\n",
      "             Coef.  Std.Err.    z    P>|z| [0.025 0.975]\n",
      "--------------------------------------------------------\n",
      "Intercept    15.724    0.788  19.952 0.000 14.179 17.268\n",
      "Time          6.943    0.033 207.939 0.000  6.877  7.008\n",
      "Group Var    40.395    2.149                            \n",
      "========================================================\n",
      "\n"
     ]
    }
   ],
   "source": [
    "data = sm.datasets.get_rdataset(\"dietox\", \"geepack\").data\n",
    "md = smf.mixedlm(\"Weight ~ Time\", data, groups=data[\"Pig\"])\n",
    "mdf = md.fit(method=[\"lbfgs\"])\n",
    "print(mdf.summary())"
   ]
  },
  {
   "cell_type": "code",
   "execution_count": 39,
   "metadata": {},
   "outputs": [
    {
     "data": {
      "text/plain": [
       "Condition                                object\n",
       "Prosocial behaviour time [min]          float64\n",
       "Did you read sentences to the robot?     object\n",
       "read                                      int32\n",
       "time                                    float64\n",
       "dtype: object"
      ]
     },
     "execution_count": 39,
     "metadata": {},
     "output_type": "execute_result"
    }
   ],
   "source": [
    "data = df[[\"Condition\", \"Prosocial behaviour time [min]\", \"Did you read sentences to the robot?\"]].fillna(0).copy()\n",
    "data.loc[data[\"Did you read sentences to the robot?\"]==\"No\",\"Did you read sentences to the robot?\"] = 0\n",
    "data.loc[data[\"Did you read sentences to the robot?\"]==\"Yes\",\"Did you read sentences to the robot?\"] = 1\n",
    "data[\"read\"] = data[\"Did you read sentences to the robot?\"].astype(int)\n",
    "data[\"time\"] = data[\"Prosocial behaviour time [min]\"].astype(float)\n",
    "data.dtypes"
   ]
  },
  {
   "cell_type": "code",
   "execution_count": 40,
   "metadata": {},
   "outputs": [
    {
     "name": "stdout",
     "output_type": "stream",
     "text": [
      "        Mixed Linear Model Regression Results\n",
      "======================================================\n",
      "Model:            MixedLM Dependent Variable: read    \n",
      "No. Observations: 69      Method:             REML    \n",
      "No. Groups:       3       Scale:              0.1115  \n",
      "Min. group size:  23      Log-Likelihood:     -28.5981\n",
      "Max. group size:  23      Converged:          Yes     \n",
      "Mean group size:  23.0                                \n",
      "------------------------------------------------------\n",
      "              Coef. Std.Err.   z   P>|z| [0.025 0.975]\n",
      "------------------------------------------------------\n",
      "Intercept     0.655    0.094 6.943 0.000  0.470  0.840\n",
      "time          0.036    0.011 3.293 0.001  0.015  0.057\n",
      "Group Var     0.015    0.064                          \n",
      "======================================================\n",
      "\n"
     ]
    },
    {
     "name": "stderr",
     "output_type": "stream",
     "text": [
      "c:\\Users\\Convidado\\Desktop\\Development\\HRI2023---Conference-Paper\\env\\lib\\site-packages\\statsmodels\\regression\\mixed_linear_model.py:1634: UserWarning: Random effects covariance is singular\n",
      "  warnings.warn(msg)\n"
     ]
    }
   ],
   "source": [
    "md = smf.mixedlm(\"read ~ time\", data, groups=data[\"Condition\"])\n",
    "mdf = md.fit(method=[\"lbfgs\"])\n",
    "print(mdf.summary())"
   ]
  },
  {
   "cell_type": "markdown",
   "metadata": {},
   "source": [
    "# Rebuttal\n"
   ]
  },
  {
   "cell_type": "markdown",
   "metadata": {},
   "source": [
    "## Cronbachalpha reliability test"
   ]
  },
  {
   "cell_type": "code",
   "execution_count": 41,
   "metadata": {},
   "outputs": [],
   "source": [
    "import pingouin as pg\n",
    "from scipy import stats"
   ]
  },
  {
   "cell_type": "code",
   "execution_count": 42,
   "metadata": {},
   "outputs": [
    {
     "data": {
      "text/html": [
       "<div>\n",
       "<style scoped>\n",
       "    .dataframe tbody tr th:only-of-type {\n",
       "        vertical-align: middle;\n",
       "    }\n",
       "\n",
       "    .dataframe tbody tr th {\n",
       "        vertical-align: top;\n",
       "    }\n",
       "\n",
       "    .dataframe thead th {\n",
       "        text-align: right;\n",
       "    }\n",
       "</style>\n",
       "<table border=\"1\" class=\"dataframe\">\n",
       "  <thead>\n",
       "    <tr style=\"text-align: right;\">\n",
       "      <th></th>\n",
       "      <th>subject</th>\n",
       "      <th>questions</th>\n",
       "      <th>scores</th>\n",
       "    </tr>\n",
       "  </thead>\n",
       "  <tbody>\n",
       "    <tr>\n",
       "      <th>0</th>\n",
       "      <td>0</td>\n",
       "      <td>I daydream and fantasize, with some regularity...</td>\n",
       "      <td>4</td>\n",
       "    </tr>\n",
       "    <tr>\n",
       "      <th>1</th>\n",
       "      <td>0</td>\n",
       "      <td>I often have tender, concerned feelings for pe...</td>\n",
       "      <td>3</td>\n",
       "    </tr>\n",
       "    <tr>\n",
       "      <th>2</th>\n",
       "      <td>0</td>\n",
       "      <td>I sometimes find it difficult to see things fr...</td>\n",
       "      <td>1</td>\n",
       "    </tr>\n",
       "    <tr>\n",
       "      <th>3</th>\n",
       "      <td>0</td>\n",
       "      <td>Sometimes I don't feel sorry for other people ...</td>\n",
       "      <td>3</td>\n",
       "    </tr>\n",
       "    <tr>\n",
       "      <th>4</th>\n",
       "      <td>0</td>\n",
       "      <td>I really get involved with the feelings of the...</td>\n",
       "      <td>4</td>\n",
       "    </tr>\n",
       "    <tr>\n",
       "      <th>...</th>\n",
       "      <td>...</td>\n",
       "      <td>...</td>\n",
       "      <td>...</td>\n",
       "    </tr>\n",
       "    <tr>\n",
       "      <th>1444</th>\n",
       "      <td>68</td>\n",
       "      <td>I would describe myself as a pretty soft-heart...</td>\n",
       "      <td>3</td>\n",
       "    </tr>\n",
       "    <tr>\n",
       "      <th>1445</th>\n",
       "      <td>68</td>\n",
       "      <td>When I watch a good movie, I can very easily p...</td>\n",
       "      <td>2</td>\n",
       "    </tr>\n",
       "    <tr>\n",
       "      <th>1446</th>\n",
       "      <td>68</td>\n",
       "      <td>When I'm upset at someone, I usually try to \"p...</td>\n",
       "      <td>1</td>\n",
       "    </tr>\n",
       "    <tr>\n",
       "      <th>1447</th>\n",
       "      <td>68</td>\n",
       "      <td>When I am reading an interesting story or nove...</td>\n",
       "      <td>2</td>\n",
       "    </tr>\n",
       "    <tr>\n",
       "      <th>1448</th>\n",
       "      <td>68</td>\n",
       "      <td>Before criticizing somebody, I try to imagine ...</td>\n",
       "      <td>2</td>\n",
       "    </tr>\n",
       "  </tbody>\n",
       "</table>\n",
       "<p>1449 rows × 3 columns</p>\n",
       "</div>"
      ],
      "text/plain": [
       "      subject                                          questions  scores\n",
       "0           0  I daydream and fantasize, with some regularity...       4\n",
       "1           0  I often have tender, concerned feelings for pe...       3\n",
       "2           0  I sometimes find it difficult to see things fr...       1\n",
       "3           0  Sometimes I don't feel sorry for other people ...       3\n",
       "4           0  I really get involved with the feelings of the...       4\n",
       "...       ...                                                ...     ...\n",
       "1444       68  I would describe myself as a pretty soft-heart...       3\n",
       "1445       68  When I watch a good movie, I can very easily p...       2\n",
       "1446       68  When I'm upset at someone, I usually try to \"p...       1\n",
       "1447       68  When I am reading an interesting story or nove...       2\n",
       "1448       68  Before criticizing somebody, I try to imagine ...       2\n",
       "\n",
       "[1449 rows x 3 columns]"
      ]
     },
     "execution_count": 42,
     "metadata": {},
     "output_type": "execute_result"
    }
   ],
   "source": [
    "df_iri = pd.read_csv('IRI.csv')\n",
    "# df_iri['Condition'] = df[\"Condition\"]\n",
    "df_iri = df_iri.stack().reset_index().rename(columns={'level_0':'subject', 'level_1':'questions', 0:'scores'})\n",
    "df_iri"
   ]
  },
  {
   "cell_type": "code",
   "execution_count": 43,
   "metadata": {},
   "outputs": [],
   "source": [
    "scales={\n",
    "    \"Before criticizing somebody, I try to imagine how I would feel if I were in their place.\":\"Perspective-Taking Scale\", \n",
    "    \"If I'm sure I'm right about something, I don't waste much time listening to other people's arguments.\":\"Perspective-Taking Scale\", \n",
    "    \"I sometimes try to understand my friends better by imagining how things look from their perspective.\":\"Perspective-Taking Scale\", \n",
    "    \"I believe that there are two sides to every question and try to look at them both.\":\"Perspective-Taking Scale\", \n",
    "    'I sometimes find it difficult to see things from the \"other guy\\'s\" point of view.':\"Perspective-Taking Scale\", \n",
    "    \"I try to look at everybody's side of a disagreement before I make a decision.\":\"Perspective-Taking Scale\", \n",
    "    'When I\\'m upset at someone, I usually try to \"put myself in his shoes\" for a while.':\"Perspective-Taking Scale\",\n",
    "    \"When I am reading an interesting story or novel, I imagine how I would feel if the events in the story were happening to me.\":\"Fantasy Scale\", \n",
    "    \"I really get involved with the feelings of the characters in a novel.\":\"Fantasy Scale\", \n",
    "    \"I am usually objective when I watch a movie or play, and I don\\'t often get completely caught up in it.\":\"Fantasy Scale\", \n",
    "    \"After seeing a play or movie, I have felt as though I were one of the characters.\":\"Fantasy Scale\", \n",
    "    \"I daydream and fantasize, with some regularity, about things that might happen to me.\":\"Fantasy Scale\", \n",
    "    \"Becoming extremely involved in a good book or movie is somewhat rare for me.\":\"Fantasy Scale\", \n",
    "    \"When I watch a good movie, I can very easily put myself in the place of a leading character.\":\"Fantasy Scale\", \n",
    "    \"When I see someone being taken advantage of, I feel kind of protective toward them.\":\"Empathic Concern Scale\", \n",
    "    \"When I see someone being treated unfairly, I sometimes don't feel very much pity for them.\":\"Empathic Concern Scale\", \n",
    "    \"I often have tender, concerned feelings for people less fortunate than me.\":\"Empathic Concern Scale\", \n",
    "    \"I would describe myself as a pretty soft-hearted person.\":\"Empathic Concern Scale\", \n",
    "    \"Sometimes I don't feel sorry for other people when they are having problems.\":\"Empathic Concern Scale\", \n",
    "    \"Other people's misfortunes do not usually disturb me a great deal.\":\"Empathic Concern Scale\", \n",
    "    \"I am often quite touched by things that I see happen.\":\"Empathic Concern Scale\"\n",
    "}"
   ]
  },
  {
   "cell_type": "code",
   "execution_count": 44,
   "metadata": {},
   "outputs": [
    {
     "data": {
      "text/html": [
       "<div>\n",
       "<style scoped>\n",
       "    .dataframe tbody tr th:only-of-type {\n",
       "        vertical-align: middle;\n",
       "    }\n",
       "\n",
       "    .dataframe tbody tr th {\n",
       "        vertical-align: top;\n",
       "    }\n",
       "\n",
       "    .dataframe thead th {\n",
       "        text-align: right;\n",
       "    }\n",
       "</style>\n",
       "<table border=\"1\" class=\"dataframe\">\n",
       "  <thead>\n",
       "    <tr style=\"text-align: right;\">\n",
       "      <th></th>\n",
       "      <th>subject</th>\n",
       "      <th>questions</th>\n",
       "      <th>scores</th>\n",
       "      <th>scales</th>\n",
       "    </tr>\n",
       "  </thead>\n",
       "  <tbody>\n",
       "    <tr>\n",
       "      <th>0</th>\n",
       "      <td>0</td>\n",
       "      <td>I daydream and fantasize, with some regularity...</td>\n",
       "      <td>4</td>\n",
       "      <td>Fantasy Scale</td>\n",
       "    </tr>\n",
       "    <tr>\n",
       "      <th>1</th>\n",
       "      <td>0</td>\n",
       "      <td>I often have tender, concerned feelings for pe...</td>\n",
       "      <td>3</td>\n",
       "      <td>Empathic Concern Scale</td>\n",
       "    </tr>\n",
       "    <tr>\n",
       "      <th>2</th>\n",
       "      <td>0</td>\n",
       "      <td>I sometimes find it difficult to see things fr...</td>\n",
       "      <td>1</td>\n",
       "      <td>Perspective-Taking Scale</td>\n",
       "    </tr>\n",
       "    <tr>\n",
       "      <th>3</th>\n",
       "      <td>0</td>\n",
       "      <td>Sometimes I don't feel sorry for other people ...</td>\n",
       "      <td>3</td>\n",
       "      <td>Empathic Concern Scale</td>\n",
       "    </tr>\n",
       "    <tr>\n",
       "      <th>4</th>\n",
       "      <td>0</td>\n",
       "      <td>I really get involved with the feelings of the...</td>\n",
       "      <td>4</td>\n",
       "      <td>Fantasy Scale</td>\n",
       "    </tr>\n",
       "    <tr>\n",
       "      <th>...</th>\n",
       "      <td>...</td>\n",
       "      <td>...</td>\n",
       "      <td>...</td>\n",
       "      <td>...</td>\n",
       "    </tr>\n",
       "    <tr>\n",
       "      <th>1444</th>\n",
       "      <td>68</td>\n",
       "      <td>I would describe myself as a pretty soft-heart...</td>\n",
       "      <td>3</td>\n",
       "      <td>Empathic Concern Scale</td>\n",
       "    </tr>\n",
       "    <tr>\n",
       "      <th>1445</th>\n",
       "      <td>68</td>\n",
       "      <td>When I watch a good movie, I can very easily p...</td>\n",
       "      <td>2</td>\n",
       "      <td>Fantasy Scale</td>\n",
       "    </tr>\n",
       "    <tr>\n",
       "      <th>1446</th>\n",
       "      <td>68</td>\n",
       "      <td>When I'm upset at someone, I usually try to \"p...</td>\n",
       "      <td>1</td>\n",
       "      <td>Perspective-Taking Scale</td>\n",
       "    </tr>\n",
       "    <tr>\n",
       "      <th>1447</th>\n",
       "      <td>68</td>\n",
       "      <td>When I am reading an interesting story or nove...</td>\n",
       "      <td>2</td>\n",
       "      <td>Fantasy Scale</td>\n",
       "    </tr>\n",
       "    <tr>\n",
       "      <th>1448</th>\n",
       "      <td>68</td>\n",
       "      <td>Before criticizing somebody, I try to imagine ...</td>\n",
       "      <td>2</td>\n",
       "      <td>Perspective-Taking Scale</td>\n",
       "    </tr>\n",
       "  </tbody>\n",
       "</table>\n",
       "<p>1449 rows × 4 columns</p>\n",
       "</div>"
      ],
      "text/plain": [
       "      subject                                          questions  scores  \\\n",
       "0           0  I daydream and fantasize, with some regularity...       4   \n",
       "1           0  I often have tender, concerned feelings for pe...       3   \n",
       "2           0  I sometimes find it difficult to see things fr...       1   \n",
       "3           0  Sometimes I don't feel sorry for other people ...       3   \n",
       "4           0  I really get involved with the feelings of the...       4   \n",
       "...       ...                                                ...     ...   \n",
       "1444       68  I would describe myself as a pretty soft-heart...       3   \n",
       "1445       68  When I watch a good movie, I can very easily p...       2   \n",
       "1446       68  When I'm upset at someone, I usually try to \"p...       1   \n",
       "1447       68  When I am reading an interesting story or nove...       2   \n",
       "1448       68  Before criticizing somebody, I try to imagine ...       2   \n",
       "\n",
       "                        scales  \n",
       "0                Fantasy Scale  \n",
       "1       Empathic Concern Scale  \n",
       "2     Perspective-Taking Scale  \n",
       "3       Empathic Concern Scale  \n",
       "4                Fantasy Scale  \n",
       "...                        ...  \n",
       "1444    Empathic Concern Scale  \n",
       "1445             Fantasy Scale  \n",
       "1446  Perspective-Taking Scale  \n",
       "1447             Fantasy Scale  \n",
       "1448  Perspective-Taking Scale  \n",
       "\n",
       "[1449 rows x 4 columns]"
      ]
     },
     "execution_count": 44,
     "metadata": {},
     "output_type": "execute_result"
    }
   ],
   "source": [
    "df_iri['scales'] = df_iri['questions'].replace(scales)\n",
    "df_iri"
   ]
  },
  {
   "cell_type": "code",
   "execution_count": 45,
   "metadata": {},
   "outputs": [
    {
     "data": {
      "text/html": [
       "<div>\n",
       "<style scoped>\n",
       "    .dataframe tbody tr th:only-of-type {\n",
       "        vertical-align: middle;\n",
       "    }\n",
       "\n",
       "    .dataframe tbody tr th {\n",
       "        vertical-align: top;\n",
       "    }\n",
       "\n",
       "    .dataframe thead th {\n",
       "        text-align: right;\n",
       "    }\n",
       "</style>\n",
       "<table border=\"1\" class=\"dataframe\">\n",
       "  <thead>\n",
       "    <tr style=\"text-align: right;\">\n",
       "      <th></th>\n",
       "      <th>subject</th>\n",
       "      <th>scores</th>\n",
       "    </tr>\n",
       "  </thead>\n",
       "  <tbody>\n",
       "    <tr>\n",
       "      <th>2</th>\n",
       "      <td>0</td>\n",
       "      <td>1</td>\n",
       "    </tr>\n",
       "    <tr>\n",
       "      <th>6</th>\n",
       "      <td>0</td>\n",
       "      <td>2</td>\n",
       "    </tr>\n",
       "    <tr>\n",
       "      <th>8</th>\n",
       "      <td>0</td>\n",
       "      <td>3</td>\n",
       "    </tr>\n",
       "    <tr>\n",
       "      <th>11</th>\n",
       "      <td>0</td>\n",
       "      <td>2</td>\n",
       "    </tr>\n",
       "    <tr>\n",
       "      <th>15</th>\n",
       "      <td>0</td>\n",
       "      <td>4</td>\n",
       "    </tr>\n",
       "    <tr>\n",
       "      <th>...</th>\n",
       "      <td>...</td>\n",
       "      <td>...</td>\n",
       "    </tr>\n",
       "    <tr>\n",
       "      <th>1436</th>\n",
       "      <td>68</td>\n",
       "      <td>3</td>\n",
       "    </tr>\n",
       "    <tr>\n",
       "      <th>1439</th>\n",
       "      <td>68</td>\n",
       "      <td>0</td>\n",
       "    </tr>\n",
       "    <tr>\n",
       "      <th>1443</th>\n",
       "      <td>68</td>\n",
       "      <td>3</td>\n",
       "    </tr>\n",
       "    <tr>\n",
       "      <th>1446</th>\n",
       "      <td>68</td>\n",
       "      <td>1</td>\n",
       "    </tr>\n",
       "    <tr>\n",
       "      <th>1448</th>\n",
       "      <td>68</td>\n",
       "      <td>2</td>\n",
       "    </tr>\n",
       "  </tbody>\n",
       "</table>\n",
       "<p>483 rows × 2 columns</p>\n",
       "</div>"
      ],
      "text/plain": [
       "      subject  scores\n",
       "2           0       1\n",
       "6           0       2\n",
       "8           0       3\n",
       "11          0       2\n",
       "15          0       4\n",
       "...       ...     ...\n",
       "1436       68       3\n",
       "1439       68       0\n",
       "1443       68       3\n",
       "1446       68       1\n",
       "1448       68       2\n",
       "\n",
       "[483 rows x 2 columns]"
      ]
     },
     "execution_count": 45,
     "metadata": {},
     "output_type": "execute_result"
    }
   ],
   "source": [
    "df_iri.loc[df_iri['scales']=='Perspective-Taking Scale', ['subject', 'scores']]"
   ]
  },
  {
   "cell_type": "code",
   "execution_count": 46,
   "metadata": {},
   "outputs": [
    {
     "data": {
      "text/plain": [
       "(0.4507723320842456, array([0.227, 0.628]))"
      ]
     },
     "execution_count": 46,
     "metadata": {},
     "output_type": "execute_result"
    }
   ],
   "source": [
    "pg.cronbach_alpha(data=df_iri[df_iri['scales']=='Perspective-Taking Scale'], items='questions', subject='subject', scores='scores')"
   ]
  },
  {
   "cell_type": "code",
   "execution_count": 47,
   "metadata": {},
   "outputs": [
    {
     "data": {
      "text/plain": [
       "(0.30894989398504663, array([0.028, 0.532]))"
      ]
     },
     "execution_count": 47,
     "metadata": {},
     "output_type": "execute_result"
    }
   ],
   "source": [
    "pg.cronbach_alpha(data=df_iri[df_iri['scales']=='Empathic Concern Scale'], items='questions', subject='subject', scores='scores')"
   ]
  },
  {
   "cell_type": "code",
   "execution_count": 48,
   "metadata": {},
   "outputs": [
    {
     "data": {
      "text/plain": [
       "(0.25630059053256027, array([-0.046,  0.496]))"
      ]
     },
     "execution_count": 48,
     "metadata": {},
     "output_type": "execute_result"
    }
   ],
   "source": [
    "pg.cronbach_alpha(data=df_iri[df_iri['scales']=='Fantasy Scale'], items='questions', subject='subject', scores='scores')"
   ]
  },
  {
   "cell_type": "markdown",
   "metadata": {},
   "source": [
    "### Is the data normal?"
   ]
  },
  {
   "cell_type": "code",
   "execution_count": 49,
   "metadata": {},
   "outputs": [
    {
     "name": "stdout",
     "output_type": "stream",
     "text": [
      "In the Empathic Concern Scale and condition 'OC' the p value = 0.22186742209812674\n",
      "In the Empathic Concern Scale and condition 'RC' the p value = 0.7807923575093265\n",
      "In the Empathic Concern Scale and condition 'HC' the p value = 0.08414395382003328\n",
      "In the Empathic Concern Scale through all conditions the p value = 0.3777182890811116\n",
      "In the Fantasy Scale and condition 'OC' the p value = 0.6475929239738479\n",
      "In the Fantasy Scale and condition 'RC' the p value = 0.341073739879798\n",
      "In the Fantasy Scale and condition 'HC' the p value = 0.6902439998250957\n",
      "In the Fantasy Scale through all conditions the p value = 0.42211761825855443\n",
      "In the Perspective-Taking Scale and condition 'OC' the p value = 0.7632732418217016\n",
      "In the Perspective-Taking Scale and condition 'RC' the p value = 0.33922075153788533\n",
      "In the Perspective-Taking Scale and condition 'HC' the p value = 0.5396560195212399\n",
      "In the Perspective-Taking Scale through all conditions the p value = 0.789422564594749\n"
     ]
    }
   ],
   "source": [
    "metric = ['Empathic Concern Scale', 'Fantasy Scale', 'Perspective-Taking Scale']\n",
    "condition = [\"OC\", \"RC\", \"HC\"]\n",
    "for m in metric:\n",
    "    for c in condition:\n",
    "        _, p = normaltest(df.loc[df[\"Condition\"]==c, m])\n",
    "        print(f\"In the {m} and condition '{c}' the p value = {p}\")\n",
    "    _, p = normaltest(df[m])\n",
    "    print(f\"In the {m} through all conditions the p value = {p}\")"
   ]
  },
  {
   "cell_type": "markdown",
   "metadata": {},
   "source": [
    "### Kruskal"
   ]
  },
  {
   "cell_type": "code",
   "execution_count": 50,
   "metadata": {},
   "outputs": [
    {
     "data": {
      "text/plain": [
       "KruskalResult(statistic=1.0634700654119054, pvalue=0.587584606243013)"
      ]
     },
     "execution_count": 50,
     "metadata": {},
     "output_type": "execute_result"
    }
   ],
   "source": [
    "metric = 'Empathic Concern Scale'\n",
    "stats.kruskal(df.loc[df[\"Condition\"]=='OC', metric], df.loc[df[\"Condition\"]=='RC', metric], df.loc[df[\"Condition\"]=='HC', metric])"
   ]
  },
  {
   "cell_type": "code",
   "execution_count": 51,
   "metadata": {},
   "outputs": [
    {
     "data": {
      "text/plain": [
       "KruskalResult(statistic=1.1881074286537714, pvalue=0.5520847486498133)"
      ]
     },
     "execution_count": 51,
     "metadata": {},
     "output_type": "execute_result"
    }
   ],
   "source": [
    "metric = 'Fantasy Scale'\n",
    "stats.kruskal(df.loc[df[\"Condition\"]=='OC', metric], df.loc[df[\"Condition\"]=='RC', metric], df.loc[df[\"Condition\"]=='HC', metric])"
   ]
  },
  {
   "cell_type": "code",
   "execution_count": 52,
   "metadata": {},
   "outputs": [
    {
     "data": {
      "text/plain": [
       "KruskalResult(statistic=1.1456617047553528, pvalue=0.5639267835127747)"
      ]
     },
     "execution_count": 52,
     "metadata": {},
     "output_type": "execute_result"
    }
   ],
   "source": [
    "metric = 'Perspective-Taking Scale'\n",
    "stats.kruskal(df.loc[df[\"Condition\"]=='OC', metric], df.loc[df[\"Condition\"]=='RC', metric], df.loc[df[\"Condition\"]=='HC', metric])"
   ]
  },
  {
   "cell_type": "markdown",
   "metadata": {},
   "source": [
    "### Discretize data"
   ]
  },
  {
   "cell_type": "code",
   "execution_count": 53,
   "metadata": {},
   "outputs": [
    {
     "data": {
      "image/png": "[encoded data removed]",
      "text/plain": [
       "<Figure size 700x350 with 1 Axes>"
      ]
     },
     "metadata": {},
     "output_type": "display_data"
    }
   ],
   "source": [
    "plt.figure(figsize=(7.0, 3.5))\n",
    "sns.histplot(data=df.fillna(0), x=\"Number of sentences read\", hue=\"Condition\", binwidth=10, kde=True, multiple=\"dodge\", alpha=.95)\n",
    "plt.ylabel(\"Number of participants\")\n",
    "plt.xticks(np.arange(0, 151, step=10))\n",
    "plt.yticks([4 ,8, 12, 16])\n",
    "\n",
    "# OC - RC: P=1.96403e-02\n",
    "plt.plot([93, 89, 89, 93], [15.2, 15.2, 13.9, 13.9], lw=1, c=col)\n",
    "plt.text(86, 14.25, \"*\", ha='center', va='center', color=col)\n",
    "\n",
    "# RC - HC: 2.66365e-04\n",
    "plt.plot([93, 89, 89, 93], [13.6, 13.6, 12.3, 12.3], lw=1, c=col)\n",
    "plt.text(84, 12.65, \"***\", ha='center', va='center', color=col)\n",
    "\n",
    "# OC - HC: 2.00109e-02\n",
    "plt.plot([93, 79, 79, 93], [15.5, 15.5, 12, 12], lw=1, c=col)\n",
    "plt.text(76, 13.6, \"*\", ha='center', va='center', color=col)\n",
    "\n",
    "plt.legend([\"object-centered\", \"robot-centered\", \"human-centered\"])",
    "\n",
    "plt.savefig(\"figures/Sentences read grouped dodge.pdf\",bbox_inches='tight')"
   ]
  },
  {
   "cell_type": "code",
   "execution_count": 54,
   "metadata": {},
   "outputs": [
    {
     "name": "stdout",
     "output_type": "stream",
     "text": [
      "~~~~~~~~~~~~~~~one way ANOVA~~~~~~~~~~~~~~~\n",
      "F_onewayResult(statistic=11.02688981888106, pvalue=7.383559724802273e-05)\n",
      "~~~~~~~~~~~~~~~~~~T-test~~~~~~~~~~~~~~~~~~~~\n",
      "HC vs OC: 1.55511e-02\n",
      "HC vs RC: 1.13675e-04\n",
      "OC vs RC: 1.45968e-02\n",
      "~~~~~~~~~~~~~~~~~~~~~~~~~~~~~~~~~~~~~~~~~~~\n"
     ]
    }
   ],
   "source": [
    "ttest(df, \"Number of sentences read\")"
   ]
  },
  {
   "cell_type": "code",
   "execution_count": 55,
   "metadata": {},
   "outputs": [
    {
     "name": "stdout",
     "output_type": "stream",
     "text": [
      "~~~~~~~~~~~~~~~one way ANOVA~~~~~~~~~~~~~~~\n",
      "F_onewayResult(statistic=9.899616591146742, pvalue=0.0001737790668614395)\n",
      "~~~~~~~~~~~~~~~~~~T-test~~~~~~~~~~~~~~~~~~~~\n",
      "HC vs OC: 1.96403e-02\n",
      "HC vs RC: 2.66365e-04\n",
      "OC vs RC: 2.00109e-02\n",
      "~~~~~~~~~~~~~~~~~~~~~~~~~~~~~~~~~~~~~~~~~~~\n"
     ]
    }
   ],
   "source": [
    "df2 = df.fillna(0).copy()\n",
    "df2[\"Number of sentences read\"] = np.floor(df[\"Number of sentences read\"].fillna(0) / 10)\n",
    "ttest(df2, \"Number of sentences read\")"
   ]
  },
  {
   "attachments": {},
   "cell_type": "markdown",
   "metadata": {},
   "source": [
    "### IRI Distributions"
   ]
  },
  {
   "cell_type": "code",
   "execution_count": 56,
   "metadata": {},
   "outputs": [
    {
     "name": "stderr",
     "output_type": "stream",
     "text": [
      "c:\\Users\\Convidado\\Desktop\\Development\\HRI2023---Conference-Paper\\env\\lib\\site-packages\\ipykernel_launcher.py:9: UserWarning: FixedFormatter should only be used together with FixedLocator\n",
      "  if __name__ == \"__main__\":\n",
      "c:\\Users\\Convidado\\Desktop\\Development\\HRI2023---Conference-Paper\\env\\lib\\site-packages\\ipykernel_launcher.py:17: UserWarning: FixedFormatter should only be used together with FixedLocator\n",
      "  app.launch_new_instance()\n",
      "c:\\Users\\Convidado\\Desktop\\Development\\HRI2023---Conference-Paper\\env\\lib\\site-packages\\ipykernel_launcher.py:25: UserWarning: FixedFormatter should only be used together with FixedLocator\n"
     ]
    },
    {
     "data": {
      "image/png": "[encoded data removed]",
      "text/plain": [
       "<Figure size 770x385 with 3 Axes>"
      ]
     },
     "metadata": {},
     "output_type": "display_data"
    }
   ],
   "source": [
    "alpha=.6\n",
    "binwidth=.2\n",
    "multiple=\"layer\"\n",
    "\n",
    "fig, axes = plt.subplots(3, figsize=(7.7, 3.85))\n",
    "\n",
    "sns.histplot(data=df.fillna(0), x='Perspective-Taking Scale', hue=\"Condition\", hue_order=['OC','RC','HC'], binwidth=binwidth, kde=True, alpha=alpha, multiple=multiple, ax=axes[0], legend=False)\n",
    "sns.despine(top=False, right=False, left=False, bottom=True, ax=axes[0])\n",
    "axes[0].set_xticklabels([-.5, 0, .5, 1, 1.5, 2, 2.5, 3],fontdict={'fontsize': 0}, color='w')\n",
    "axes[0].set_xlim(-.5,3)\n",
    "axes[0].set_ylabel(\"\")\n",
    "axes[0].set_xlabel(\"\")\n",
    "plt.text(-.4,20, \"Perspective-taking scale\")\n",
    "\n",
    "sns.histplot(data=df.fillna(0), x='Empathic Concern Scale', hue=\"Condition\", hue_order=['OC','RC','HC'], binwidth=binwidth, kde=True, alpha=alpha, multiple=multiple, ax=axes[1], legend=False)\n",
    "sns.despine(top=True, right=False, left=False, bottom=True, ax=axes[1])\n",
    "axes[1].set_xticklabels([-.5, 0, .5, 1, 1.5, 2, 2.5, 3],fontdict={'fontsize': 0}, color='w')\n",
    "axes[1].set_xlim(-.5,3) \n",
    "axes[1].set_ylabel(\"Number of participants\")\n",
    "axes[1].set_xlabel(\"\")\n",
    "plt.text(-.4,12.5, \"Empathic concern scale\")\n",
    "\n",
    "handles = sns.histplot(data=df.fillna(0), x='Fantasy Scale', hue=\"Condition\", hue_order=['OC','RC','HC'], binwidth=binwidth, kde=True, alpha=alpha, multiple=multiple, ax=axes[2], legend=True)\n",
    "sns.despine(top=True, right=False, left=False, bottom=False, ax=axes[2])\n",
    "axes[2].set_xticklabels([-.5, 0, .5, 1, 1.5, 2, 2.5, 3])\n",
    "axes[2].set_xlim(-.5,3)\n",
    "axes[2].set_ylabel(\"\")\n",
    "axes[2].set_xlabel(\" Scores\")\n",
    "plt.text(-.4,5, \"Fantasy scale\")\n",
    "\n",
    "plt.savefig(\"figures/IRI Distribution.pdf\",bbox_inches='tight')"
   ]
  },
  {
   "cell_type": "markdown",
   "metadata": {},
   "source": [
    "# DONE"
   ]
  },
  {
   "cell_type": "code",
   "execution_count": 57,
   "metadata": {},
   "outputs": [],
   "source": [
    "from pingouin import ancova"
   ]
  },
  {
   "cell_type": "code",
   "execution_count": 58,
   "metadata": {},
   "outputs": [
    {
     "data": {
      "text/html": [
       "<div>\n",
       "<style scoped>\n",
       "    .dataframe tbody tr th:only-of-type {\n",
       "        vertical-align: middle;\n",
       "    }\n",
       "\n",
       "    .dataframe tbody tr th {\n",
       "        vertical-align: top;\n",
       "    }\n",
       "\n",
       "    .dataframe thead th {\n",
       "        text-align: right;\n",
       "    }\n",
       "</style>\n",
       "<table border=\"1\" class=\"dataframe\">\n",
       "  <thead>\n",
       "    <tr style=\"text-align: right;\">\n",
       "      <th></th>\n",
       "      <th>Source</th>\n",
       "      <th>SS</th>\n",
       "      <th>DF</th>\n",
       "      <th>F</th>\n",
       "      <th>p-unc</th>\n",
       "      <th>np2</th>\n",
       "    </tr>\n",
       "  </thead>\n",
       "  <tbody>\n",
       "    <tr>\n",
       "      <th>0</th>\n",
       "      <td>Condition</td>\n",
       "      <td>6163.757535</td>\n",
       "      <td>2</td>\n",
       "      <td>3.613341</td>\n",
       "      <td>0.033424</td>\n",
       "      <td>0.114298</td>\n",
       "    </tr>\n",
       "    <tr>\n",
       "      <th>1</th>\n",
       "      <td>Perspective taking task time [min]</td>\n",
       "      <td>362.356046</td>\n",
       "      <td>1</td>\n",
       "      <td>0.424843</td>\n",
       "      <td>0.517196</td>\n",
       "      <td>0.007529</td>\n",
       "    </tr>\n",
       "    <tr>\n",
       "      <th>2</th>\n",
       "      <td>Residual</td>\n",
       "      <td>47763.338182</td>\n",
       "      <td>56</td>\n",
       "      <td>NaN</td>\n",
       "      <td>NaN</td>\n",
       "      <td>NaN</td>\n",
       "    </tr>\n",
       "  </tbody>\n",
       "</table>\n",
       "</div>"
      ],
      "text/plain": [
       "                               Source            SS  DF         F     p-unc  \\\n",
       "0                           Condition   6163.757535   2  3.613341  0.033424   \n",
       "1  Perspective taking task time [min]    362.356046   1  0.424843  0.517196   \n",
       "2                            Residual  47763.338182  56       NaN       NaN   \n",
       "\n",
       "        np2  \n",
       "0  0.114298  \n",
       "1  0.007529  \n",
       "2       NaN  "
      ]
     },
     "execution_count": 58,
     "metadata": {},
     "output_type": "execute_result"
    }
   ],
   "source": [
    "ancova(data=df, covar='Perspective taking task time [min]', dv='Number of sentences read', between='Condition')"
   ]
  },
  {
   "cell_type": "code",
   "execution_count": 59,
   "metadata": {},
   "outputs": [
    {
     "name": "stdout",
     "output_type": "stream",
     "text": [
      "Done running\n"
     ]
    }
   ],
   "source": [
    "print(\"Done running\")"
   ]
  }
 ],
 "metadata": {
  "kernelspec": {
   "display_name": "Python 3.7.9 ('env': venv)",
   "language": "python",
   "name": "python3"
  },
  "language_info": {
   "codemirror_mode": {
    "name": "ipython",
    "version": 3
   },
   "file_extension": ".py",
   "mimetype": "text/x-python",
   "name": "python",
   "nbconvert_exporter": "python",
   "pygments_lexer": "ipython3",
   "version": "3.7.9"
  },
  "orig_nbformat": 4,
  "vscode": {
   "interpreter": {
    "hash": "4dd98912c686ac9c7a00d647d487bb41f7d08b98892de0deb7938a499d120127"
   }
  }
 },
 "nbformat": 4,
 "nbformat_minor": 2
}
