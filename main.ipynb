{
 "cells": [
  {
   "cell_type": "code",
   "execution_count": 1,
   "metadata": {},
   "outputs": [],
   "source": [
    "import pandas as pd\n",
    "import seaborn as sns"
   ]
  },
  {
   "cell_type": "code",
   "execution_count": 9,
   "metadata": {},
   "outputs": [
    {
     "data": {
      "text/plain": [
       "(69, 92)"
      ]
     },
     "execution_count": 9,
     "metadata": {},
     "output_type": "execute_result"
    }
   ],
   "source": [
    "df = pd.read_csv('results.csv', index_col=\"Unnamed: 0\")  # TODO eliminate all unused columns\n",
    "df.shape"
   ]
  },
  {
   "cell_type": "code",
   "execution_count": 10,
   "metadata": {},
   "outputs": [
    {
     "name": "stdout",
     "output_type": "stream",
     "text": [
      "Index(['Condition', 'Help Q1', 'Help Q10', 'Help Q11', 'Help Q12', 'Help Q13',\n",
      "       'Help Q14', 'Help Q15', 'Help Q2', 'Help Q3', 'Help Q4', 'Help Q5',\n",
      "       'Help Q6', 'Help Q7', 'Help Q8', 'Help Q9', 'Mental Model Q1',\n",
      "       'Mental Model Q15', 'Mental Model Q8', 'Mistakes Q1', 'Mistakes Q10',\n",
      "       'Mistakes Q11', 'Mistakes Q12', 'Mistakes Q13', 'Mistakes Q14',\n",
      "       'Mistakes Q15', 'Mistakes Q2', 'Mistakes Q3', 'Mistakes Q4',\n",
      "       'Mistakes Q5', 'Mistakes Q6', 'Mistakes Q7', 'Mistakes Q8',\n",
      "       'Mistakes Q9', 'Perspective taking task time [min]', 'Time Q1',\n",
      "       'Time Q10', 'Time Q11', 'Time Q12', 'Time Q13', 'Time Q14', 'Time Q15',\n",
      "       'Time Q2', 'Time Q3', 'Time Q4', 'Time Q5', 'Time Q6', 'Time Q7',\n",
      "       'Time Q8', 'Time Q9', 'Tries Q1', 'Tries Q10', 'Tries Q11', 'Tries Q12',\n",
      "       'Tries Q13', 'Tries Q14', 'Tries Q15', 'Tries Q2', 'Tries Q3',\n",
      "       'Tries Q4', 'Tries Q5', 'Tries Q6', 'Tries Q7', 'Tries Q8', 'Tries Q9',\n",
      "       'Sentences read', 'Sentences read prior guess',\n",
      "       'Prosocial behaviour stopping time', 'Total mistakes', 'Total help',\n",
      "       'Total tries', 'Total scanning time [min]', 'Age', 'Gender',\n",
      "       'Nationality', 'Education', 'Studies', 'Interactions with SORO',\n",
      "       'Did you read sentences to the robot?',\n",
      "       'Instructions easy to follow [1-7]', 'Sentences read post guess',\n",
      "       'Do you think the manner the robot addressed the object influenced how much time you spent helping it?',\n",
      "       'If you were to tell the robot to pick up the objects how would you do it?',\n",
      "       'Communicative skills [1-7]', 'Caring [1-7]', 'Likeable [1-7]',\n",
      "       'Empathetic [1-7]', 'Need for collecting data [1-7]',\n",
      "       'Prosocial behaviour time [min]', 'Perspective-Taking Scale',\n",
      "       'Empathic Concern Scale', 'Fantasy Scale'],\n",
      "      dtype='object')\n"
     ]
    }
   ],
   "source": [
    "print(df.columns)"
   ]
  },
  {
   "cell_type": "code",
   "execution_count": 12,
   "metadata": {},
   "outputs": [],
   "source": [
    "df.drop(\"Prosocial behaviour stopping time\", axis=1, inplace=True)"
   ]
  }
 ],
 "metadata": {
  "kernelspec": {
   "display_name": "Python 3.7.4 64-bit",
   "language": "python",
   "name": "python3"
  },
  "language_info": {
   "codemirror_mode": {
    "name": "ipython",
    "version": 3
   },
   "file_extension": ".py",
   "mimetype": "text/x-python",
   "name": "python",
   "nbconvert_exporter": "python",
   "pygments_lexer": "ipython3",
   "version": "3.7.4"
  },
  "orig_nbformat": 4,
  "vscode": {
   "interpreter": {
    "hash": "aee8b7b246df8f9039afb4144a1f6fd8d2ca17a180786b69acc140d282b71a49"
   }
  }
 },
 "nbformat": 4,
 "nbformat_minor": 2
}
